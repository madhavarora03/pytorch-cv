{
 "cells": [
  {
   "cell_type": "markdown",
   "id": "48782852",
   "metadata": {
    "_cell_guid": "b1076dfc-b9ad-4769-8c92-a6c4dae69d19",
    "_uuid": "8f2839f25d086af736a60e9eeb907d3b93b6e0e5",
    "papermill": {
     "duration": 0.014884,
     "end_time": "2024-12-29T17:08:40.263570",
     "exception": false,
     "start_time": "2024-12-29T17:08:40.248686",
     "status": "completed"
    },
    "tags": []
   },
   "source": [
    "# PyTorch Computer Vision"
   ]
  },
  {
   "cell_type": "markdown",
   "id": "36913d4a",
   "metadata": {
    "papermill": {
     "duration": 0.011633,
     "end_time": "2024-12-29T17:08:40.287401",
     "exception": false,
     "start_time": "2024-12-29T17:08:40.275768",
     "status": "completed"
    },
    "tags": []
   },
   "source": [
    "## 0. Computer Vision Libraries in PyTorch\n",
    "\n",
    "* `torchvision` - base domain library for PyTorch computer vision\n",
    "* `torchvision.datasets` - get datasets and data loading functoins for computer vision\n",
    "* `torchvision.model` - get pretrained computer vision models\n",
    "* `torchvision.transforms` - functions for manipulating vision data (images) to be suitable with an image model\n",
    "* `torch.utils.data.Dataset` - base dataset class for PyTorch\n",
    "* `torch.utils.data.DataLoader` - creates a Python iterable over a dataset"
   ]
  },
  {
   "cell_type": "code",
   "execution_count": 1,
   "id": "742b699c",
   "metadata": {
    "execution": {
     "iopub.execute_input": "2024-12-29T17:08:40.312862Z",
     "iopub.status.busy": "2024-12-29T17:08:40.312470Z",
     "iopub.status.idle": "2024-12-29T17:08:44.599442Z",
     "shell.execute_reply": "2024-12-29T17:08:44.598447Z"
    },
    "papermill": {
     "duration": 4.301094,
     "end_time": "2024-12-29T17:08:44.600740",
     "exception": false,
     "start_time": "2024-12-29T17:08:40.299646",
     "status": "completed"
    },
    "tags": []
   },
   "outputs": [
    {
     "name": "stdout",
     "output_type": "stream",
     "text": [
      "torch version: 2.4.1+cu121\n",
      "torchvision version: 0.19.1+cu121\n"
     ]
    }
   ],
   "source": [
    "import torch\n",
    "from torch import nn\n",
    "import torchvision\n",
    "from torchvision import datasets\n",
    "from torchvision import transforms\n",
    "from torchvision.transforms import ToTensor\n",
    "import matplotlib.pyplot as plt\n",
    "\n",
    "print(f\"torch version: {torch.__version__}\")\n",
    "print(f\"torchvision version: {torchvision.__version__}\")"
   ]
  },
  {
   "cell_type": "markdown",
   "id": "5321be36",
   "metadata": {
    "papermill": {
     "duration": 0.011751,
     "end_time": "2024-12-29T17:08:44.624914",
     "exception": false,
     "start_time": "2024-12-29T17:08:44.613163",
     "status": "completed"
    },
    "tags": []
   },
   "source": [
    "## 1. Getting a dataset\n",
    "\n",
    "The dataset we will be using is FashionMNIST from `torchvision.datasets`."
   ]
  },
  {
   "cell_type": "code",
   "execution_count": 2,
   "id": "323aa877",
   "metadata": {
    "execution": {
     "iopub.execute_input": "2024-12-29T17:08:44.649484Z",
     "iopub.status.busy": "2024-12-29T17:08:44.649100Z",
     "iopub.status.idle": "2024-12-29T17:08:51.176667Z",
     "shell.execute_reply": "2024-12-29T17:08:51.175919Z"
    },
    "papermill": {
     "duration": 6.541634,
     "end_time": "2024-12-29T17:08:51.178338",
     "exception": false,
     "start_time": "2024-12-29T17:08:44.636704",
     "status": "completed"
    },
    "tags": []
   },
   "outputs": [
    {
     "name": "stdout",
     "output_type": "stream",
     "text": [
      "Downloading http://fashion-mnist.s3-website.eu-central-1.amazonaws.com/train-images-idx3-ubyte.gz\n",
      "Downloading http://fashion-mnist.s3-website.eu-central-1.amazonaws.com/train-images-idx3-ubyte.gz to /kaggle/working/data/FashionMNIST/raw/train-images-idx3-ubyte.gz\n"
     ]
    },
    {
     "name": "stderr",
     "output_type": "stream",
     "text": [
      "100%|██████████| 26421880/26421880 [00:02<00:00, 13017023.99it/s]\n"
     ]
    },
    {
     "name": "stdout",
     "output_type": "stream",
     "text": [
      "Extracting /kaggle/working/data/FashionMNIST/raw/train-images-idx3-ubyte.gz to /kaggle/working/data/FashionMNIST/raw\n",
      "\n",
      "Downloading http://fashion-mnist.s3-website.eu-central-1.amazonaws.com/train-labels-idx1-ubyte.gz\n",
      "Downloading http://fashion-mnist.s3-website.eu-central-1.amazonaws.com/train-labels-idx1-ubyte.gz to /kaggle/working/data/FashionMNIST/raw/train-labels-idx1-ubyte.gz\n"
     ]
    },
    {
     "name": "stderr",
     "output_type": "stream",
     "text": [
      "100%|██████████| 29515/29515 [00:00<00:00, 210588.88it/s]\n"
     ]
    },
    {
     "name": "stdout",
     "output_type": "stream",
     "text": [
      "Extracting /kaggle/working/data/FashionMNIST/raw/train-labels-idx1-ubyte.gz to /kaggle/working/data/FashionMNIST/raw\n",
      "\n",
      "Downloading http://fashion-mnist.s3-website.eu-central-1.amazonaws.com/t10k-images-idx3-ubyte.gz\n",
      "Downloading http://fashion-mnist.s3-website.eu-central-1.amazonaws.com/t10k-images-idx3-ubyte.gz to /kaggle/working/data/FashionMNIST/raw/t10k-images-idx3-ubyte.gz\n"
     ]
    },
    {
     "name": "stderr",
     "output_type": "stream",
     "text": [
      "100%|██████████| 4422102/4422102 [00:01<00:00, 3921180.81it/s]\n"
     ]
    },
    {
     "name": "stdout",
     "output_type": "stream",
     "text": [
      "Extracting /kaggle/working/data/FashionMNIST/raw/t10k-images-idx3-ubyte.gz to /kaggle/working/data/FashionMNIST/raw\n",
      "\n",
      "Downloading http://fashion-mnist.s3-website.eu-central-1.amazonaws.com/t10k-labels-idx1-ubyte.gz\n",
      "Downloading http://fashion-mnist.s3-website.eu-central-1.amazonaws.com/t10k-labels-idx1-ubyte.gz to /kaggle/working/data/FashionMNIST/raw/t10k-labels-idx1-ubyte.gz\n"
     ]
    },
    {
     "name": "stderr",
     "output_type": "stream",
     "text": [
      "100%|██████████| 5148/5148 [00:00<00:00, 10028925.68it/s]"
     ]
    },
    {
     "name": "stdout",
     "output_type": "stream",
     "text": [
      "Extracting /kaggle/working/data/FashionMNIST/raw/t10k-labels-idx1-ubyte.gz to /kaggle/working/data/FashionMNIST/raw\n",
      "\n"
     ]
    },
    {
     "name": "stderr",
     "output_type": "stream",
     "text": [
      "\n"
     ]
    }
   ],
   "source": [
    "# Setup Training data\n",
    "train_data = datasets.FashionMNIST(\n",
    "    root='/kaggle/working/data',                 # where to download data to\n",
    "    train=True,                                  # do we want the training dataset?\n",
    "    download=True,                               # do we want to download?\n",
    "    transform=torchvision.transforms.ToTensor(), # how to transform the data?\n",
    "    target_transform=None                        # how to transform the labels?\n",
    ")\n",
    "\n",
    "test_data = datasets.FashionMNIST(\n",
    "    root='/kaggle/working/data',                 # where to download data to\n",
    "    train=False,                                 # do we want the training dataset?\n",
    "    download=True,                               # do we want to download?\n",
    "    transform=torchvision.transforms.ToTensor(), # how to transform the data?\n",
    "    target_transform=None                        # how to transform the labels?\n",
    ")"
   ]
  },
  {
   "cell_type": "code",
   "execution_count": 3,
   "id": "c7bc94ed",
   "metadata": {
    "execution": {
     "iopub.execute_input": "2024-12-29T17:08:51.207814Z",
     "iopub.status.busy": "2024-12-29T17:08:51.207545Z",
     "iopub.status.idle": "2024-12-29T17:08:51.213292Z",
     "shell.execute_reply": "2024-12-29T17:08:51.212494Z"
    },
    "papermill": {
     "duration": 0.021519,
     "end_time": "2024-12-29T17:08:51.214502",
     "exception": false,
     "start_time": "2024-12-29T17:08:51.192983",
     "status": "completed"
    },
    "tags": []
   },
   "outputs": [
    {
     "data": {
      "text/plain": [
       "(60000, 10000)"
      ]
     },
     "execution_count": 3,
     "metadata": {},
     "output_type": "execute_result"
    }
   ],
   "source": [
    "len(train_data), len(test_data)"
   ]
  },
  {
   "cell_type": "code",
   "execution_count": 4,
   "id": "72c328f5",
   "metadata": {
    "execution": {
     "iopub.execute_input": "2024-12-29T17:08:51.243408Z",
     "iopub.status.busy": "2024-12-29T17:08:51.243125Z",
     "iopub.status.idle": "2024-12-29T17:08:51.300475Z",
     "shell.execute_reply": "2024-12-29T17:08:51.299631Z"
    },
    "papermill": {
     "duration": 0.073237,
     "end_time": "2024-12-29T17:08:51.301814",
     "exception": false,
     "start_time": "2024-12-29T17:08:51.228577",
     "status": "completed"
    },
    "tags": []
   },
   "outputs": [
    {
     "data": {
      "text/plain": [
       "(tensor([[[0.0000, 0.0000, 0.0000, 0.0000, 0.0000, 0.0000, 0.0000, 0.0000,\n",
       "           0.0000, 0.0000, 0.0000, 0.0000, 0.0000, 0.0000, 0.0000, 0.0000,\n",
       "           0.0000, 0.0000, 0.0000, 0.0000, 0.0000, 0.0000, 0.0000, 0.0000,\n",
       "           0.0000, 0.0000, 0.0000, 0.0000],\n",
       "          [0.0000, 0.0000, 0.0000, 0.0000, 0.0000, 0.0000, 0.0000, 0.0000,\n",
       "           0.0000, 0.0000, 0.0000, 0.0000, 0.0000, 0.0000, 0.0000, 0.0000,\n",
       "           0.0000, 0.0000, 0.0000, 0.0000, 0.0000, 0.0000, 0.0000, 0.0000,\n",
       "           0.0000, 0.0000, 0.0000, 0.0000],\n",
       "          [0.0000, 0.0000, 0.0000, 0.0000, 0.0000, 0.0000, 0.0000, 0.0000,\n",
       "           0.0000, 0.0000, 0.0000, 0.0000, 0.0000, 0.0000, 0.0000, 0.0000,\n",
       "           0.0000, 0.0000, 0.0000, 0.0000, 0.0000, 0.0000, 0.0000, 0.0000,\n",
       "           0.0000, 0.0000, 0.0000, 0.0000],\n",
       "          [0.0000, 0.0000, 0.0000, 0.0000, 0.0000, 0.0000, 0.0000, 0.0000,\n",
       "           0.0000, 0.0000, 0.0000, 0.0000, 0.0039, 0.0000, 0.0000, 0.0510,\n",
       "           0.2863, 0.0000, 0.0000, 0.0039, 0.0157, 0.0000, 0.0000, 0.0000,\n",
       "           0.0000, 0.0039, 0.0039, 0.0000],\n",
       "          [0.0000, 0.0000, 0.0000, 0.0000, 0.0000, 0.0000, 0.0000, 0.0000,\n",
       "           0.0000, 0.0000, 0.0000, 0.0000, 0.0118, 0.0000, 0.1412, 0.5333,\n",
       "           0.4980, 0.2431, 0.2118, 0.0000, 0.0000, 0.0000, 0.0039, 0.0118,\n",
       "           0.0157, 0.0000, 0.0000, 0.0118],\n",
       "          [0.0000, 0.0000, 0.0000, 0.0000, 0.0000, 0.0000, 0.0000, 0.0000,\n",
       "           0.0000, 0.0000, 0.0000, 0.0000, 0.0235, 0.0000, 0.4000, 0.8000,\n",
       "           0.6902, 0.5255, 0.5647, 0.4824, 0.0902, 0.0000, 0.0000, 0.0000,\n",
       "           0.0000, 0.0471, 0.0392, 0.0000],\n",
       "          [0.0000, 0.0000, 0.0000, 0.0000, 0.0000, 0.0000, 0.0000, 0.0000,\n",
       "           0.0000, 0.0000, 0.0000, 0.0000, 0.0000, 0.0000, 0.6078, 0.9255,\n",
       "           0.8118, 0.6980, 0.4196, 0.6118, 0.6314, 0.4275, 0.2510, 0.0902,\n",
       "           0.3020, 0.5098, 0.2824, 0.0588],\n",
       "          [0.0000, 0.0000, 0.0000, 0.0000, 0.0000, 0.0000, 0.0000, 0.0000,\n",
       "           0.0000, 0.0000, 0.0000, 0.0039, 0.0000, 0.2706, 0.8118, 0.8745,\n",
       "           0.8549, 0.8471, 0.8471, 0.6392, 0.4980, 0.4745, 0.4784, 0.5725,\n",
       "           0.5529, 0.3451, 0.6745, 0.2588],\n",
       "          [0.0000, 0.0000, 0.0000, 0.0000, 0.0000, 0.0000, 0.0000, 0.0000,\n",
       "           0.0000, 0.0039, 0.0039, 0.0039, 0.0000, 0.7843, 0.9098, 0.9098,\n",
       "           0.9137, 0.8980, 0.8745, 0.8745, 0.8431, 0.8353, 0.6431, 0.4980,\n",
       "           0.4824, 0.7686, 0.8980, 0.0000],\n",
       "          [0.0000, 0.0000, 0.0000, 0.0000, 0.0000, 0.0000, 0.0000, 0.0000,\n",
       "           0.0000, 0.0000, 0.0000, 0.0000, 0.0000, 0.7176, 0.8824, 0.8471,\n",
       "           0.8745, 0.8941, 0.9216, 0.8902, 0.8784, 0.8706, 0.8784, 0.8667,\n",
       "           0.8745, 0.9608, 0.6784, 0.0000],\n",
       "          [0.0000, 0.0000, 0.0000, 0.0000, 0.0000, 0.0000, 0.0000, 0.0000,\n",
       "           0.0000, 0.0000, 0.0000, 0.0000, 0.0000, 0.7569, 0.8941, 0.8549,\n",
       "           0.8353, 0.7765, 0.7059, 0.8314, 0.8235, 0.8275, 0.8353, 0.8745,\n",
       "           0.8627, 0.9529, 0.7922, 0.0000],\n",
       "          [0.0000, 0.0000, 0.0000, 0.0000, 0.0000, 0.0000, 0.0000, 0.0000,\n",
       "           0.0000, 0.0039, 0.0118, 0.0000, 0.0471, 0.8588, 0.8627, 0.8314,\n",
       "           0.8549, 0.7529, 0.6627, 0.8902, 0.8157, 0.8549, 0.8784, 0.8314,\n",
       "           0.8863, 0.7725, 0.8196, 0.2039],\n",
       "          [0.0000, 0.0000, 0.0000, 0.0000, 0.0000, 0.0000, 0.0000, 0.0000,\n",
       "           0.0000, 0.0000, 0.0235, 0.0000, 0.3882, 0.9569, 0.8706, 0.8627,\n",
       "           0.8549, 0.7961, 0.7765, 0.8667, 0.8431, 0.8353, 0.8706, 0.8627,\n",
       "           0.9608, 0.4667, 0.6549, 0.2196],\n",
       "          [0.0000, 0.0000, 0.0000, 0.0000, 0.0000, 0.0000, 0.0000, 0.0000,\n",
       "           0.0000, 0.0157, 0.0000, 0.0000, 0.2157, 0.9255, 0.8941, 0.9020,\n",
       "           0.8941, 0.9412, 0.9098, 0.8353, 0.8549, 0.8745, 0.9176, 0.8510,\n",
       "           0.8510, 0.8196, 0.3608, 0.0000],\n",
       "          [0.0000, 0.0000, 0.0039, 0.0157, 0.0235, 0.0275, 0.0078, 0.0000,\n",
       "           0.0000, 0.0000, 0.0000, 0.0000, 0.9294, 0.8863, 0.8510, 0.8745,\n",
       "           0.8706, 0.8588, 0.8706, 0.8667, 0.8471, 0.8745, 0.8980, 0.8431,\n",
       "           0.8549, 1.0000, 0.3020, 0.0000],\n",
       "          [0.0000, 0.0118, 0.0000, 0.0000, 0.0000, 0.0000, 0.0000, 0.0000,\n",
       "           0.0000, 0.2431, 0.5686, 0.8000, 0.8941, 0.8118, 0.8353, 0.8667,\n",
       "           0.8549, 0.8157, 0.8275, 0.8549, 0.8784, 0.8745, 0.8588, 0.8431,\n",
       "           0.8784, 0.9569, 0.6235, 0.0000],\n",
       "          [0.0000, 0.0000, 0.0000, 0.0000, 0.0706, 0.1725, 0.3216, 0.4196,\n",
       "           0.7412, 0.8941, 0.8627, 0.8706, 0.8510, 0.8863, 0.7843, 0.8039,\n",
       "           0.8275, 0.9020, 0.8784, 0.9176, 0.6902, 0.7373, 0.9804, 0.9725,\n",
       "           0.9137, 0.9333, 0.8431, 0.0000],\n",
       "          [0.0000, 0.2235, 0.7333, 0.8157, 0.8784, 0.8667, 0.8784, 0.8157,\n",
       "           0.8000, 0.8392, 0.8157, 0.8196, 0.7843, 0.6235, 0.9608, 0.7569,\n",
       "           0.8078, 0.8745, 1.0000, 1.0000, 0.8667, 0.9176, 0.8667, 0.8275,\n",
       "           0.8627, 0.9098, 0.9647, 0.0000],\n",
       "          [0.0118, 0.7922, 0.8941, 0.8784, 0.8667, 0.8275, 0.8275, 0.8392,\n",
       "           0.8039, 0.8039, 0.8039, 0.8627, 0.9412, 0.3137, 0.5882, 1.0000,\n",
       "           0.8980, 0.8667, 0.7373, 0.6039, 0.7490, 0.8235, 0.8000, 0.8196,\n",
       "           0.8706, 0.8941, 0.8824, 0.0000],\n",
       "          [0.3843, 0.9137, 0.7765, 0.8235, 0.8706, 0.8980, 0.8980, 0.9176,\n",
       "           0.9765, 0.8627, 0.7608, 0.8431, 0.8510, 0.9451, 0.2549, 0.2863,\n",
       "           0.4157, 0.4588, 0.6588, 0.8588, 0.8667, 0.8431, 0.8510, 0.8745,\n",
       "           0.8745, 0.8784, 0.8980, 0.1137],\n",
       "          [0.2941, 0.8000, 0.8314, 0.8000, 0.7569, 0.8039, 0.8275, 0.8824,\n",
       "           0.8471, 0.7255, 0.7725, 0.8078, 0.7765, 0.8353, 0.9412, 0.7647,\n",
       "           0.8902, 0.9608, 0.9373, 0.8745, 0.8549, 0.8314, 0.8196, 0.8706,\n",
       "           0.8627, 0.8667, 0.9020, 0.2627],\n",
       "          [0.1882, 0.7961, 0.7176, 0.7608, 0.8353, 0.7725, 0.7255, 0.7451,\n",
       "           0.7608, 0.7529, 0.7922, 0.8392, 0.8588, 0.8667, 0.8627, 0.9255,\n",
       "           0.8824, 0.8471, 0.7804, 0.8078, 0.7294, 0.7098, 0.6941, 0.6745,\n",
       "           0.7098, 0.8039, 0.8078, 0.4510],\n",
       "          [0.0000, 0.4784, 0.8588, 0.7569, 0.7020, 0.6706, 0.7176, 0.7686,\n",
       "           0.8000, 0.8235, 0.8353, 0.8118, 0.8275, 0.8235, 0.7843, 0.7686,\n",
       "           0.7608, 0.7490, 0.7647, 0.7490, 0.7765, 0.7529, 0.6902, 0.6118,\n",
       "           0.6549, 0.6941, 0.8235, 0.3608],\n",
       "          [0.0000, 0.0000, 0.2902, 0.7412, 0.8314, 0.7490, 0.6863, 0.6745,\n",
       "           0.6863, 0.7098, 0.7255, 0.7373, 0.7412, 0.7373, 0.7569, 0.7765,\n",
       "           0.8000, 0.8196, 0.8235, 0.8235, 0.8275, 0.7373, 0.7373, 0.7608,\n",
       "           0.7529, 0.8471, 0.6667, 0.0000],\n",
       "          [0.0078, 0.0000, 0.0000, 0.0000, 0.2588, 0.7843, 0.8706, 0.9294,\n",
       "           0.9373, 0.9490, 0.9647, 0.9529, 0.9569, 0.8667, 0.8627, 0.7569,\n",
       "           0.7490, 0.7020, 0.7137, 0.7137, 0.7098, 0.6902, 0.6510, 0.6588,\n",
       "           0.3882, 0.2275, 0.0000, 0.0000],\n",
       "          [0.0000, 0.0000, 0.0000, 0.0000, 0.0000, 0.0000, 0.0000, 0.1569,\n",
       "           0.2392, 0.1725, 0.2824, 0.1608, 0.1373, 0.0000, 0.0000, 0.0000,\n",
       "           0.0000, 0.0000, 0.0000, 0.0000, 0.0000, 0.0000, 0.0000, 0.0000,\n",
       "           0.0000, 0.0000, 0.0000, 0.0000],\n",
       "          [0.0000, 0.0000, 0.0000, 0.0000, 0.0000, 0.0000, 0.0000, 0.0000,\n",
       "           0.0000, 0.0000, 0.0000, 0.0000, 0.0000, 0.0000, 0.0000, 0.0000,\n",
       "           0.0000, 0.0000, 0.0000, 0.0000, 0.0000, 0.0000, 0.0000, 0.0000,\n",
       "           0.0000, 0.0000, 0.0000, 0.0000],\n",
       "          [0.0000, 0.0000, 0.0000, 0.0000, 0.0000, 0.0000, 0.0000, 0.0000,\n",
       "           0.0000, 0.0000, 0.0000, 0.0000, 0.0000, 0.0000, 0.0000, 0.0000,\n",
       "           0.0000, 0.0000, 0.0000, 0.0000, 0.0000, 0.0000, 0.0000, 0.0000,\n",
       "           0.0000, 0.0000, 0.0000, 0.0000]]]),\n",
       " 9)"
      ]
     },
     "execution_count": 4,
     "metadata": {},
     "output_type": "execute_result"
    }
   ],
   "source": [
    "# See the first training example\n",
    "image, label = train_data[0]\n",
    "image, label"
   ]
  },
  {
   "cell_type": "code",
   "execution_count": 5,
   "id": "fd33b895",
   "metadata": {
    "execution": {
     "iopub.execute_input": "2024-12-29T17:08:51.331525Z",
     "iopub.status.busy": "2024-12-29T17:08:51.331283Z",
     "iopub.status.idle": "2024-12-29T17:08:51.335561Z",
     "shell.execute_reply": "2024-12-29T17:08:51.334761Z"
    },
    "papermill": {
     "duration": 0.020462,
     "end_time": "2024-12-29T17:08:51.336883",
     "exception": false,
     "start_time": "2024-12-29T17:08:51.316421",
     "status": "completed"
    },
    "tags": []
   },
   "outputs": [
    {
     "data": {
      "text/plain": [
       "['T-shirt/top',\n",
       " 'Trouser',\n",
       " 'Pullover',\n",
       " 'Dress',\n",
       " 'Coat',\n",
       " 'Sandal',\n",
       " 'Shirt',\n",
       " 'Sneaker',\n",
       " 'Bag',\n",
       " 'Ankle boot']"
      ]
     },
     "execution_count": 5,
     "metadata": {},
     "output_type": "execute_result"
    }
   ],
   "source": [
    "class_names = train_data.classes\n",
    "class_names"
   ]
  },
  {
   "cell_type": "code",
   "execution_count": 6,
   "id": "e353e256",
   "metadata": {
    "execution": {
     "iopub.execute_input": "2024-12-29T17:08:51.372157Z",
     "iopub.status.busy": "2024-12-29T17:08:51.371851Z",
     "iopub.status.idle": "2024-12-29T17:08:51.377123Z",
     "shell.execute_reply": "2024-12-29T17:08:51.376224Z"
    },
    "papermill": {
     "duration": 0.024739,
     "end_time": "2024-12-29T17:08:51.378909",
     "exception": false,
     "start_time": "2024-12-29T17:08:51.354170",
     "status": "completed"
    },
    "tags": []
   },
   "outputs": [
    {
     "data": {
      "text/plain": [
       "{'T-shirt/top': 0,\n",
       " 'Trouser': 1,\n",
       " 'Pullover': 2,\n",
       " 'Dress': 3,\n",
       " 'Coat': 4,\n",
       " 'Sandal': 5,\n",
       " 'Shirt': 6,\n",
       " 'Sneaker': 7,\n",
       " 'Bag': 8,\n",
       " 'Ankle boot': 9}"
      ]
     },
     "execution_count": 6,
     "metadata": {},
     "output_type": "execute_result"
    }
   ],
   "source": [
    "class_to_idx = train_data.class_to_idx\n",
    "class_to_idx"
   ]
  },
  {
   "cell_type": "code",
   "execution_count": 7,
   "id": "3869b6b3",
   "metadata": {
    "execution": {
     "iopub.execute_input": "2024-12-29T17:08:51.412074Z",
     "iopub.status.busy": "2024-12-29T17:08:51.411764Z",
     "iopub.status.idle": "2024-12-29T17:08:51.425477Z",
     "shell.execute_reply": "2024-12-29T17:08:51.424610Z"
    },
    "papermill": {
     "duration": 0.032062,
     "end_time": "2024-12-29T17:08:51.426906",
     "exception": false,
     "start_time": "2024-12-29T17:08:51.394844",
     "status": "completed"
    },
    "tags": []
   },
   "outputs": [
    {
     "data": {
      "text/plain": [
       "tensor([9, 0, 0,  ..., 3, 0, 5])"
      ]
     },
     "execution_count": 7,
     "metadata": {},
     "output_type": "execute_result"
    }
   ],
   "source": [
    "train_data.targets"
   ]
  },
  {
   "cell_type": "markdown",
   "id": "ef8d3093",
   "metadata": {
    "papermill": {
     "duration": 0.015524,
     "end_time": "2024-12-29T17:08:51.458270",
     "exception": false,
     "start_time": "2024-12-29T17:08:51.442746",
     "status": "completed"
    },
    "tags": []
   },
   "source": [
    "### 1.1 Check input and output shapes of data"
   ]
  },
  {
   "cell_type": "code",
   "execution_count": 8,
   "id": "6e013062",
   "metadata": {
    "execution": {
     "iopub.execute_input": "2024-12-29T17:08:51.490922Z",
     "iopub.status.busy": "2024-12-29T17:08:51.490630Z",
     "iopub.status.idle": "2024-12-29T17:08:51.495225Z",
     "shell.execute_reply": "2024-12-29T17:08:51.494378Z"
    },
    "papermill": {
     "duration": 0.02262,
     "end_time": "2024-12-29T17:08:51.496571",
     "exception": false,
     "start_time": "2024-12-29T17:08:51.473951",
     "status": "completed"
    },
    "tags": []
   },
   "outputs": [
    {
     "name": "stdout",
     "output_type": "stream",
     "text": [
      "Image shape: torch.Size([1, 28, 28]) <===> [C, H, W]\n",
      "Image label: 9\n"
     ]
    }
   ],
   "source": [
    "print(f\"Image shape: {image.shape} <===> [C, H, W]\")\n",
    "print(f\"Image label: {label}\")"
   ]
  },
  {
   "cell_type": "markdown",
   "id": "4cf6dfec",
   "metadata": {
    "papermill": {
     "duration": 0.015272,
     "end_time": "2024-12-29T17:08:51.528209",
     "exception": false,
     "start_time": "2024-12-29T17:08:51.512937",
     "status": "completed"
    },
    "tags": []
   },
   "source": [
    "### 1.2 Visualizing our data"
   ]
  },
  {
   "cell_type": "code",
   "execution_count": 9,
   "id": "8d8536fe",
   "metadata": {
    "execution": {
     "iopub.execute_input": "2024-12-29T17:08:51.561794Z",
     "iopub.status.busy": "2024-12-29T17:08:51.561460Z",
     "iopub.status.idle": "2024-12-29T17:08:51.751673Z",
     "shell.execute_reply": "2024-12-29T17:08:51.750784Z"
    },
    "papermill": {
     "duration": 0.20764,
     "end_time": "2024-12-29T17:08:51.753006",
     "exception": false,
     "start_time": "2024-12-29T17:08:51.545366",
     "status": "completed"
    },
    "tags": []
   },
   "outputs": [
    {
     "name": "stdout",
     "output_type": "stream",
     "text": [
      "Image shape: torch.Size([1, 28, 28])\n"
     ]
    },
    {
     "data": {
      "image/png": "[encoded data removed]",
      "text/plain": [
       "<Figure size 640x480 with 1 Axes>"
      ]
     },
     "metadata": {},
     "output_type": "display_data"
    }
   ],
   "source": [
    "import matplotlib.pyplot as plt\n",
    "image, label = train_data[0]\n",
    "print(f\"Image shape: {image.shape}\")\n",
    "plt.title(class_names[label])\n",
    "plt.imshow(image.squeeze(), cmap='gray');\n",
    "plt.axis(False);"
   ]
  },
  {
   "cell_type": "code",
   "execution_count": 10,
   "id": "7199d1f9",
   "metadata": {
    "execution": {
     "iopub.execute_input": "2024-12-29T17:08:51.787275Z",
     "iopub.status.busy": "2024-12-29T17:08:51.786901Z",
     "iopub.status.idle": "2024-12-29T17:08:52.894637Z",
     "shell.execute_reply": "2024-12-29T17:08:52.893678Z"
    },
    "papermill": {
     "duration": 1.127207,
     "end_time": "2024-12-29T17:08:52.896073",
     "exception": false,
     "start_time": "2024-12-29T17:08:51.768866",
     "status": "completed"
    },
    "tags": []
   },
   "outputs": [
    {
     "data": {
      "image/png": "[encoded data removed]",
      "text/plain": [
       "<Figure size 900x900 with 16 Axes>"
      ]
     },
     "metadata": {},
     "output_type": "display_data"
    }
   ],
   "source": [
    "# Plot more images\n",
    "torch.manual_seed(42)\n",
    "fig = plt.figure(figsize=(9, 9))\n",
    "rows, cols = 4, 4\n",
    "\n",
    "for i in range(1, rows * cols + 1):\n",
    "    random_idx = torch.randint(0, len(train_data), size=[1]).item()\n",
    "    # print(random_idx)\n",
    "    img, label = train_data[random_idx]\n",
    "    fig.add_subplot(rows, cols, i)\n",
    "    plt.imshow(img.squeeze(), cmap='gray')\n",
    "    plt.title(class_names[label])\n",
    "    plt.axis(False);"
   ]
  },
  {
   "cell_type": "markdown",
   "id": "baf79e26",
   "metadata": {
    "papermill": {
     "duration": 0.017146,
     "end_time": "2024-12-29T17:08:52.930432",
     "exception": false,
     "start_time": "2024-12-29T17:08:52.913286",
     "status": "completed"
    },
    "tags": []
   },
   "source": [
    "Do you think these items of clothing (images) could be modelled with pure linear lines? Or do you think we'll need non-linearities?\n"
   ]
  },
  {
   "cell_type": "code",
   "execution_count": 11,
   "id": "f4786488",
   "metadata": {
    "execution": {
     "iopub.execute_input": "2024-12-29T17:08:52.964226Z",
     "iopub.status.busy": "2024-12-29T17:08:52.963929Z",
     "iopub.status.idle": "2024-12-29T17:08:52.968746Z",
     "shell.execute_reply": "2024-12-29T17:08:52.968011Z"
    },
    "papermill": {
     "duration": 0.022701,
     "end_time": "2024-12-29T17:08:52.969870",
     "exception": false,
     "start_time": "2024-12-29T17:08:52.947169",
     "status": "completed"
    },
    "tags": []
   },
   "outputs": [
    {
     "data": {
      "text/plain": [
       "(Dataset FashionMNIST\n",
       "     Number of datapoints: 60000\n",
       "     Root location: /kaggle/working/data\n",
       "     Split: Train\n",
       "     StandardTransform\n",
       " Transform: ToTensor(),\n",
       " Dataset FashionMNIST\n",
       "     Number of datapoints: 10000\n",
       "     Root location: /kaggle/working/data\n",
       "     Split: Test\n",
       "     StandardTransform\n",
       " Transform: ToTensor())"
      ]
     },
     "execution_count": 11,
     "metadata": {},
     "output_type": "execute_result"
    }
   ],
   "source": [
    "train_data, test_data"
   ]
  },
  {
   "cell_type": "markdown",
   "id": "cd9b43c5",
   "metadata": {
    "papermill": {
     "duration": 0.015448,
     "end_time": "2024-12-29T17:08:53.001164",
     "exception": false,
     "start_time": "2024-12-29T17:08:52.985716",
     "status": "completed"
    },
    "tags": []
   },
   "source": [
    "## 2. Prepare DataLoader\n",
    "Right now, our data is in the form of PyTorch Datasets.\n",
    "\n",
    "DataLoader turns our dataset into a Python iterable.\n",
    "\n",
    "More specifically, we want to turn our data into batches (or mini-batches).\n",
    "\n",
    "Why would we do this?\n",
    "\n",
    "1. It is more computationally efficient, as in, your computing hardware may not be able to look (store in memory) at 60000 images in one hit. So we break it down to 32 images at a time (batch size of 32).\n",
    "2. It gives our neural network more chances to update its gradients per epoch.\n"
   ]
  },
  {
   "cell_type": "code",
   "execution_count": 12,
   "id": "ed2b6eea",
   "metadata": {
    "execution": {
     "iopub.execute_input": "2024-12-29T17:08:53.033339Z",
     "iopub.status.busy": "2024-12-29T17:08:53.033059Z",
     "iopub.status.idle": "2024-12-29T17:08:53.038618Z",
     "shell.execute_reply": "2024-12-29T17:08:53.037877Z"
    },
    "papermill": {
     "duration": 0.023175,
     "end_time": "2024-12-29T17:08:53.039888",
     "exception": false,
     "start_time": "2024-12-29T17:08:53.016713",
     "status": "completed"
    },
    "tags": []
   },
   "outputs": [
    {
     "data": {
      "text/plain": [
       "(<torch.utils.data.dataloader.DataLoader at 0x7fd0243f05b0>,\n",
       " <torch.utils.data.dataloader.DataLoader at 0x7fd0ca080df0>)"
      ]
     },
     "execution_count": 12,
     "metadata": {},
     "output_type": "execute_result"
    }
   ],
   "source": [
    "from torch.utils.data import DataLoader\n",
    "\n",
    "# Setup batch size hyperparameter\n",
    "BATCH_SIZE=32\n",
    "\n",
    "# Turn datasets into batches\n",
    "train_dataloader = DataLoader(dataset=train_data,\n",
    "                              batch_size=BATCH_SIZE,\n",
    "                              shuffle=True)\n",
    "\n",
    "test_dataloader = DataLoader(dataset=test_data,\n",
    "                              batch_size=BATCH_SIZE,\n",
    "                              shuffle=False)\n",
    "\n",
    "train_dataloader, test_dataloader"
   ]
  },
  {
   "cell_type": "code",
   "execution_count": 13,
   "id": "4de87bc7",
   "metadata": {
    "execution": {
     "iopub.execute_input": "2024-12-29T17:08:53.072181Z",
     "iopub.status.busy": "2024-12-29T17:08:53.071937Z",
     "iopub.status.idle": "2024-12-29T17:08:53.076993Z",
     "shell.execute_reply": "2024-12-29T17:08:53.076361Z"
    },
    "papermill": {
     "duration": 0.022491,
     "end_time": "2024-12-29T17:08:53.078227",
     "exception": false,
     "start_time": "2024-12-29T17:08:53.055736",
     "status": "completed"
    },
    "tags": []
   },
   "outputs": [
    {
     "name": "stdout",
     "output_type": "stream",
     "text": [
      "DataLoaders: (<torch.utils.data.dataloader.DataLoader object at 0x7fd0243f05b0>, <torch.utils.data.dataloader.DataLoader object at 0x7fd0ca080df0>)\n",
      "Length of the train_dataloader: 1875 batches of 32...\n",
      "Length of the test_dataloader: 313 batches of 32...\n"
     ]
    }
   ],
   "source": [
    "# Let's check out what what we've created\n",
    "print(f\"DataLoaders: {train_dataloader, test_dataloader}\")\n",
    "print(f\"Length of the train_dataloader: {len(train_dataloader)} batches of {BATCH_SIZE}...\")\n",
    "print(f\"Length of the test_dataloader: {len(test_dataloader)} batches of {BATCH_SIZE}...\")"
   ]
  },
  {
   "cell_type": "code",
   "execution_count": 14,
   "id": "3fe51184",
   "metadata": {
    "execution": {
     "iopub.execute_input": "2024-12-29T17:08:53.111160Z",
     "iopub.status.busy": "2024-12-29T17:08:53.110890Z",
     "iopub.status.idle": "2024-12-29T17:08:53.126803Z",
     "shell.execute_reply": "2024-12-29T17:08:53.126064Z"
    },
    "papermill": {
     "duration": 0.033988,
     "end_time": "2024-12-29T17:08:53.128090",
     "exception": false,
     "start_time": "2024-12-29T17:08:53.094102",
     "status": "completed"
    },
    "tags": []
   },
   "outputs": [
    {
     "data": {
      "text/plain": [
       "(torch.Size([32, 1, 28, 28]), torch.Size([32]))"
      ]
     },
     "execution_count": 14,
     "metadata": {},
     "output_type": "execute_result"
    }
   ],
   "source": [
    "# Check out what's inside the training dataloader\n",
    "train_features_batch, train_labels_batch = next(iter(train_dataloader))\n",
    "train_features_batch.shape, train_labels_batch.shape"
   ]
  },
  {
   "cell_type": "code",
   "execution_count": 15,
   "id": "7337edf7",
   "metadata": {
    "execution": {
     "iopub.execute_input": "2024-12-29T17:08:53.165853Z",
     "iopub.status.busy": "2024-12-29T17:08:53.165493Z",
     "iopub.status.idle": "2024-12-29T17:08:53.337586Z",
     "shell.execute_reply": "2024-12-29T17:08:53.334954Z"
    },
    "papermill": {
     "duration": 0.19553,
     "end_time": "2024-12-29T17:08:53.340962",
     "exception": false,
     "start_time": "2024-12-29T17:08:53.145432",
     "status": "completed"
    },
    "tags": []
   },
   "outputs": [
    {
     "name": "stdout",
     "output_type": "stream",
     "text": [
      "Image size: torch.Size([1, 28, 28])\n",
      "Label: 6, label size: torch.Size([])\n"
     ]
    },
    {
     "data": {
      "image/png": "[encoded data removed]",
      "text/plain": [
       "<Figure size 640x480 with 1 Axes>"
      ]
     },
     "metadata": {},
     "output_type": "display_data"
    }
   ],
   "source": [
    "# Show sample\n",
    "torch.manual_seed(42)\n",
    "random_idx = torch.randint(0, len(train_features_batch), size=[1]).item()\n",
    "img, label = train_features_batch[random_idx], train_labels_batch[random_idx]\n",
    "plt.imshow(img.squeeze(), cmap='gray')\n",
    "plt.title(class_names[label])\n",
    "plt.axis(False);\n",
    "print(f\"Image size: {img.shape}\")\n",
    "print(f\"Label: {label}, label size: {label.shape}\")"
   ]
  },
  {
   "cell_type": "markdown",
   "id": "eeb46134",
   "metadata": {
    "papermill": {
     "duration": 0.021886,
     "end_time": "2024-12-29T17:08:53.386852",
     "exception": false,
     "start_time": "2024-12-29T17:08:53.364966",
     "status": "completed"
    },
    "tags": []
   },
   "source": [
    "## 3. Model 0: Build a baseline model\n",
    "\n",
    "When starting to build a series of machine learning modelling experiments, it's best practice to start with a baseline model.\n",
    "\n",
    "A baseline model is a simple model you will try and improve upon with subsequent models/experiments.\n",
    "\n",
    "In other words: start simply and add complexity when necessary."
   ]
  },
  {
   "cell_type": "code",
   "execution_count": 16,
   "id": "1a59dadf",
   "metadata": {
    "execution": {
     "iopub.execute_input": "2024-12-29T17:08:53.433824Z",
     "iopub.status.busy": "2024-12-29T17:08:53.433262Z",
     "iopub.status.idle": "2024-12-29T17:08:53.443310Z",
     "shell.execute_reply": "2024-12-29T17:08:53.441313Z"
    },
    "papermill": {
     "duration": 0.036809,
     "end_time": "2024-12-29T17:08:53.446033",
     "exception": false,
     "start_time": "2024-12-29T17:08:53.409224",
     "status": "completed"
    },
    "tags": []
   },
   "outputs": [
    {
     "name": "stdout",
     "output_type": "stream",
     "text": [
      "Shape before flattening: torch.Size([1, 28, 28]) -> [C, H, W]\n",
      "Shape after flattening: torch.Size([1, 784]) -> [C, H * W]\n"
     ]
    }
   ],
   "source": [
    "# Create a flatten layer\n",
    "flatten_model = nn.Flatten()\n",
    "\n",
    "# Get a single sample\n",
    "x = train_features_batch[0]\n",
    "\n",
    "# Flatten the sample\n",
    "output = flatten_model(x) # perform forward pass\n",
    "\n",
    "# Print out what happened\n",
    "print(f\"Shape before flattening: {x.shape} -> [C, H, W]\")\n",
    "print(f\"Shape after flattening: {output.shape} -> [C, H * W]\")"
   ]
  },
  {
   "cell_type": "code",
   "execution_count": 17,
   "id": "be83f9e2",
   "metadata": {
    "execution": {
     "iopub.execute_input": "2024-12-29T17:08:53.493660Z",
     "iopub.status.busy": "2024-12-29T17:08:53.493070Z",
     "iopub.status.idle": "2024-12-29T17:08:53.501251Z",
     "shell.execute_reply": "2024-12-29T17:08:53.499503Z"
    },
    "papermill": {
     "duration": 0.034935,
     "end_time": "2024-12-29T17:08:53.503978",
     "exception": false,
     "start_time": "2024-12-29T17:08:53.469043",
     "status": "completed"
    },
    "tags": []
   },
   "outputs": [],
   "source": [
    "from torch import nn\n",
    "class FashionMNISTModelV0(nn.Module):\n",
    "    def __init__(self,\n",
    "                 input_shape: int,\n",
    "                 hidden_units: int,\n",
    "                 output_shape: int\n",
    "                ):\n",
    "        super().__init__()\n",
    "        self.layer_stack = nn.Sequential(\n",
    "            nn.Flatten(),\n",
    "            nn.Linear(in_features=input_shape,\n",
    "                      out_features=hidden_units),\n",
    "            nn.Linear(in_features=hidden_units,\n",
    "                      out_features=output_shape),\n",
    "        )\n",
    "\n",
    "    def forward(self, x):\n",
    "        return self.layer_stack(x)"
   ]
  },
  {
   "cell_type": "code",
   "execution_count": 18,
   "id": "f147c273",
   "metadata": {
    "execution": {
     "iopub.execute_input": "2024-12-29T17:08:53.554954Z",
     "iopub.status.busy": "2024-12-29T17:08:53.554435Z",
     "iopub.status.idle": "2024-12-29T17:08:53.569932Z",
     "shell.execute_reply": "2024-12-29T17:08:53.568238Z"
    },
    "papermill": {
     "duration": 0.046306,
     "end_time": "2024-12-29T17:08:53.572965",
     "exception": false,
     "start_time": "2024-12-29T17:08:53.526659",
     "status": "completed"
    },
    "tags": []
   },
   "outputs": [
    {
     "data": {
      "text/plain": [
       "FashionMNISTModelV0(\n",
       "  (layer_stack): Sequential(\n",
       "    (0): Flatten(start_dim=1, end_dim=-1)\n",
       "    (1): Linear(in_features=784, out_features=10, bias=True)\n",
       "    (2): Linear(in_features=10, out_features=10, bias=True)\n",
       "  )\n",
       ")"
      ]
     },
     "execution_count": 18,
     "metadata": {},
     "output_type": "execute_result"
    }
   ],
   "source": [
    "torch.manual_seed(42)\n",
    "\n",
    "# Setup model with input parameters\n",
    "model_0 = FashionMNISTModelV0(\n",
    "    input_shape=28*28,            # this is 28*28\n",
    "    hidden_units=10,              # how many units in the hidden layer\n",
    "    output_shape=len(class_names) # one for every class\n",
    ").to(\"cpu\")\n",
    "\n",
    "model_0"
   ]
  },
  {
   "cell_type": "code",
   "execution_count": 19,
   "id": "de0be653",
   "metadata": {
    "execution": {
     "iopub.execute_input": "2024-12-29T17:08:53.621094Z",
     "iopub.status.busy": "2024-12-29T17:08:53.620613Z",
     "iopub.status.idle": "2024-12-29T17:08:53.643611Z",
     "shell.execute_reply": "2024-12-29T17:08:53.641982Z"
    },
    "papermill": {
     "duration": 0.049609,
     "end_time": "2024-12-29T17:08:53.645876",
     "exception": false,
     "start_time": "2024-12-29T17:08:53.596267",
     "status": "completed"
    },
    "tags": []
   },
   "outputs": [
    {
     "data": {
      "text/plain": [
       "tensor([[-0.0315,  0.3171,  0.0531, -0.2525,  0.5959,  0.2112,  0.3233,  0.2694,\n",
       "         -0.1004,  0.0157]], grad_fn=<AddmmBackward0>)"
      ]
     },
     "execution_count": 19,
     "metadata": {},
     "output_type": "execute_result"
    }
   ],
   "source": [
    "dummy_x = torch.rand([1, 1, 28, 28])\n",
    "model_0(dummy_x)"
   ]
  },
  {
   "cell_type": "code",
   "execution_count": 20,
   "id": "82b34017",
   "metadata": {
    "execution": {
     "iopub.execute_input": "2024-12-29T17:08:53.693872Z",
     "iopub.status.busy": "2024-12-29T17:08:53.693344Z",
     "iopub.status.idle": "2024-12-29T17:08:53.708527Z",
     "shell.execute_reply": "2024-12-29T17:08:53.706975Z"
    },
    "papermill": {
     "duration": 0.041887,
     "end_time": "2024-12-29T17:08:53.710825",
     "exception": false,
     "start_time": "2024-12-29T17:08:53.668938",
     "status": "completed"
    },
    "tags": []
   },
   "outputs": [
    {
     "data": {
      "text/plain": [
       "OrderedDict([('layer_stack.1.weight',\n",
       "              tensor([[ 0.0273,  0.0296, -0.0084,  ..., -0.0142,  0.0093,  0.0135],\n",
       "                      [-0.0188, -0.0354,  0.0187,  ..., -0.0106, -0.0001,  0.0115],\n",
       "                      [-0.0008,  0.0017,  0.0045,  ..., -0.0127, -0.0188,  0.0059],\n",
       "                      ...,\n",
       "                      [-0.0116,  0.0273, -0.0344,  ...,  0.0176,  0.0283, -0.0011],\n",
       "                      [-0.0230,  0.0257,  0.0291,  ..., -0.0187, -0.0087,  0.0001],\n",
       "                      [ 0.0176, -0.0147,  0.0053,  ..., -0.0336, -0.0221,  0.0205]])),\n",
       "             ('layer_stack.1.bias',\n",
       "              tensor([-0.0093,  0.0283, -0.0033,  0.0255,  0.0017,  0.0037, -0.0302, -0.0123,\n",
       "                       0.0018,  0.0163])),\n",
       "             ('layer_stack.2.weight',\n",
       "              tensor([[ 0.0614, -0.0687,  0.0021,  0.2718,  0.2109,  0.1079, -0.2279, -0.1063,\n",
       "                        0.2019,  0.2847],\n",
       "                      [-0.1495,  0.1344, -0.0740,  0.2006, -0.0475, -0.2514, -0.3130, -0.0118,\n",
       "                        0.0932, -0.1864],\n",
       "                      [ 0.2488,  0.1500,  0.1907,  0.1457, -0.3050, -0.0580,  0.1643,  0.1565,\n",
       "                       -0.2877, -0.1792],\n",
       "                      [ 0.2305, -0.2618,  0.2397, -0.0610,  0.0232,  0.1542,  0.0851, -0.2027,\n",
       "                        0.1030, -0.2715],\n",
       "                      [-0.1596, -0.0555, -0.0633,  0.2302, -0.1726,  0.2654,  0.1473,  0.1029,\n",
       "                        0.2252, -0.2160],\n",
       "                      [-0.2725,  0.0118,  0.1559,  0.1596,  0.0132,  0.3024,  0.1124,  0.1366,\n",
       "                       -0.1533,  0.0965],\n",
       "                      [-0.1184, -0.2555, -0.2057, -0.1909, -0.0477, -0.1324,  0.2905,  0.1307,\n",
       "                       -0.2629,  0.0133],\n",
       "                      [ 0.2727, -0.0127,  0.0513,  0.0863, -0.1043, -0.2047, -0.1185, -0.0825,\n",
       "                        0.2488, -0.2571],\n",
       "                      [ 0.0425, -0.1209, -0.0336, -0.0281, -0.1227,  0.0730,  0.0747, -0.1816,\n",
       "                        0.1943,  0.2853],\n",
       "                      [-0.1310,  0.0645, -0.1171,  0.2168, -0.0245, -0.2820,  0.0736,  0.2621,\n",
       "                        0.0012, -0.0810]])),\n",
       "             ('layer_stack.2.bias',\n",
       "              tensor([-0.0087,  0.1791,  0.2712, -0.0791,  0.1685,  0.1762,  0.2825,  0.2266,\n",
       "                      -0.2612, -0.2613]))])"
      ]
     },
     "execution_count": 20,
     "metadata": {},
     "output_type": "execute_result"
    }
   ],
   "source": [
    "model_0.state_dict()"
   ]
  },
  {
   "cell_type": "markdown",
   "id": "d5c95ff1",
   "metadata": {
    "papermill": {
     "duration": 0.017955,
     "end_time": "2024-12-29T17:08:53.746831",
     "exception": false,
     "start_time": "2024-12-29T17:08:53.728876",
     "status": "completed"
    },
    "tags": []
   },
   "source": [
    "### 3.1 Setup loss, optimizer and evaluation metrics\n",
    "\n",
    "* Loss function - since we're working with multi-class data, our loss function will be `nn.CrossEntropyLoss()`\n",
    "* Optimizer - our optimizer `torch.optim.SGD()` (stochastic gradient descent)\n",
    "* Evaluation metric - since we're working on a classification problem, let's use accuracy as our evaluation metric"
   ]
  },
  {
   "cell_type": "code",
   "execution_count": 21,
   "id": "dc4b5de8",
   "metadata": {
    "execution": {
     "iopub.execute_input": "2024-12-29T17:08:53.787116Z",
     "iopub.status.busy": "2024-12-29T17:08:53.786796Z",
     "iopub.status.idle": "2024-12-29T17:08:54.084390Z",
     "shell.execute_reply": "2024-12-29T17:08:54.083513Z"
    },
    "papermill": {
     "duration": 0.319401,
     "end_time": "2024-12-29T17:08:54.085726",
     "exception": false,
     "start_time": "2024-12-29T17:08:53.766325",
     "status": "completed"
    },
    "tags": []
   },
   "outputs": [
    {
     "name": "stdout",
     "output_type": "stream",
     "text": [
      "Downloading helper_functions.py\n"
     ]
    }
   ],
   "source": [
    "import requests\n",
    "from pathlib import Path\n",
    "\n",
    "# Download helper functions from Learn PyTorch repo\n",
    "if Path(\"helper_functions.py\").is_file():\n",
    "  print(\"helper_functions.py already exists, skipping download...\")\n",
    "else:\n",
    "  print(\"Downloading helper_functions.py\")\n",
    "  request = requests.get(\"https://raw.githubusercontent.com/mrdbourke/pytorch-deep-learning/main/helper_functions.py\")\n",
    "  with open(\"helper_functions.py\", \"wb\") as f:\n",
    "    f.write(request.content)"
   ]
  },
  {
   "cell_type": "code",
   "execution_count": 22,
   "id": "79fffd54",
   "metadata": {
    "execution": {
     "iopub.execute_input": "2024-12-29T17:08:54.120337Z",
     "iopub.status.busy": "2024-12-29T17:08:54.120050Z",
     "iopub.status.idle": "2024-12-29T17:08:54.171679Z",
     "shell.execute_reply": "2024-12-29T17:08:54.170967Z"
    },
    "papermill": {
     "duration": 0.070092,
     "end_time": "2024-12-29T17:08:54.173013",
     "exception": false,
     "start_time": "2024-12-29T17:08:54.102921",
     "status": "completed"
    },
    "tags": []
   },
   "outputs": [],
   "source": [
    "# Import accuracy metric\n",
    "from helper_functions import accuracy_fn\n",
    "\n",
    "# Setup loss fn and optimizer\n",
    "loss_fn = nn.CrossEntropyLoss()\n",
    "optimizer = torch.optim.SGD(params=model_0.parameters(),\n",
    "                            lr=0.1)"
   ]
  },
  {
   "cell_type": "markdown",
   "id": "d673f9b6",
   "metadata": {
    "papermill": {
     "duration": 0.016419,
     "end_time": "2024-12-29T17:08:54.206900",
     "exception": false,
     "start_time": "2024-12-29T17:08:54.190481",
     "status": "completed"
    },
    "tags": []
   },
   "source": [
    "### 3.2 Creating a function to time our experiments\n",
    "\n",
    "Machine learning is very experimental.\n",
    "\n",
    "Two of the main things you'll often want to track are:\n",
    "\n",
    "1. Model's performance (loss and accuracy values etc)\n",
    "2. How fast it runs"
   ]
  },
  {
   "cell_type": "code",
   "execution_count": 23,
   "id": "f7d38049",
   "metadata": {
    "execution": {
     "iopub.execute_input": "2024-12-29T17:08:54.241220Z",
     "iopub.status.busy": "2024-12-29T17:08:54.240920Z",
     "iopub.status.idle": "2024-12-29T17:08:54.244977Z",
     "shell.execute_reply": "2024-12-29T17:08:54.244150Z"
    },
    "papermill": {
     "duration": 0.022491,
     "end_time": "2024-12-29T17:08:54.246129",
     "exception": false,
     "start_time": "2024-12-29T17:08:54.223638",
     "status": "completed"
    },
    "tags": []
   },
   "outputs": [],
   "source": [
    "from timeit import default_timer as timer\n",
    "def print_train_time(start: float,\n",
    "                     end: float,\n",
    "                     device: torch.device=None) -> float:\n",
    "    \"\"\"Prints difference between start and end time.\"\"\"\n",
    "    total_time = end - start\n",
    "    print(f\"Train time on {device}: {total_time:.3f} seconds.\")\n",
    "    return total_time"
   ]
  },
  {
   "cell_type": "code",
   "execution_count": 24,
   "id": "a2ec716c",
   "metadata": {
    "execution": {
     "iopub.execute_input": "2024-12-29T17:08:54.281076Z",
     "iopub.status.busy": "2024-12-29T17:08:54.280812Z",
     "iopub.status.idle": "2024-12-29T17:08:54.286401Z",
     "shell.execute_reply": "2024-12-29T17:08:54.285591Z"
    },
    "papermill": {
     "duration": 0.024565,
     "end_time": "2024-12-29T17:08:54.287696",
     "exception": false,
     "start_time": "2024-12-29T17:08:54.263131",
     "status": "completed"
    },
    "tags": []
   },
   "outputs": [
    {
     "name": "stdout",
     "output_type": "stream",
     "text": [
      "Train time on cpu: 0.000 seconds.\n"
     ]
    },
    {
     "data": {
      "text/plain": [
       "2.8446999976949883e-05"
      ]
     },
     "execution_count": 24,
     "metadata": {},
     "output_type": "execute_result"
    }
   ],
   "source": [
    "start_time = timer()\n",
    "# some code...\n",
    "end_time = timer()\n",
    "print_train_time(start=start_time, end=end_time, device='cpu')"
   ]
  },
  {
   "cell_type": "markdown",
   "id": "fe852820",
   "metadata": {
    "papermill": {
     "duration": 0.01683,
     "end_time": "2024-12-29T17:08:54.321370",
     "exception": false,
     "start_time": "2024-12-29T17:08:54.304540",
     "status": "completed"
    },
    "tags": []
   },
   "source": [
    "### 3.3 Creating a training loop and training a model on batches of data\n",
    "\n",
    "1. Loop through epochs.\n",
    "2. Loop through training batches, perform training steps, calculate the train loss *per batch*.\n",
    "3. Loop through testing batches, perform testing steps, calculate the test loss *per batch*.\n",
    "4. Print out what's happening.\n",
    "5. Time it all (for fun).\n",
    "\n",
    "> **Note:** Because we are computing on batches, the optimizer will update the model's parameters once per batch rather than once per epoch."
   ]
  },
  {
   "cell_type": "code",
   "execution_count": 25,
   "id": "8363490d",
   "metadata": {
    "execution": {
     "iopub.execute_input": "2024-12-29T17:08:54.357825Z",
     "iopub.status.busy": "2024-12-29T17:08:54.357511Z",
     "iopub.status.idle": "2024-12-29T17:09:20.192373Z",
     "shell.execute_reply": "2024-12-29T17:09:20.191336Z"
    },
    "papermill": {
     "duration": 25.855697,
     "end_time": "2024-12-29T17:09:20.194650",
     "exception": false,
     "start_time": "2024-12-29T17:08:54.338953",
     "status": "completed"
    },
    "tags": []
   },
   "outputs": [
    {
     "data": {
      "application/vnd.jupyter.widget-view+json": {
       "model_id": "43ebb172c59d4f119080a695e0306c83",
       "version_major": 2,
       "version_minor": 0
      },
      "text/plain": [
       "  0%|          | 0/3 [00:00<?, ?it/s]"
      ]
     },
     "metadata": {},
     "output_type": "display_data"
    },
    {
     "name": "stdout",
     "output_type": "stream",
     "text": [
      "Epoch: 0\n",
      "------\n",
      "Looked at 0/60000 samples...\n",
      "Looked at 12800/60000 samples...\n",
      "Looked at 25600/60000 samples...\n",
      "Looked at 38400/60000 samples...\n",
      "Looked at 51200/60000 samples...\n",
      "Looked at 59968/60000 samples...\n",
      "\n",
      "Train Loss: 0.5904 | Test Loss: 0.5095, Test Acc: 82.04%\n",
      "Epoch: 1\n",
      "------\n",
      "Looked at 0/60000 samples...\n",
      "Looked at 12800/60000 samples...\n",
      "Looked at 25600/60000 samples...\n",
      "Looked at 38400/60000 samples...\n",
      "Looked at 51200/60000 samples...\n",
      "Looked at 59968/60000 samples...\n",
      "\n",
      "Train Loss: 0.4763 | Test Loss: 0.4799, Test Acc: 83.20%\n",
      "Epoch: 2\n",
      "------\n",
      "Looked at 0/60000 samples...\n",
      "Looked at 12800/60000 samples...\n",
      "Looked at 25600/60000 samples...\n",
      "Looked at 38400/60000 samples...\n",
      "Looked at 51200/60000 samples...\n",
      "Looked at 59968/60000 samples...\n",
      "\n",
      "Train Loss: 0.4550 | Test Loss: 0.4766, Test Acc: 83.43%\n",
      "\n",
      "------------------\n",
      "\n",
      "Train time on cpu: 25.706 seconds.\n"
     ]
    }
   ],
   "source": [
    "# Import tqdm for progress bar\n",
    "from tqdm.auto import tqdm\n",
    "\n",
    "# set the seed and start the timer\n",
    "torch.manual_seed(42)\n",
    "train_time_start_on_cpu=timer()\n",
    "\n",
    "# Set the number of epochs (we'll keep this small for faster training time)\n",
    "epochs = 3\n",
    "\n",
    "# create training and test loop\n",
    "for epoch in tqdm(range(epochs)):\n",
    "    print(f\"Epoch: {epoch}\\n------\")\n",
    "    ### Training\n",
    "    train_loss = 0\n",
    "    # Add a loop to loop through the training batches\n",
    "    for batch, (X, y) in enumerate(train_dataloader):\n",
    "        model_0.train()\n",
    "        # 1. Forward pass\n",
    "        y_pred = model_0(X)\n",
    "\n",
    "        # 2. Calculate the loss (per batch)\n",
    "        loss = loss_fn(y_pred, y)\n",
    "        train_loss += loss # accumulate train loss\n",
    "\n",
    "        # 3. Optimizer zero grad\n",
    "        optimizer.zero_grad()\n",
    "\n",
    "        # 4. Loss Backward\n",
    "        loss.backward()\n",
    "\n",
    "        # 5. Optimizer step\n",
    "        optimizer.step()\n",
    "\n",
    "        # Print out what's happenin'\n",
    "        if batch % 400 == 0 or batch == len(train_dataloader) - 1:\n",
    "            print(f\"Looked at {batch * len(X)}/{len(train_dataloader.dataset)} samples...\")\n",
    "\n",
    "    # Divide total train loss by length of train dataloader\n",
    "    train_loss /= len(train_dataloader)\n",
    "\n",
    "    ### Testing\n",
    "    test_loss, test_acc = 0, 0\n",
    "    model_0.eval()\n",
    "    with torch.inference_mode():\n",
    "        for X_test, y_test in test_dataloader:\n",
    "            # 1. Forward Pass\n",
    "            test_pred = model_0(X_test)\n",
    "\n",
    "            # 2. Calculate the loss accumulatively\n",
    "            test_loss += loss_fn(test_pred, y_test)\n",
    "\n",
    "            # 3. Calculate the accuracy\n",
    "            test_acc += accuracy_fn(y_true=y_test, y_pred=test_pred.argmax(dim=1))\n",
    "\n",
    "        # Calculate the test loss avg per batch\n",
    "        test_loss /= len(test_dataloader)\n",
    "\n",
    "        # Calculate the test acc avg per batch\n",
    "        test_acc /= len(test_dataloader)\n",
    "\n",
    "    # Print out what's happenin'\n",
    "    print(f\"\\nTrain Loss: {train_loss:.4f} | Test Loss: {test_loss:.4f}, Test Acc: {test_acc:.2f}%\")\n",
    "\n",
    "# Calculate training time\n",
    "train_time_end_on_cpu = timer()\n",
    "print(\"\\n------------------\\n\")\n",
    "total_train_time_model_0 = print_train_time(start=train_time_start_on_cpu,\n",
    "                                            end=train_time_end_on_cpu,\n",
    "                                            device=str(next(model_0.parameters()).device))"
   ]
  },
  {
   "cell_type": "markdown",
   "id": "4938e937",
   "metadata": {
    "papermill": {
     "duration": 0.01879,
     "end_time": "2024-12-29T17:09:20.233341",
     "exception": false,
     "start_time": "2024-12-29T17:09:20.214551",
     "status": "completed"
    },
    "tags": []
   },
   "source": [
    "## 4. Make predictions and get Model 0 results"
   ]
  },
  {
   "cell_type": "code",
   "execution_count": 26,
   "id": "f308a3ad",
   "metadata": {
    "execution": {
     "iopub.execute_input": "2024-12-29T17:09:20.273155Z",
     "iopub.status.busy": "2024-12-29T17:09:20.272796Z",
     "iopub.status.idle": "2024-12-29T17:09:20.279997Z",
     "shell.execute_reply": "2024-12-29T17:09:20.279273Z"
    },
    "papermill": {
     "duration": 0.028333,
     "end_time": "2024-12-29T17:09:20.281354",
     "exception": false,
     "start_time": "2024-12-29T17:09:20.253021",
     "status": "completed"
    },
    "tags": []
   },
   "outputs": [],
   "source": [
    "torch.manual_seed(42)\n",
    "\n",
    "def eval_model(model: torch.nn.Module,\n",
    "               data_loader: torch.utils.data.DataLoader,\n",
    "               loss_fn: torch.nn.Module,\n",
    "               accuracy_fn):\n",
    "    \"\"\"Returns a dictionary containing the results of model predicting on data_loader.\"\"\"\n",
    "    loss, acc = 0, 0\n",
    "    model.eval()\n",
    "    with torch.inference_mode():\n",
    "        for X, y in tqdm(data_loader):\n",
    "            # Make preds\n",
    "            y_pred = model(X)\n",
    "\n",
    "            # Accumulate loss and acc values per batch\n",
    "            loss += loss_fn(y_pred, y)\n",
    "            acc += accuracy_fn(y_true=y,\n",
    "                               y_pred=y_pred.argmax(dim=1))\n",
    "\n",
    "        # Scale the loss and acc to find avg loss/acc per batch\n",
    "        loss /= len(data_loader)\n",
    "        acc /= len(data_loader)\n",
    "\n",
    "    return {\"model_name\": model.__class__.__name__,  # Only works when model was created with a class\n",
    "            \"model_loss\": loss.item(),\n",
    "            \"model_acc\": acc}"
   ]
  },
  {
   "cell_type": "code",
   "execution_count": 27,
   "id": "8b0aa27a",
   "metadata": {
    "execution": {
     "iopub.execute_input": "2024-12-29T17:09:20.321073Z",
     "iopub.status.busy": "2024-12-29T17:09:20.320717Z",
     "iopub.status.idle": "2024-12-29T17:09:21.479435Z",
     "shell.execute_reply": "2024-12-29T17:09:21.478752Z"
    },
    "papermill": {
     "duration": 1.180577,
     "end_time": "2024-12-29T17:09:21.480830",
     "exception": false,
     "start_time": "2024-12-29T17:09:20.300253",
     "status": "completed"
    },
    "tags": []
   },
   "outputs": [
    {
     "data": {
      "application/vnd.jupyter.widget-view+json": {
       "model_id": "bcbd061a63194b6391089daa08e98671",
       "version_major": 2,
       "version_minor": 0
      },
      "text/plain": [
       "  0%|          | 0/313 [00:00<?, ?it/s]"
      ]
     },
     "metadata": {},
     "output_type": "display_data"
    },
    {
     "data": {
      "text/plain": [
       "{'model_name': 'FashionMNISTModelV0',\n",
       " 'model_loss': 0.47663894295692444,\n",
       " 'model_acc': 83.42651757188499}"
      ]
     },
     "execution_count": 27,
     "metadata": {},
     "output_type": "execute_result"
    }
   ],
   "source": [
    "# Calculate model 0 results on test dataset\n",
    "model_0_results = eval_model(model=model_0,\n",
    "                             data_loader=test_dataloader,\n",
    "                             loss_fn=loss_fn,\n",
    "                             accuracy_fn=accuracy_fn)\n",
    "\n",
    "model_0_results"
   ]
  },
  {
   "cell_type": "markdown",
   "id": "4eb6c8b8",
   "metadata": {
    "papermill": {
     "duration": 0.019056,
     "end_time": "2024-12-29T17:09:21.519502",
     "exception": false,
     "start_time": "2024-12-29T17:09:21.500446",
     "status": "completed"
    },
    "tags": []
   },
   "source": [
    "## 5. Setup device agnostic-code (for using a GPU if there is one)"
   ]
  },
  {
   "cell_type": "code",
   "execution_count": 28,
   "id": "14a32501",
   "metadata": {
    "execution": {
     "iopub.execute_input": "2024-12-29T17:09:21.559618Z",
     "iopub.status.busy": "2024-12-29T17:09:21.559292Z",
     "iopub.status.idle": "2024-12-29T17:09:21.739064Z",
     "shell.execute_reply": "2024-12-29T17:09:21.737887Z"
    },
    "papermill": {
     "duration": 0.201358,
     "end_time": "2024-12-29T17:09:21.740787",
     "exception": false,
     "start_time": "2024-12-29T17:09:21.539429",
     "status": "completed"
    },
    "tags": []
   },
   "outputs": [
    {
     "name": "stdout",
     "output_type": "stream",
     "text": [
      "Sun Dec 29 17:09:21 2024       \r\n",
      "+-----------------------------------------------------------------------------------------+\r\n",
      "| NVIDIA-SMI 560.35.03              Driver Version: 560.35.03      CUDA Version: 12.6     |\r\n",
      "|-----------------------------------------+------------------------+----------------------+\r\n",
      "| GPU  Name                 Persistence-M | Bus-Id          Disp.A | Volatile Uncorr. ECC |\r\n",
      "| Fan  Temp   Perf          Pwr:Usage/Cap |           Memory-Usage | GPU-Util  Compute M. |\r\n",
      "|                                         |                        |               MIG M. |\r\n",
      "|=========================================+========================+======================|\r\n",
      "|   0  Tesla P100-PCIE-16GB           Off |   00000000:00:04.0 Off |                    0 |\r\n",
      "| N/A   33C    P0             25W /  250W |       3MiB /  16384MiB |      0%      Default |\r\n",
      "|                                         |                        |                  N/A |\r\n",
      "+-----------------------------------------+------------------------+----------------------+\r\n",
      "                                                                                         \r\n",
      "+-----------------------------------------------------------------------------------------+\r\n",
      "| Processes:                                                                              |\r\n",
      "|  GPU   GI   CI        PID   Type   Process name                              GPU Memory |\r\n",
      "|        ID   ID                                                               Usage      |\r\n",
      "|=========================================================================================|\r\n",
      "|  No running processes found                                                             |\r\n",
      "+-----------------------------------------------------------------------------------------+\r\n"
     ]
    }
   ],
   "source": [
    "!nvidia-smi"
   ]
  },
  {
   "cell_type": "code",
   "execution_count": 29,
   "id": "3977870d",
   "metadata": {
    "execution": {
     "iopub.execute_input": "2024-12-29T17:09:21.781705Z",
     "iopub.status.busy": "2024-12-29T17:09:21.781344Z",
     "iopub.status.idle": "2024-12-29T17:09:21.786966Z",
     "shell.execute_reply": "2024-12-29T17:09:21.786271Z"
    },
    "papermill": {
     "duration": 0.027169,
     "end_time": "2024-12-29T17:09:21.788207",
     "exception": false,
     "start_time": "2024-12-29T17:09:21.761038",
     "status": "completed"
    },
    "tags": []
   },
   "outputs": [
    {
     "data": {
      "text/plain": [
       "True"
      ]
     },
     "execution_count": 29,
     "metadata": {},
     "output_type": "execute_result"
    }
   ],
   "source": [
    "torch.cuda.is_available()"
   ]
  },
  {
   "cell_type": "code",
   "execution_count": 30,
   "id": "3b1d0500",
   "metadata": {
    "execution": {
     "iopub.execute_input": "2024-12-29T17:09:21.828936Z",
     "iopub.status.busy": "2024-12-29T17:09:21.828586Z",
     "iopub.status.idle": "2024-12-29T17:09:21.834186Z",
     "shell.execute_reply": "2024-12-29T17:09:21.833268Z"
    },
    "papermill": {
     "duration": 0.027207,
     "end_time": "2024-12-29T17:09:21.835634",
     "exception": false,
     "start_time": "2024-12-29T17:09:21.808427",
     "status": "completed"
    },
    "tags": []
   },
   "outputs": [
    {
     "data": {
      "text/plain": [
       "'cuda'"
      ]
     },
     "execution_count": 30,
     "metadata": {},
     "output_type": "execute_result"
    }
   ],
   "source": [
    "# Setup device-agnostic code\n",
    "import torch \n",
    "device = \"cuda\" if torch.cuda.is_available() else \"cpu\"\n",
    "device"
   ]
  },
  {
   "cell_type": "markdown",
   "id": "f056390d",
   "metadata": {
    "papermill": {
     "duration": 0.018501,
     "end_time": "2024-12-29T17:09:21.874059",
     "exception": false,
     "start_time": "2024-12-29T17:09:21.855558",
     "status": "completed"
    },
    "tags": []
   },
   "source": [
    "## 6. Model 1: Building a better model with non-linearity"
   ]
  },
  {
   "cell_type": "code",
   "execution_count": 31,
   "id": "4269c029",
   "metadata": {
    "execution": {
     "iopub.execute_input": "2024-12-29T17:09:21.914397Z",
     "iopub.status.busy": "2024-12-29T17:09:21.914050Z",
     "iopub.status.idle": "2024-12-29T17:09:21.918898Z",
     "shell.execute_reply": "2024-12-29T17:09:21.918157Z"
    },
    "papermill": {
     "duration": 0.026392,
     "end_time": "2024-12-29T17:09:21.920159",
     "exception": false,
     "start_time": "2024-12-29T17:09:21.893767",
     "status": "completed"
    },
    "tags": []
   },
   "outputs": [],
   "source": [
    "class FashionMNISTModelV1(nn.Module):\n",
    "    def __init__(self, \n",
    "                 input_shape: int, \n",
    "                 hidden_units: int, \n",
    "                 output_shape: int):\n",
    "        super().__init__()\n",
    "        self.layer_stack = nn.Sequential(\n",
    "            nn.Flatten(), # flattens inputs into a single vector \n",
    "            nn.Linear(in_features=input_shape, \n",
    "                      out_features=hidden_units),\n",
    "            nn.ReLU(),\n",
    "            nn.Linear(in_features=hidden_units, \n",
    "                      out_features=output_shape),\n",
    "            nn.ReLU()\n",
    "        )\n",
    "\n",
    "    def forward(self, x: torch.Tensor):\n",
    "        return self.layer_stack(x)"
   ]
  },
  {
   "cell_type": "code",
   "execution_count": 32,
   "id": "a38e00dd",
   "metadata": {
    "execution": {
     "iopub.execute_input": "2024-12-29T17:09:21.959838Z",
     "iopub.status.busy": "2024-12-29T17:09:21.959534Z",
     "iopub.status.idle": "2024-12-29T17:09:22.151059Z",
     "shell.execute_reply": "2024-12-29T17:09:22.150140Z"
    },
    "papermill": {
     "duration": 0.213718,
     "end_time": "2024-12-29T17:09:22.152582",
     "exception": false,
     "start_time": "2024-12-29T17:09:21.938864",
     "status": "completed"
    },
    "tags": []
   },
   "outputs": [
    {
     "data": {
      "text/plain": [
       "device(type='cuda', index=0)"
      ]
     },
     "execution_count": 32,
     "metadata": {},
     "output_type": "execute_result"
    }
   ],
   "source": [
    "# Create an instance of model_1\n",
    "torch.manual_seed(42)\n",
    "model_1 = FashionMNISTModelV1(input_shape=784, # this is the output of the flatten after our 28*28 image goes in\n",
    "                              hidden_units=10,\n",
    "                              output_shape=len(class_names)).to(device) # send to the GPU if it's available\n",
    "next(model_1.parameters()).device"
   ]
  },
  {
   "cell_type": "markdown",
   "id": "c333630d",
   "metadata": {
    "papermill": {
     "duration": 0.018741,
     "end_time": "2024-12-29T17:09:22.191414",
     "exception": false,
     "start_time": "2024-12-29T17:09:22.172673",
     "status": "completed"
    },
    "tags": []
   },
   "source": [
    "### 6.1 Setup loss, optimizer and evaluation metrics"
   ]
  },
  {
   "cell_type": "code",
   "execution_count": 33,
   "id": "6eda5cec",
   "metadata": {
    "execution": {
     "iopub.execute_input": "2024-12-29T17:09:22.229979Z",
     "iopub.status.busy": "2024-12-29T17:09:22.229659Z",
     "iopub.status.idle": "2024-12-29T17:09:22.233995Z",
     "shell.execute_reply": "2024-12-29T17:09:22.233145Z"
    },
    "papermill": {
     "duration": 0.025261,
     "end_time": "2024-12-29T17:09:22.235360",
     "exception": false,
     "start_time": "2024-12-29T17:09:22.210099",
     "status": "completed"
    },
    "tags": []
   },
   "outputs": [],
   "source": [
    "from helper_functions import accuracy_fn\n",
    "loss_fn = nn.CrossEntropyLoss() # measure how wrong our model is\n",
    "optimizer = torch.optim.SGD(params=model_1.parameters(), # tries to update our model's parameters to reduce the loss\n",
    "                            lr=0.1)"
   ]
  },
  {
   "cell_type": "markdown",
   "id": "da82fa42",
   "metadata": {
    "papermill": {
     "duration": 0.019585,
     "end_time": "2024-12-29T17:09:22.274723",
     "exception": false,
     "start_time": "2024-12-29T17:09:22.255138",
     "status": "completed"
    },
    "tags": []
   },
   "source": [
    "### 6.2 Functionizing training and evaluation/testing loops\n",
    "\n",
    "Let's create a function for:\n",
    "\n",
    "* training loop - `train_step()`\n",
    "* testing loop - `test_step()`\n"
   ]
  },
  {
   "cell_type": "code",
   "execution_count": 34,
   "id": "f8151fa5",
   "metadata": {
    "execution": {
     "iopub.execute_input": "2024-12-29T17:09:22.315330Z",
     "iopub.status.busy": "2024-12-29T17:09:22.314958Z",
     "iopub.status.idle": "2024-12-29T17:09:22.321469Z",
     "shell.execute_reply": "2024-12-29T17:09:22.320527Z"
    },
    "papermill": {
     "duration": 0.028213,
     "end_time": "2024-12-29T17:09:22.322910",
     "exception": false,
     "start_time": "2024-12-29T17:09:22.294697",
     "status": "completed"
    },
    "tags": []
   },
   "outputs": [],
   "source": [
    "def train_step(model: torch.nn.Module,\n",
    "               data_loader: torch.utils.data.DataLoader,\n",
    "               loss_fn: torch.nn.Module,\n",
    "               optimizer: torch.optim.Optimizer,\n",
    "               accuracy_fn,\n",
    "               device: torch.device=device):\n",
    "    \"\"\"Performs a training with model trying to learn on data_loader.\"\"\"\n",
    "    train_loss, train_acc = 0, 0\n",
    "\n",
    "    # Put model in train mode\n",
    "    model.train()\n",
    "    \n",
    "    # Loop through the training batches\n",
    "    for batch, (X, y) in enumerate(data_loader):\n",
    "        # Put data on target device\n",
    "        X, y = X.to(device), y.to(device)\n",
    "\n",
    "        # 1. Forward pass\n",
    "        y_pred = model(X)\n",
    "\n",
    "        # 2. Calculate the loss and acc (per batch)\n",
    "        loss = loss_fn(y_pred, y)\n",
    "        train_loss += loss # accumulate the loss\n",
    "        train_acc += accuracy_fn(y_true=y,\n",
    "                                 y_pred=y_pred.argmax(dim=1)) # logits to pred labels\n",
    "        \n",
    "        # 3. Optimizer zero grad\n",
    "        optimizer.zero_grad()\n",
    "\n",
    "        # 4. Loss Backward\n",
    "        loss.backward()\n",
    "\n",
    "        # 5. Optimizer step\n",
    "        optimizer.step()\n",
    "\n",
    "    # Divide total train loss and acc by length of train dataloader\n",
    "    train_loss /= len(data_loader)\n",
    "    train_acc /= len(data_loader)\n",
    "    print(f\"Train loss: {train_loss:.5f} | Train acc: {train_acc:.2f}%\")"
   ]
  },
  {
   "cell_type": "code",
   "execution_count": 35,
   "id": "94f56dfd",
   "metadata": {
    "execution": {
     "iopub.execute_input": "2024-12-29T17:09:22.362998Z",
     "iopub.status.busy": "2024-12-29T17:09:22.362701Z",
     "iopub.status.idle": "2024-12-29T17:09:22.368049Z",
     "shell.execute_reply": "2024-12-29T17:09:22.367352Z"
    },
    "papermill": {
     "duration": 0.027034,
     "end_time": "2024-12-29T17:09:22.369560",
     "exception": false,
     "start_time": "2024-12-29T17:09:22.342526",
     "status": "completed"
    },
    "tags": []
   },
   "outputs": [],
   "source": [
    "def test_step(model: torch.nn.Module,\n",
    "              data_loader: torch.utils.data.DataLoader,\n",
    "              loss_fn: torch.nn.Module,\n",
    "              accuracy_fn,\n",
    "              device: torch.device=device):\n",
    "    \"\"\"Performs a testing loop step on model going over data_loader.\"\"\"\n",
    "    test_loss, test_acc = 0, 0\n",
    "\n",
    "    # Put model in eval mode\n",
    "    model.eval()\n",
    "    \n",
    "    # Turn on inference mode context manager\n",
    "    with torch.inference_mode():\n",
    "        for X, y in data_loader:\n",
    "            # Send the data to target device\n",
    "            X, y = X.to(device), y.to(device)\n",
    "            \n",
    "            # 1. Forward pass\n",
    "            test_pred = model(X)\n",
    "\n",
    "            # 2. Calculate the loss/acc\n",
    "            test_loss += loss_fn(test_pred, y)\n",
    "            test_acc += accuracy_fn(y_true=y,\n",
    "                                    y_pred=test_pred.argmax(dim=1)) # logits to pred labels\n",
    "\n",
    "        # Adjust metrics and print out\n",
    "        test_loss /= len(data_loader)\n",
    "        test_acc /= len(data_loader)\n",
    "        print(f\"Test loss: {test_loss:.5f} | Test acc: {test_acc:.2f}%\\n\")"
   ]
  },
  {
   "cell_type": "code",
   "execution_count": 36,
   "id": "13bcfbf4",
   "metadata": {
    "execution": {
     "iopub.execute_input": "2024-12-29T17:09:22.409498Z",
     "iopub.status.busy": "2024-12-29T17:09:22.409133Z",
     "iopub.status.idle": "2024-12-29T17:09:50.418368Z",
     "shell.execute_reply": "2024-12-29T17:09:50.417399Z"
    },
    "papermill": {
     "duration": 28.030629,
     "end_time": "2024-12-29T17:09:50.419927",
     "exception": false,
     "start_time": "2024-12-29T17:09:22.389298",
     "status": "completed"
    },
    "tags": []
   },
   "outputs": [
    {
     "data": {
      "application/vnd.jupyter.widget-view+json": {
       "model_id": "7c270790b73c475e8447a32b0ed14519",
       "version_major": 2,
       "version_minor": 0
      },
      "text/plain": [
       "  0%|          | 0/3 [00:00<?, ?it/s]"
      ]
     },
     "metadata": {},
     "output_type": "display_data"
    },
    {
     "name": "stdout",
     "output_type": "stream",
     "text": [
      "Epoch: 0\n",
      "----------\n",
      "Train loss: 1.09199 | Train acc: 61.34%\n",
      "Test loss: 0.95636 | Test acc: 65.00%\n",
      "\n",
      "Epoch: 1\n",
      "----------\n",
      "Train loss: 0.78101 | Train acc: 71.93%\n",
      "Test loss: 0.72227 | Test acc: 73.91%\n",
      "\n",
      "Epoch: 2\n",
      "----------\n",
      "Train loss: 0.67027 | Train acc: 75.94%\n",
      "Test loss: 0.68500 | Test acc: 75.02%\n",
      "\n",
      "\n",
      "------------------\n",
      "\n",
      "Train time on cuda: 28.001 seconds.\n"
     ]
    }
   ],
   "source": [
    "torch.manual_seed(42)\n",
    "\n",
    "# Measure time\n",
    "from timeit import default_timer as timer\n",
    "train_time_start_on_gpu = timer()\n",
    "\n",
    "# Set epochs\n",
    "epochs = 3\n",
    "\n",
    "# Create a optimization and evaluation loop using train_step() and test_step()\n",
    "for epoch in tqdm(range(epochs)):\n",
    "    print(f\"Epoch: {epoch}\\n----------\")\n",
    "    train_step(model=model_1,\n",
    "               data_loader=train_dataloader,\n",
    "               loss_fn=loss_fn, \n",
    "               optimizer=optimizer,\n",
    "               accuracy_fn=accuracy_fn, \n",
    "               device=device)\n",
    "    \n",
    "    test_step(model=model_1,\n",
    "               data_loader=test_dataloader,\n",
    "               loss_fn=loss_fn,\n",
    "               accuracy_fn=accuracy_fn, \n",
    "               device=device)\n",
    "\n",
    "train_time_end_on_gpu = timer()\n",
    "print(\"\\n------------------\\n\")\n",
    "total_train_time_model_1 = print_train_time(start=train_time_start_on_gpu,\n",
    "                                            end=train_time_end_on_gpu,\n",
    "                                            device=device)"
   ]
  },
  {
   "cell_type": "markdown",
   "id": "42124110",
   "metadata": {
    "papermill": {
     "duration": 0.018341,
     "end_time": "2024-12-29T17:09:50.457761",
     "exception": false,
     "start_time": "2024-12-29T17:09:50.439420",
     "status": "completed"
    },
    "tags": []
   },
   "source": [
    "> **Note:** Sometimes, depending on your data/hardware you might find that your model trains faster on CPU than GPU.\n",
    ">\n",
    "> Why is this?\n",
    "> \n",
    "> 1. It could be that the overhead for copying data/model to and from the GPU outweighs the compute benefits offered by the GPU.\n",
    "> 2. The hardware you're using has a better CPU in terms compute capability than the GPU.\n"
   ]
  },
  {
   "cell_type": "code",
   "execution_count": 37,
   "id": "5524f612",
   "metadata": {
    "execution": {
     "iopub.execute_input": "2024-12-29T17:09:50.495942Z",
     "iopub.status.busy": "2024-12-29T17:09:50.495658Z",
     "iopub.status.idle": "2024-12-29T17:09:50.500583Z",
     "shell.execute_reply": "2024-12-29T17:09:50.499827Z"
    },
    "papermill": {
     "duration": 0.02609,
     "end_time": "2024-12-29T17:09:50.502138",
     "exception": false,
     "start_time": "2024-12-29T17:09:50.476048",
     "status": "completed"
    },
    "tags": []
   },
   "outputs": [
    {
     "data": {
      "text/plain": [
       "{'model_name': 'FashionMNISTModelV0',\n",
       " 'model_loss': 0.47663894295692444,\n",
       " 'model_acc': 83.42651757188499}"
      ]
     },
     "execution_count": 37,
     "metadata": {},
     "output_type": "execute_result"
    }
   ],
   "source": [
    "model_0_results"
   ]
  },
  {
   "cell_type": "code",
   "execution_count": 38,
   "id": "cfda5069",
   "metadata": {
    "execution": {
     "iopub.execute_input": "2024-12-29T17:09:50.549243Z",
     "iopub.status.busy": "2024-12-29T17:09:50.548962Z",
     "iopub.status.idle": "2024-12-29T17:09:50.553703Z",
     "shell.execute_reply": "2024-12-29T17:09:50.552890Z"
    },
    "papermill": {
     "duration": 0.025789,
     "end_time": "2024-12-29T17:09:50.554997",
     "exception": false,
     "start_time": "2024-12-29T17:09:50.529208",
     "status": "completed"
    },
    "tags": []
   },
   "outputs": [
    {
     "data": {
      "text/plain": [
       "25.706219321999924"
      ]
     },
     "execution_count": 38,
     "metadata": {},
     "output_type": "execute_result"
    }
   ],
   "source": [
    "# Train time on CPU\n",
    "total_train_time_model_0"
   ]
  },
  {
   "cell_type": "code",
   "execution_count": 39,
   "id": "ab631525",
   "metadata": {
    "execution": {
     "iopub.execute_input": "2024-12-29T17:09:50.593926Z",
     "iopub.status.busy": "2024-12-29T17:09:50.593585Z",
     "iopub.status.idle": "2024-12-29T17:09:50.648694Z",
     "shell.execute_reply": "2024-12-29T17:09:50.647864Z"
    },
    "papermill": {
     "duration": 0.0766,
     "end_time": "2024-12-29T17:09:50.650587",
     "exception": false,
     "start_time": "2024-12-29T17:09:50.573987",
     "status": "completed"
    },
    "tags": []
   },
   "outputs": [
    {
     "data": {
      "application/vnd.jupyter.widget-view+json": {
       "model_id": "173378fb07304aae970adc4e2033440e",
       "version_major": 2,
       "version_minor": 0
      },
      "text/plain": [
       "  0%|          | 0/313 [00:00<?, ?it/s]"
      ]
     },
     "metadata": {},
     "output_type": "display_data"
    },
    {
     "name": "stdout",
     "output_type": "stream",
     "text": [
      "\u001b[31m\n",
      "---------------------------------------------------------------------------\n",
      "RuntimeError                              Traceback (most recent call last)\n",
      "<ipython-input-76-801e93364267> in <cell line: 2>()\n",
      "      1 # Get model_1 results dictionary\n",
      "----> 2 model_1_results = eval_model(model=model_1,\n",
      "      3                              data_loader=test_dataloader,\n",
      "      4                              loss_fn=loss_fn,\n",
      "      5                              accuracy_fn=accuracy_fn)\n",
      "\n",
      "<ipython-input-62-6290dde97e71> in eval_model(model, data_loader, loss_fn, accuracy_fn)\n",
      "     11         for X, y in tqdm(data_loader):\n",
      "     12             # Make preds\n",
      "---> 13             y_pred = model(X)\n",
      "     14 \n",
      "     15             # Accumulate loss and acc values per batch\n",
      "\n",
      "/usr/local/lib/python3.10/dist-packages/torch/nn/modules/module.py in _wrapped_call_impl(self, *args, **kwargs)\n",
      "   1551             return self._compiled_call_impl(*args, **kwargs)  # type: ignore[misc]\n",
      "   1552         else:\n",
      "-> 1553             return self._call_impl(*args, **kwargs)\n",
      "   1554 \n",
      "   1555     def _call_impl(self, *args, **kwargs):\n",
      "\n",
      "/usr/local/lib/python3.10/dist-packages/torch/nn/modules/module.py in _call_impl(self, *args, **kwargs)\n",
      "   1560                 or _global_backward_pre_hooks or _global_backward_hooks\n",
      "   1561                 or _global_forward_hooks or _global_forward_pre_hooks):\n",
      "-> 1562             return forward_call(*args, **kwargs)\n",
      "   1563 \n",
      "   1564         try:\n",
      "\n",
      "<ipython-input-68-d951d322dbc1> in forward(self, x)\n",
      "     16 \n",
      "     17     def forward(self, x: torch.Tensor):\n",
      "---> 18         return self.layer_stack(x)\n",
      "\n",
      "/usr/local/lib/python3.10/dist-packages/torch/nn/modules/module.py in _wrapped_call_impl(self, *args, **kwargs)\n",
      "   1551             return self._compiled_call_impl(*args, **kwargs)  # type: ignore[misc]\n",
      "   1552         else:\n",
      "-> 1553             return self._call_impl(*args, **kwargs)\n",
      "   1554 \n",
      "   1555     def _call_impl(self, *args, **kwargs):\n",
      "\n",
      "/usr/local/lib/python3.10/dist-packages/torch/nn/modules/module.py in _call_impl(self, *args, **kwargs)\n",
      "   1560                 or _global_backward_pre_hooks or _global_backward_hooks\n",
      "   1561                 or _global_forward_hooks or _global_forward_pre_hooks):\n",
      "-> 1562             return forward_call(*args, **kwargs)\n",
      "   1563 \n",
      "   1564         try:\n",
      "\n",
      "/usr/local/lib/python3.10/dist-packages/torch/nn/modules/container.py in forward(self, input)\n",
      "    217     def forward(self, input):\n",
      "    218         for module in self:\n",
      "--> 219             input = module(input)\n",
      "    220         return input\n",
      "    221 \n",
      "\n",
      "/usr/local/lib/python3.10/dist-packages/torch/nn/modules/module.py in _wrapped_call_impl(self, *args, **kwargs)\n",
      "   1551             return self._compiled_call_impl(*args, **kwargs)  # type: ignore[misc]\n",
      "   1552         else:\n",
      "-> 1553             return self._call_impl(*args, **kwargs)\n",
      "   1554 \n",
      "   1555     def _call_impl(self, *args, **kwargs):\n",
      "\n",
      "/usr/local/lib/python3.10/dist-packages/torch/nn/modules/module.py in _call_impl(self, *args, **kwargs)\n",
      "   1560                 or _global_backward_pre_hooks or _global_backward_hooks\n",
      "   1561                 or _global_forward_hooks or _global_forward_pre_hooks):\n",
      "-> 1562             return forward_call(*args, **kwargs)\n",
      "   1563 \n",
      "   1564         try:\n",
      "\n",
      "/usr/local/lib/python3.10/dist-packages/torch/nn/modules/linear.py in forward(self, input)\n",
      "    115 \n",
      "    116     def forward(self, input: Tensor) -> Tensor:\n",
      "--> 117         return F.linear(input, self.weight, self.bias)\n",
      "    118 \n",
      "    119     def extra_repr(self) -> str:\n",
      "\n",
      "RuntimeError: Expected all tensors to be on the same device, but found at least two devices, cuda:0 and cpu! (when checking argument for argument mat1 in method wrapper_CUDA_addmm)\n",
      "    \n"
     ]
    }
   ],
   "source": [
    "# Get model_1 results dictionary\n",
    "from colorama import Fore\n",
    "\n",
    "try: # deliberate error\n",
    "    model_1_results = eval_model(model=model_1,\n",
    "                                 data_loader=test_dataloader,\n",
    "                                 loss_fn=loss_fn,\n",
    "                                 accuracy_fn=accuracy_fn)\n",
    "    print(model_1_results)\n",
    "\n",
    "except Exception as e:\n",
    "    print(Fore.RED + \"\"\"\n",
    "---------------------------------------------------------------------------\n",
    "RuntimeError                              Traceback (most recent call last)\n",
    "<ipython-input-76-801e93364267> in <cell line: 2>()\n",
    "      1 # Get model_1 results dictionary\n",
    "----> 2 model_1_results = eval_model(model=model_1,\n",
    "      3                              data_loader=test_dataloader,\n",
    "      4                              loss_fn=loss_fn,\n",
    "      5                              accuracy_fn=accuracy_fn)\n",
    "\n",
    "<ipython-input-62-6290dde97e71> in eval_model(model, data_loader, loss_fn, accuracy_fn)\n",
    "     11         for X, y in tqdm(data_loader):\n",
    "     12             # Make preds\n",
    "---> 13             y_pred = model(X)\n",
    "     14 \n",
    "     15             # Accumulate loss and acc values per batch\n",
    "\n",
    "/usr/local/lib/python3.10/dist-packages/torch/nn/modules/module.py in _wrapped_call_impl(self, *args, **kwargs)\n",
    "   1551             return self._compiled_call_impl(*args, **kwargs)  # type: ignore[misc]\n",
    "   1552         else:\n",
    "-> 1553             return self._call_impl(*args, **kwargs)\n",
    "   1554 \n",
    "   1555     def _call_impl(self, *args, **kwargs):\n",
    "\n",
    "/usr/local/lib/python3.10/dist-packages/torch/nn/modules/module.py in _call_impl(self, *args, **kwargs)\n",
    "   1560                 or _global_backward_pre_hooks or _global_backward_hooks\n",
    "   1561                 or _global_forward_hooks or _global_forward_pre_hooks):\n",
    "-> 1562             return forward_call(*args, **kwargs)\n",
    "   1563 \n",
    "   1564         try:\n",
    "\n",
    "<ipython-input-68-d951d322dbc1> in forward(self, x)\n",
    "     16 \n",
    "     17     def forward(self, x: torch.Tensor):\n",
    "---> 18         return self.layer_stack(x)\n",
    "\n",
    "/usr/local/lib/python3.10/dist-packages/torch/nn/modules/module.py in _wrapped_call_impl(self, *args, **kwargs)\n",
    "   1551             return self._compiled_call_impl(*args, **kwargs)  # type: ignore[misc]\n",
    "   1552         else:\n",
    "-> 1553             return self._call_impl(*args, **kwargs)\n",
    "   1554 \n",
    "   1555     def _call_impl(self, *args, **kwargs):\n",
    "\n",
    "/usr/local/lib/python3.10/dist-packages/torch/nn/modules/module.py in _call_impl(self, *args, **kwargs)\n",
    "   1560                 or _global_backward_pre_hooks or _global_backward_hooks\n",
    "   1561                 or _global_forward_hooks or _global_forward_pre_hooks):\n",
    "-> 1562             return forward_call(*args, **kwargs)\n",
    "   1563 \n",
    "   1564         try:\n",
    "\n",
    "/usr/local/lib/python3.10/dist-packages/torch/nn/modules/container.py in forward(self, input)\n",
    "    217     def forward(self, input):\n",
    "    218         for module in self:\n",
    "--> 219             input = module(input)\n",
    "    220         return input\n",
    "    221 \n",
    "\n",
    "/usr/local/lib/python3.10/dist-packages/torch/nn/modules/module.py in _wrapped_call_impl(self, *args, **kwargs)\n",
    "   1551             return self._compiled_call_impl(*args, **kwargs)  # type: ignore[misc]\n",
    "   1552         else:\n",
    "-> 1553             return self._call_impl(*args, **kwargs)\n",
    "   1554 \n",
    "   1555     def _call_impl(self, *args, **kwargs):\n",
    "\n",
    "/usr/local/lib/python3.10/dist-packages/torch/nn/modules/module.py in _call_impl(self, *args, **kwargs)\n",
    "   1560                 or _global_backward_pre_hooks or _global_backward_hooks\n",
    "   1561                 or _global_forward_hooks or _global_forward_pre_hooks):\n",
    "-> 1562             return forward_call(*args, **kwargs)\n",
    "   1563 \n",
    "   1564         try:\n",
    "\n",
    "/usr/local/lib/python3.10/dist-packages/torch/nn/modules/linear.py in forward(self, input)\n",
    "    115 \n",
    "    116     def forward(self, input: Tensor) -> Tensor:\n",
    "--> 117         return F.linear(input, self.weight, self.bias)\n",
    "    118 \n",
    "    119     def extra_repr(self) -> str:\n",
    "\n",
    "RuntimeError: Expected all tensors to be on the same device, but found at least two devices, cuda:0 and cpu! (when checking argument for argument mat1 in method wrapper_CUDA_addmm)\n",
    "    \"\"\")"
   ]
  },
  {
   "cell_type": "code",
   "execution_count": 40,
   "id": "20754259",
   "metadata": {
    "execution": {
     "iopub.execute_input": "2024-12-29T17:09:50.697340Z",
     "iopub.status.busy": "2024-12-29T17:09:50.696953Z",
     "iopub.status.idle": "2024-12-29T17:09:50.705185Z",
     "shell.execute_reply": "2024-12-29T17:09:50.704278Z"
    },
    "papermill": {
     "duration": 0.031025,
     "end_time": "2024-12-29T17:09:50.706916",
     "exception": false,
     "start_time": "2024-12-29T17:09:50.675891",
     "status": "completed"
    },
    "tags": []
   },
   "outputs": [],
   "source": [
    "torch.manual_seed(42)\n",
    "\n",
    "def eval_model(model: torch.nn.Module,\n",
    "               data_loader: torch.utils.data.DataLoader,\n",
    "               loss_fn: torch.nn.Module,\n",
    "               accuracy_fn,\n",
    "               device: torch.device=device):\n",
    "    \"\"\"Returns a dictionary containing the results of model predicting on data_loader.\"\"\"\n",
    "    loss, acc = 0, 0\n",
    "    model.eval()\n",
    "    with torch.inference_mode():\n",
    "        for X, y in tqdm(data_loader):\n",
    "            # send data to device\n",
    "            X, y = X.to(device), y.to(device)\n",
    "            \n",
    "            # Make preds\n",
    "            y_pred = model(X)\n",
    "\n",
    "            # Accumulate loss and acc values per batch\n",
    "            loss += loss_fn(y_pred, y)\n",
    "            acc += accuracy_fn(y_true=y,\n",
    "                               y_pred=y_pred.argmax(dim=1))\n",
    "\n",
    "        # Scale the loss and acc to find avg loss/acc per batch\n",
    "        loss /= len(data_loader)\n",
    "        acc /= len(data_loader)\n",
    "\n",
    "    return {\"model_name\": model.__class__.__name__,  # Only works when model was created with a class\n",
    "            \"model_loss\": loss.item(),\n",
    "            \"model_acc\": acc}"
   ]
  },
  {
   "cell_type": "code",
   "execution_count": 41,
   "id": "fb3afbc5",
   "metadata": {
    "execution": {
     "iopub.execute_input": "2024-12-29T17:09:50.757017Z",
     "iopub.status.busy": "2024-12-29T17:09:50.756713Z",
     "iopub.status.idle": "2024-12-29T17:09:51.830573Z",
     "shell.execute_reply": "2024-12-29T17:09:51.829743Z"
    },
    "papermill": {
     "duration": 1.095714,
     "end_time": "2024-12-29T17:09:51.831861",
     "exception": false,
     "start_time": "2024-12-29T17:09:50.736147",
     "status": "completed"
    },
    "tags": []
   },
   "outputs": [
    {
     "data": {
      "application/vnd.jupyter.widget-view+json": {
       "model_id": "88657c4f2d1c436b817072074756d167",
       "version_major": 2,
       "version_minor": 0
      },
      "text/plain": [
       "  0%|          | 0/313 [00:00<?, ?it/s]"
      ]
     },
     "metadata": {},
     "output_type": "display_data"
    },
    {
     "data": {
      "text/plain": [
       "{'model_name': 'FashionMNISTModelV1',\n",
       " 'model_loss': 0.6850008964538574,\n",
       " 'model_acc': 75.01996805111821}"
      ]
     },
     "execution_count": 41,
     "metadata": {},
     "output_type": "execute_result"
    }
   ],
   "source": [
    "model_1_results = eval_model(model=model_1,\n",
    "                             data_loader=test_dataloader,\n",
    "                             loss_fn=loss_fn,\n",
    "                             accuracy_fn=accuracy_fn,\n",
    "                             device=device)\n",
    "model_1_results"
   ]
  },
  {
   "cell_type": "markdown",
   "id": "6082f232",
   "metadata": {
    "papermill": {
     "duration": 0.019283,
     "end_time": "2024-12-29T17:09:51.871273",
     "exception": false,
     "start_time": "2024-12-29T17:09:51.851990",
     "status": "completed"
    },
    "tags": []
   },
   "source": [
    "## Model 2: Building a Convolutional Neural Network (CNN)\n",
    "\n",
    "CNN's are also known ConvNets.\n",
    "\n",
    "CNN's are known for their capabilities to find patterns in visual data."
   ]
  },
  {
   "cell_type": "code",
   "execution_count": 42,
   "id": "e75d9556",
   "metadata": {
    "execution": {
     "iopub.execute_input": "2024-12-29T17:09:51.910652Z",
     "iopub.status.busy": "2024-12-29T17:09:51.910361Z",
     "iopub.status.idle": "2024-12-29T17:09:51.916838Z",
     "shell.execute_reply": "2024-12-29T17:09:51.916131Z"
    },
    "papermill": {
     "duration": 0.027713,
     "end_time": "2024-12-29T17:09:51.918069",
     "exception": false,
     "start_time": "2024-12-29T17:09:51.890356",
     "status": "completed"
    },
    "tags": []
   },
   "outputs": [],
   "source": [
    "# Create a convolutional neural network\n",
    "class FashionMNISTModelV2(nn.Module):\n",
    "    \"\"\"\n",
    "    Model architecture that replicates the TinyVGG\n",
    "    Model from CNN explainer website.\n",
    "    \"\"\"\n",
    "    def __init__(self,\n",
    "                 input_shape: int,\n",
    "                 hidden_units: int,\n",
    "                 output_shape: int):\n",
    "        super().__init__()\n",
    "        self.conv_block_1 = nn.Sequential(\n",
    "            nn.Conv2d(in_channels=input_shape,\n",
    "                      out_channels=hidden_units,\n",
    "                      kernel_size=3,\n",
    "                      stride=1,\n",
    "                      padding=1), # values we can set ourselves in our NN's are called hyperparameters\n",
    "            nn.ReLU(),\n",
    "            nn.Conv2d(in_channels=hidden_units,\n",
    "                      out_channels=hidden_units,\n",
    "                      kernel_size=3,\n",
    "                      stride=1,\n",
    "                      padding=1),\n",
    "            nn.ReLU(),\n",
    "            nn.MaxPool2d(kernel_size=2)\n",
    "        )\n",
    "        self.conv_block_2 = nn.Sequential(\n",
    "            nn.Conv2d(in_channels=hidden_units,\n",
    "                      out_channels=hidden_units,\n",
    "                      kernel_size=3,\n",
    "                      stride=1,\n",
    "                      padding=1),\n",
    "            nn.ReLU(),\n",
    "            nn.Conv2d(in_channels=hidden_units,\n",
    "                      out_channels=hidden_units,\n",
    "                      kernel_size=3,\n",
    "                      stride=1,\n",
    "                      padding=1),\n",
    "            nn.ReLU(),\n",
    "            nn.MaxPool2d(kernel_size=2)\n",
    "        )\n",
    "        self.classifier = nn.Sequential(\n",
    "            nn.Flatten(),\n",
    "            nn.Linear(in_features=hidden_units*7*7, # there's a trick to calculating this...\n",
    "                      out_features=output_shape)\n",
    "        )\n",
    "\n",
    "    def forward(self, x):\n",
    "        x = self.conv_block_1(x)\n",
    "        # print(f\"Output shape of conv_block_1: {x.shape}\")\n",
    "        x = self.conv_block_2(x)\n",
    "        # print(f\"Output shape of conv_block_2: {x.shape}\")\n",
    "        x = self.classifier(x)\n",
    "        # print(f\"Output shape of classifier: {x.shape}\")\n",
    "        return x"
   ]
  },
  {
   "cell_type": "code",
   "execution_count": 43,
   "id": "3310b235",
   "metadata": {
    "execution": {
     "iopub.execute_input": "2024-12-29T17:09:51.958582Z",
     "iopub.status.busy": "2024-12-29T17:09:51.958312Z",
     "iopub.status.idle": "2024-12-29T17:09:51.964775Z",
     "shell.execute_reply": "2024-12-29T17:09:51.964136Z"
    },
    "papermill": {
     "duration": 0.027987,
     "end_time": "2024-12-29T17:09:51.966015",
     "exception": false,
     "start_time": "2024-12-29T17:09:51.938028",
     "status": "completed"
    },
    "tags": []
   },
   "outputs": [],
   "source": [
    "torch.manual_seed(42)\n",
    "model_2 = FashionMNISTModelV2(input_shape=1,\n",
    "                              hidden_units=10,\n",
    "                              output_shape=len(class_names)).to(device)"
   ]
  },
  {
   "cell_type": "code",
   "execution_count": 44,
   "id": "95f4f733",
   "metadata": {
    "execution": {
     "iopub.execute_input": "2024-12-29T17:09:52.006094Z",
     "iopub.status.busy": "2024-12-29T17:09:52.005849Z",
     "iopub.status.idle": "2024-12-29T17:09:52.561368Z",
     "shell.execute_reply": "2024-12-29T17:09:52.560494Z"
    },
    "papermill": {
     "duration": 0.577191,
     "end_time": "2024-12-29T17:09:52.562659",
     "exception": false,
     "start_time": "2024-12-29T17:09:51.985468",
     "status": "completed"
    },
    "tags": []
   },
   "outputs": [
    {
     "data": {
      "text/plain": [
       "tensor([[ 0.0246, -0.0644,  0.0551, -0.0360, -0.0139,  0.0113, -0.0014, -0.0075,\n",
       "          0.0213,  0.0076]], device='cuda:0', grad_fn=<AddmmBackward0>)"
      ]
     },
     "execution_count": 44,
     "metadata": {},
     "output_type": "execute_result"
    }
   ],
   "source": [
    "# Pass image through model\n",
    "model_2(image.unsqueeze(0).to(device))"
   ]
  },
  {
   "cell_type": "code",
   "execution_count": 45,
   "id": "1dbca9e4",
   "metadata": {
    "execution": {
     "iopub.execute_input": "2024-12-29T17:09:52.641801Z",
     "iopub.status.busy": "2024-12-29T17:09:52.641476Z",
     "iopub.status.idle": "2024-12-29T17:09:52.876355Z",
     "shell.execute_reply": "2024-12-29T17:09:52.875460Z"
    },
    "papermill": {
     "duration": 0.25709,
     "end_time": "2024-12-29T17:09:52.877757",
     "exception": false,
     "start_time": "2024-12-29T17:09:52.620667",
     "status": "completed"
    },
    "tags": []
   },
   "outputs": [
    {
     "data": {
      "image/png": "[encoded data removed]",
      "text/plain": [
       "<Figure size 640x480 with 1 Axes>"
      ]
     },
     "metadata": {},
     "output_type": "display_data"
    }
   ],
   "source": [
    "plt.imshow(image.squeeze(), cmap='gray');"
   ]
  },
  {
   "cell_type": "markdown",
   "id": "fd47a8e9",
   "metadata": {
    "papermill": {
     "duration": 0.019591,
     "end_time": "2024-12-29T17:09:52.917412",
     "exception": false,
     "start_time": "2024-12-29T17:09:52.897821",
     "status": "completed"
    },
    "tags": []
   },
   "source": [
    "### 7.1 Stepping through `nn.Conv2d()`"
   ]
  },
  {
   "cell_type": "code",
   "execution_count": 46,
   "id": "44379008",
   "metadata": {
    "execution": {
     "iopub.execute_input": "2024-12-29T17:09:52.958491Z",
     "iopub.status.busy": "2024-12-29T17:09:52.958132Z",
     "iopub.status.idle": "2024-12-29T17:09:52.969242Z",
     "shell.execute_reply": "2024-12-29T17:09:52.968377Z"
    },
    "papermill": {
     "duration": 0.033299,
     "end_time": "2024-12-29T17:09:52.970638",
     "exception": false,
     "start_time": "2024-12-29T17:09:52.937339",
     "status": "completed"
    },
    "tags": []
   },
   "outputs": [
    {
     "name": "stdout",
     "output_type": "stream",
     "text": [
      "Image batch shape: torch.Size([32, 3, 64, 64])\n",
      "Single image shape: torch.Size([3, 64, 64])\n",
      "Test Image:\n",
      "tensor([[[ 1.9269,  1.4873,  0.9007,  ...,  1.8446, -1.1845,  1.3835],\n",
      "         [ 1.4451,  0.8564,  2.2181,  ...,  0.3399,  0.7200,  0.4114],\n",
      "         [ 1.9312,  1.0119, -1.4364,  ..., -0.5558,  0.7043,  0.7099],\n",
      "         ...,\n",
      "         [-0.5610, -0.4830,  0.4770,  ..., -0.2713, -0.9537, -0.6737],\n",
      "         [ 0.3076, -0.1277,  0.0366,  ..., -2.0060,  0.2824, -0.8111],\n",
      "         [-1.5486,  0.0485, -0.7712,  ..., -0.1403,  0.9416, -0.0118]],\n",
      "\n",
      "        [[-0.5197,  1.8524,  1.8365,  ...,  0.8935, -1.5114, -0.8515],\n",
      "         [ 2.0818,  1.0677, -1.4277,  ...,  1.6612, -2.6223, -0.4319],\n",
      "         [-0.1010, -0.4388, -1.9775,  ...,  0.2106,  0.2536, -0.7318],\n",
      "         ...,\n",
      "         [ 0.2779,  0.7342, -0.3736,  ..., -0.4601,  0.1815,  0.1850],\n",
      "         [ 0.7205, -0.2833,  0.0937,  ..., -0.1002, -2.3609,  2.2465],\n",
      "         [-1.3242, -0.1973,  0.2920,  ...,  0.5409,  0.6940,  1.8563]],\n",
      "\n",
      "        [[-0.7978,  1.0261,  1.1465,  ...,  1.2134,  0.9354, -0.0780],\n",
      "         [-1.4647, -1.9571,  0.1017,  ..., -1.9986, -0.7409,  0.7011],\n",
      "         [-1.3938,  0.8466, -1.7191,  ..., -1.1867,  0.1320,  0.3407],\n",
      "         ...,\n",
      "         [ 0.8206, -0.3745,  1.2499,  ..., -0.0676,  0.0385,  0.6335],\n",
      "         [-0.5589, -0.3393,  0.2347,  ...,  2.1181,  2.4569,  1.3083],\n",
      "         [-0.4092,  1.5199,  0.2401,  ..., -0.2558,  0.7870,  0.9924]]])\n"
     ]
    }
   ],
   "source": [
    "torch.manual_seed(42)\n",
    "\n",
    "# Create a batch\n",
    "images = torch.randn(size=(32, 3, 64, 64))\n",
    "test_image = images[0]\n",
    "\n",
    "print(f\"Image batch shape: {images.shape}\")\n",
    "print(f\"Single image shape: {test_image.shape}\")\n",
    "print(f\"Test Image:\\n{test_image}\")"
   ]
  },
  {
   "cell_type": "code",
   "execution_count": 47,
   "id": "5db992ae",
   "metadata": {
    "execution": {
     "iopub.execute_input": "2024-12-29T17:09:53.011648Z",
     "iopub.status.busy": "2024-12-29T17:09:53.011356Z",
     "iopub.status.idle": "2024-12-29T17:09:53.024441Z",
     "shell.execute_reply": "2024-12-29T17:09:53.023402Z"
    },
    "papermill": {
     "duration": 0.034761,
     "end_time": "2024-12-29T17:09:53.025783",
     "exception": false,
     "start_time": "2024-12-29T17:09:52.991022",
     "status": "completed"
    },
    "tags": []
   },
   "outputs": [
    {
     "data": {
      "text/plain": [
       "torch.Size([1, 10, 62, 62])"
      ]
     },
     "execution_count": 47,
     "metadata": {},
     "output_type": "execute_result"
    }
   ],
   "source": [
    "torch.manual_seed(42)\n",
    "# Create a single conv2d layer\n",
    "conv_layer = nn.Conv2d(\n",
    "    in_channels=3,\n",
    "    out_channels=10,\n",
    "    kernel_size=(3, 3),\n",
    "    stride=1,\n",
    "    padding=0\n",
    ")\n",
    "\n",
    "# Pass the data through the conv layer\n",
    "conv_output=conv_layer(test_image.unsqueeze(0))\n",
    "conv_output.shape"
   ]
  },
  {
   "cell_type": "code",
   "execution_count": 48,
   "id": "28df7be8",
   "metadata": {
    "execution": {
     "iopub.execute_input": "2024-12-29T17:09:53.067258Z",
     "iopub.status.busy": "2024-12-29T17:09:53.066988Z",
     "iopub.status.idle": "2024-12-29T17:09:53.071594Z",
     "shell.execute_reply": "2024-12-29T17:09:53.070778Z"
    },
    "papermill": {
     "duration": 0.026765,
     "end_time": "2024-12-29T17:09:53.072839",
     "exception": false,
     "start_time": "2024-12-29T17:09:53.046074",
     "status": "completed"
    },
    "tags": []
   },
   "outputs": [
    {
     "data": {
      "text/plain": [
       "torch.Size([1, 3, 64, 64])"
      ]
     },
     "execution_count": 48,
     "metadata": {},
     "output_type": "execute_result"
    }
   ],
   "source": [
    "test_image.unsqueeze(0).shape"
   ]
  },
  {
   "cell_type": "markdown",
   "id": "7a7cb0c5",
   "metadata": {
    "papermill": {
     "duration": 0.019775,
     "end_time": "2024-12-29T17:09:53.112515",
     "exception": false,
     "start_time": "2024-12-29T17:09:53.092740",
     "status": "completed"
    },
    "tags": []
   },
   "source": [
    "### 7.2 Stepping through `nn.MaxPool2d()`"
   ]
  },
  {
   "cell_type": "code",
   "execution_count": 49,
   "id": "6d813c00",
   "metadata": {
    "execution": {
     "iopub.execute_input": "2024-12-29T17:09:53.154054Z",
     "iopub.status.busy": "2024-12-29T17:09:53.153743Z",
     "iopub.status.idle": "2024-12-29T17:09:53.163645Z",
     "shell.execute_reply": "2024-12-29T17:09:53.162740Z"
    },
    "papermill": {
     "duration": 0.032375,
     "end_time": "2024-12-29T17:09:53.164908",
     "exception": false,
     "start_time": "2024-12-29T17:09:53.132533",
     "status": "completed"
    },
    "tags": []
   },
   "outputs": [
    {
     "name": "stdout",
     "output_type": "stream",
     "text": [
      "Test image original shape: torch.Size([3, 64, 64])\n",
      "Test image with unsqueezed dimension: torch.Size([1, 3, 64, 64])\n",
      "Shape after going through conv_layer(): torch.Size([1, 10, 62, 62])\n",
      "Shape after going through conv_layer() and max_pool_layer(): torch.Size([1, 10, 31, 31])\n"
     ]
    }
   ],
   "source": [
    "# Print out original image shape without unsqueezed dimension\n",
    "print(f\"Test image original shape: {test_image.shape}\")\n",
    "print(f\"Test image with unsqueezed dimension: {test_image.unsqueeze(0).shape}\")\n",
    "\n",
    "# Create a sample nn.MaxPool2d layer\n",
    "max_pool_layer = nn.MaxPool2d(kernel_size=2)\n",
    "\n",
    "# Pass data through conv layer\n",
    "test_image_through_conv = conv_layer(test_image.unsqueeze(dim=0))\n",
    "print(f\"Shape after going through conv_layer(): {test_image_through_conv.shape}\")\n",
    "\n",
    "# Pass data through the max pool layer\n",
    "test_image_through_conv_and_max_pool = max_pool_layer(test_image_through_conv)\n",
    "print(f\"Shape after going through conv_layer() and max_pool_layer(): {test_image_through_conv_and_max_pool.shape}\")"
   ]
  },
  {
   "cell_type": "code",
   "execution_count": 50,
   "id": "4ec91a1e",
   "metadata": {
    "execution": {
     "iopub.execute_input": "2024-12-29T17:09:53.206144Z",
     "iopub.status.busy": "2024-12-29T17:09:53.205848Z",
     "iopub.status.idle": "2024-12-29T17:09:53.214218Z",
     "shell.execute_reply": "2024-12-29T17:09:53.213317Z"
    },
    "papermill": {
     "duration": 0.030798,
     "end_time": "2024-12-29T17:09:53.215683",
     "exception": false,
     "start_time": "2024-12-29T17:09:53.184885",
     "status": "completed"
    },
    "tags": []
   },
   "outputs": [
    {
     "name": "stdout",
     "output_type": "stream",
     "text": [
      "Random tensor:\n",
      "tensor([[[[0.3367, 0.1288],\n",
      "          [0.2345, 0.2303]]]])\n",
      "Random tensor shape: torch.Size([1, 1, 2, 2])\n",
      "\n",
      "Max pool tensor:\n",
      "tensor([[[[0.3367]]]])\n",
      "Max pool tensor shape:torch.Size([1, 1, 1, 1])\n"
     ]
    }
   ],
   "source": [
    "torch.manual_seed(42)\n",
    "# Create a random tensor, with a similar number of dims to our images\n",
    "random_tensor = torch.randn(size=(1, 1, 2, 2))\n",
    "print(f\"Random tensor:\\n{random_tensor}\")\n",
    "print(f\"Random tensor shape: {random_tensor.shape}\")\n",
    "\n",
    "# Create a maxpool layer\n",
    "max_pool_layer = nn.MaxPool2d(kernel_size=2)\n",
    "\n",
    "# Pass the tensor through max pool layer\n",
    "max_pool_tensor = max_pool_layer(random_tensor)\n",
    "print(f\"\\nMax pool tensor:\\n{max_pool_tensor}\")\n",
    "print(f\"Max pool tensor shape:{max_pool_tensor.shape}\")"
   ]
  },
  {
   "cell_type": "markdown",
   "id": "21a4192c",
   "metadata": {
    "papermill": {
     "duration": 0.020225,
     "end_time": "2024-12-29T17:09:53.256507",
     "exception": false,
     "start_time": "2024-12-29T17:09:53.236282",
     "status": "completed"
    },
    "tags": []
   },
   "source": [
    "### 7.3 Setup a loss function and optimizer for `model_2`"
   ]
  },
  {
   "cell_type": "code",
   "execution_count": 51,
   "id": "d75f0ef2",
   "metadata": {
    "execution": {
     "iopub.execute_input": "2024-12-29T17:09:53.298549Z",
     "iopub.status.busy": "2024-12-29T17:09:53.298245Z",
     "iopub.status.idle": "2024-12-29T17:09:53.302154Z",
     "shell.execute_reply": "2024-12-29T17:09:53.301359Z"
    },
    "papermill": {
     "duration": 0.026427,
     "end_time": "2024-12-29T17:09:53.303545",
     "exception": false,
     "start_time": "2024-12-29T17:09:53.277118",
     "status": "completed"
    },
    "tags": []
   },
   "outputs": [],
   "source": [
    "# Setup loss function/eval metrics/optimizer\n",
    "from helper_functions import accuracy_fn\n",
    "\n",
    "loss_fn=nn.CrossEntropyLoss()\n",
    "optimizer=torch.optim.SGD(params=model_2.parameters(),\n",
    "                          lr=0.1)"
   ]
  },
  {
   "cell_type": "markdown",
   "id": "e4715865",
   "metadata": {
    "papermill": {
     "duration": 0.019432,
     "end_time": "2024-12-29T17:09:53.342658",
     "exception": false,
     "start_time": "2024-12-29T17:09:53.323226",
     "status": "completed"
    },
    "tags": []
   },
   "source": [
    "### 7.4 Training and testing `model_2` using our training and test functions"
   ]
  },
  {
   "cell_type": "code",
   "execution_count": 52,
   "id": "7477cc84",
   "metadata": {
    "execution": {
     "iopub.execute_input": "2024-12-29T17:09:53.383388Z",
     "iopub.status.busy": "2024-12-29T17:09:53.382992Z",
     "iopub.status.idle": "2024-12-29T17:10:26.136245Z",
     "shell.execute_reply": "2024-12-29T17:10:26.135446Z"
    },
    "papermill": {
     "duration": 32.775525,
     "end_time": "2024-12-29T17:10:26.138021",
     "exception": false,
     "start_time": "2024-12-29T17:09:53.362496",
     "status": "completed"
    },
    "tags": []
   },
   "outputs": [
    {
     "data": {
      "application/vnd.jupyter.widget-view+json": {
       "model_id": "5e3b25681f6d4f76ba4457ad5e13539d",
       "version_major": 2,
       "version_minor": 0
      },
      "text/plain": [
       "  0%|          | 0/3 [00:00<?, ?it/s]"
      ]
     },
     "metadata": {},
     "output_type": "display_data"
    },
    {
     "name": "stdout",
     "output_type": "stream",
     "text": [
      "Epoch: 0\n",
      "-------\n",
      "Train loss: 0.59354 | Train acc: 78.41%\n",
      "Test loss: 0.39669 | Test acc: 85.75%\n",
      "\n",
      "Epoch: 1\n",
      "-------\n",
      "Train loss: 0.36272 | Train acc: 86.87%\n",
      "Test loss: 0.35917 | Test acc: 86.78%\n",
      "\n",
      "Epoch: 2\n",
      "-------\n",
      "Train loss: 0.32532 | Train acc: 88.14%\n",
      "Test loss: 0.32396 | Test acc: 88.34%\n",
      "\n",
      "Train time on cuda: 32.746 seconds.\n"
     ]
    }
   ],
   "source": [
    "torch.manual_seed(42)\n",
    "torch.cuda.manual_seed(42)\n",
    "\n",
    "# Measure time\n",
    "from timeit import default_timer as timer\n",
    "train_time_start_model_2 = timer()\n",
    "\n",
    "# Train and test model\n",
    "epochs=3\n",
    "\n",
    "for epoch in tqdm(range(epochs)):\n",
    "    print(f\"Epoch: {epoch}\\n-------\")\n",
    "    train_step(\n",
    "        model=model_2,\n",
    "        data_loader=train_dataloader,\n",
    "        loss_fn=loss_fn,\n",
    "        optimizer=optimizer,\n",
    "        accuracy_fn=accuracy_fn,\n",
    "        device=device\n",
    "    )\n",
    "    test_step(\n",
    "        model=model_2,\n",
    "        data_loader=test_dataloader,\n",
    "        loss_fn=loss_fn,\n",
    "        accuracy_fn=accuracy_fn,\n",
    "        device=device\n",
    "    )\n",
    "\n",
    "train_time_end_model_2 = timer()\n",
    "total_train_time_model_2 = print_train_time(start=train_time_start_model_2,\n",
    "                                            end=train_time_end_model_2,\n",
    "                                            device=device)"
   ]
  },
  {
   "cell_type": "code",
   "execution_count": 53,
   "id": "68444efb",
   "metadata": {
    "execution": {
     "iopub.execute_input": "2024-12-29T17:10:26.181975Z",
     "iopub.status.busy": "2024-12-29T17:10:26.181693Z",
     "iopub.status.idle": "2024-12-29T17:10:27.310715Z",
     "shell.execute_reply": "2024-12-29T17:10:27.309867Z"
    },
    "papermill": {
     "duration": 1.152231,
     "end_time": "2024-12-29T17:10:27.311945",
     "exception": false,
     "start_time": "2024-12-29T17:10:26.159714",
     "status": "completed"
    },
    "tags": []
   },
   "outputs": [
    {
     "data": {
      "application/vnd.jupyter.widget-view+json": {
       "model_id": "385b99e6ce0a42d19a3829ea75b59e80",
       "version_major": 2,
       "version_minor": 0
      },
      "text/plain": [
       "  0%|          | 0/313 [00:00<?, ?it/s]"
      ]
     },
     "metadata": {},
     "output_type": "display_data"
    },
    {
     "data": {
      "text/plain": [
       "{'model_name': 'FashionMNISTModelV2',\n",
       " 'model_loss': 0.32395678758621216,\n",
       " 'model_acc': 88.33865814696486}"
      ]
     },
     "execution_count": 53,
     "metadata": {},
     "output_type": "execute_result"
    }
   ],
   "source": [
    "# Get model_2 results\n",
    "model_2_results = eval_model(\n",
    "    model=model_2,\n",
    "    data_loader=test_dataloader,\n",
    "    loss_fn=loss_fn,\n",
    "    accuracy_fn=accuracy_fn,\n",
    "    device=device\n",
    ")\n",
    "model_2_results"
   ]
  },
  {
   "cell_type": "markdown",
   "id": "abe37a74",
   "metadata": {
    "papermill": {
     "duration": 0.019784,
     "end_time": "2024-12-29T17:10:27.353323",
     "exception": false,
     "start_time": "2024-12-29T17:10:27.333539",
     "status": "completed"
    },
    "tags": []
   },
   "source": [
    "## 8. Compare model results and training time"
   ]
  },
  {
   "cell_type": "code",
   "execution_count": 54,
   "id": "4ccd824b",
   "metadata": {
    "execution": {
     "iopub.execute_input": "2024-12-29T17:10:27.394890Z",
     "iopub.status.busy": "2024-12-29T17:10:27.394582Z",
     "iopub.status.idle": "2024-12-29T17:10:27.990685Z",
     "shell.execute_reply": "2024-12-29T17:10:27.989795Z"
    },
    "papermill": {
     "duration": 0.618801,
     "end_time": "2024-12-29T17:10:27.992028",
     "exception": false,
     "start_time": "2024-12-29T17:10:27.373227",
     "status": "completed"
    },
    "tags": []
   },
   "outputs": [
    {
     "data": {
      "text/html": [
       "<div>\n",
       "<style scoped>\n",
       "    .dataframe tbody tr th:only-of-type {\n",
       "        vertical-align: middle;\n",
       "    }\n",
       "\n",
       "    .dataframe tbody tr th {\n",
       "        vertical-align: top;\n",
       "    }\n",
       "\n",
       "    .dataframe thead th {\n",
       "        text-align: right;\n",
       "    }\n",
       "</style>\n",
       "<table border=\"1\" class=\"dataframe\">\n",
       "  <thead>\n",
       "    <tr style=\"text-align: right;\">\n",
       "      <th></th>\n",
       "      <th>model_name</th>\n",
       "      <th>model_loss</th>\n",
       "      <th>model_acc</th>\n",
       "    </tr>\n",
       "  </thead>\n",
       "  <tbody>\n",
       "    <tr>\n",
       "      <th>0</th>\n",
       "      <td>FashionMNISTModelV0</td>\n",
       "      <td>0.476639</td>\n",
       "      <td>83.426518</td>\n",
       "    </tr>\n",
       "    <tr>\n",
       "      <th>1</th>\n",
       "      <td>FashionMNISTModelV1</td>\n",
       "      <td>0.685001</td>\n",
       "      <td>75.019968</td>\n",
       "    </tr>\n",
       "    <tr>\n",
       "      <th>2</th>\n",
       "      <td>FashionMNISTModelV2</td>\n",
       "      <td>0.323957</td>\n",
       "      <td>88.338658</td>\n",
       "    </tr>\n",
       "  </tbody>\n",
       "</table>\n",
       "</div>"
      ],
      "text/plain": [
       "            model_name  model_loss  model_acc\n",
       "0  FashionMNISTModelV0    0.476639  83.426518\n",
       "1  FashionMNISTModelV1    0.685001  75.019968\n",
       "2  FashionMNISTModelV2    0.323957  88.338658"
      ]
     },
     "execution_count": 54,
     "metadata": {},
     "output_type": "execute_result"
    }
   ],
   "source": [
    "import pandas as pd\n",
    "compare_results = pd.DataFrame([model_0_results,\n",
    "                                model_1_results,\n",
    "                                model_2_results])\n",
    "\n",
    "compare_results"
   ]
  },
  {
   "cell_type": "code",
   "execution_count": 55,
   "id": "81abce83",
   "metadata": {
    "execution": {
     "iopub.execute_input": "2024-12-29T17:10:28.035008Z",
     "iopub.status.busy": "2024-12-29T17:10:28.034379Z",
     "iopub.status.idle": "2024-12-29T17:10:28.043078Z",
     "shell.execute_reply": "2024-12-29T17:10:28.042363Z"
    },
    "papermill": {
     "duration": 0.031269,
     "end_time": "2024-12-29T17:10:28.044174",
     "exception": false,
     "start_time": "2024-12-29T17:10:28.012905",
     "status": "completed"
    },
    "tags": []
   },
   "outputs": [
    {
     "data": {
      "text/html": [
       "<div>\n",
       "<style scoped>\n",
       "    .dataframe tbody tr th:only-of-type {\n",
       "        vertical-align: middle;\n",
       "    }\n",
       "\n",
       "    .dataframe tbody tr th {\n",
       "        vertical-align: top;\n",
       "    }\n",
       "\n",
       "    .dataframe thead th {\n",
       "        text-align: right;\n",
       "    }\n",
       "</style>\n",
       "<table border=\"1\" class=\"dataframe\">\n",
       "  <thead>\n",
       "    <tr style=\"text-align: right;\">\n",
       "      <th></th>\n",
       "      <th>model_name</th>\n",
       "      <th>model_loss</th>\n",
       "      <th>model_acc</th>\n",
       "      <th>training_time</th>\n",
       "    </tr>\n",
       "  </thead>\n",
       "  <tbody>\n",
       "    <tr>\n",
       "      <th>0</th>\n",
       "      <td>FashionMNISTModelV0</td>\n",
       "      <td>0.476639</td>\n",
       "      <td>83.426518</td>\n",
       "      <td>25.706219</td>\n",
       "    </tr>\n",
       "    <tr>\n",
       "      <th>1</th>\n",
       "      <td>FashionMNISTModelV1</td>\n",
       "      <td>0.685001</td>\n",
       "      <td>75.019968</td>\n",
       "      <td>28.001377</td>\n",
       "    </tr>\n",
       "    <tr>\n",
       "      <th>2</th>\n",
       "      <td>FashionMNISTModelV2</td>\n",
       "      <td>0.323957</td>\n",
       "      <td>88.338658</td>\n",
       "      <td>32.746177</td>\n",
       "    </tr>\n",
       "  </tbody>\n",
       "</table>\n",
       "</div>"
      ],
      "text/plain": [
       "            model_name  model_loss  model_acc  training_time\n",
       "0  FashionMNISTModelV0    0.476639  83.426518      25.706219\n",
       "1  FashionMNISTModelV1    0.685001  75.019968      28.001377\n",
       "2  FashionMNISTModelV2    0.323957  88.338658      32.746177"
      ]
     },
     "execution_count": 55,
     "metadata": {},
     "output_type": "execute_result"
    }
   ],
   "source": [
    "# Add training time to results comparison\n",
    "compare_results[\"training_time\"] = [total_train_time_model_0,\n",
    "                                    total_train_time_model_1,\n",
    "                                    total_train_time_model_2]\n",
    "compare_results"
   ]
  },
  {
   "cell_type": "code",
   "execution_count": 56,
   "id": "203f33cf",
   "metadata": {
    "execution": {
     "iopub.execute_input": "2024-12-29T17:10:28.086133Z",
     "iopub.status.busy": "2024-12-29T17:10:28.085876Z",
     "iopub.status.idle": "2024-12-29T17:10:28.232085Z",
     "shell.execute_reply": "2024-12-29T17:10:28.231050Z"
    },
    "papermill": {
     "duration": 0.169732,
     "end_time": "2024-12-29T17:10:28.234604",
     "exception": false,
     "start_time": "2024-12-29T17:10:28.064872",
     "status": "completed"
    },
    "tags": []
   },
   "outputs": [
    {
     "data": {
      "image/png": "[encoded data removed]",
      "text/plain": [
       "<Figure size 640x480 with 1 Axes>"
      ]
     },
     "metadata": {},
     "output_type": "display_data"
    }
   ],
   "source": [
    "# Visualize model results\n",
    "compare_results.set_index(\"model_name\")[\"model_acc\"].plot(kind=\"barh\")\n",
    "plt.xlabel(\"accuracy (%)\")\n",
    "plt.ylabel(\"model\");"
   ]
  },
  {
   "cell_type": "markdown",
   "id": "57a49bde",
   "metadata": {
    "papermill": {
     "duration": 0.021489,
     "end_time": "2024-12-29T17:10:28.295068",
     "exception": false,
     "start_time": "2024-12-29T17:10:28.273579",
     "status": "completed"
    },
    "tags": []
   },
   "source": [
    "## 9. Make and evaluate random predictions with best model"
   ]
  },
  {
   "cell_type": "code",
   "execution_count": 57,
   "id": "91ee80c0",
   "metadata": {
    "execution": {
     "iopub.execute_input": "2024-12-29T17:10:28.338355Z",
     "iopub.status.busy": "2024-12-29T17:10:28.338046Z",
     "iopub.status.idle": "2024-12-29T17:10:28.343119Z",
     "shell.execute_reply": "2024-12-29T17:10:28.342447Z"
    },
    "papermill": {
     "duration": 0.028369,
     "end_time": "2024-12-29T17:10:28.344452",
     "exception": false,
     "start_time": "2024-12-29T17:10:28.316083",
     "status": "completed"
    },
    "tags": []
   },
   "outputs": [],
   "source": [
    "def make_predictions(model: torch.nn.Module,\n",
    "                     data: list,\n",
    "                     device: torch.device=device):\n",
    "    pred_probs=[]\n",
    "    model.eval()\n",
    "    with torch.inference_mode():\n",
    "        for sample in data:\n",
    "            # Prepare the sample (add a batch dimension and pass to target device)\n",
    "            sample = torch.unsqueeze(sample, dim=0).to(device)\n",
    "\n",
    "            # Forward pass (model outputs raw logits)\n",
    "            pred_logit = model(sample)\n",
    "\n",
    "            # Get pred prob (logit -> prob)\n",
    "            pred_prob = torch.softmax(pred_logit.squeeze(), dim=0)\n",
    "\n",
    "            # Get pred_prob off gpu for further calcs\n",
    "            pred_probs.append(pred_prob.cpu())\n",
    "\n",
    "    # Stack pred_probs to turn list to tensor\n",
    "    return torch.stack(pred_probs)"
   ]
  },
  {
   "cell_type": "code",
   "execution_count": 58,
   "id": "2a7f8f5c",
   "metadata": {
    "execution": {
     "iopub.execute_input": "2024-12-29T17:10:28.387267Z",
     "iopub.status.busy": "2024-12-29T17:10:28.386964Z",
     "iopub.status.idle": "2024-12-29T17:10:29.449335Z",
     "shell.execute_reply": "2024-12-29T17:10:29.448513Z"
    },
    "papermill": {
     "duration": 1.085188,
     "end_time": "2024-12-29T17:10:29.450672",
     "exception": false,
     "start_time": "2024-12-29T17:10:28.365484",
     "status": "completed"
    },
    "tags": []
   },
   "outputs": [
    {
     "data": {
      "text/plain": [
       "torch.Size([1, 28, 28])"
      ]
     },
     "execution_count": 58,
     "metadata": {},
     "output_type": "execute_result"
    }
   ],
   "source": [
    "import random\n",
    "random.seed(42)\n",
    "test_samples = [] \n",
    "test_labels = []\n",
    "\n",
    "for sample, label in random.sample(list(test_data), k=9):\n",
    "    test_samples.append(sample)\n",
    "    test_labels.append(label)\n",
    "\n",
    "# View the first sample shape\n",
    "test_samples[0].shape"
   ]
  },
  {
   "cell_type": "code",
   "execution_count": 59,
   "id": "9c30e539",
   "metadata": {
    "execution": {
     "iopub.execute_input": "2024-12-29T17:10:29.494586Z",
     "iopub.status.busy": "2024-12-29T17:10:29.494276Z",
     "iopub.status.idle": "2024-12-29T17:10:29.744437Z",
     "shell.execute_reply": "2024-12-29T17:10:29.743517Z"
    },
    "papermill": {
     "duration": 0.273287,
     "end_time": "2024-12-29T17:10:29.745728",
     "exception": false,
     "start_time": "2024-12-29T17:10:29.472441",
     "status": "completed"
    },
    "tags": []
   },
   "outputs": [
    {
     "data": {
      "image/png": "[encoded data removed]",
      "text/plain": [
       "<Figure size 640x480 with 1 Axes>"
      ]
     },
     "metadata": {},
     "output_type": "display_data"
    }
   ],
   "source": [
    "plt.imshow(test_samples[0].squeeze(), cmap=\"gray\")\n",
    "plt.title(class_names[test_labels[0]]);"
   ]
  },
  {
   "cell_type": "code",
   "execution_count": 60,
   "id": "57faf0bd",
   "metadata": {
    "execution": {
     "iopub.execute_input": "2024-12-29T17:10:29.789969Z",
     "iopub.status.busy": "2024-12-29T17:10:29.789689Z",
     "iopub.status.idle": "2024-12-29T17:10:29.803085Z",
     "shell.execute_reply": "2024-12-29T17:10:29.802424Z"
    },
    "papermill": {
     "duration": 0.036637,
     "end_time": "2024-12-29T17:10:29.804328",
     "exception": false,
     "start_time": "2024-12-29T17:10:29.767691",
     "status": "completed"
    },
    "tags": []
   },
   "outputs": [
    {
     "data": {
      "text/plain": [
       "tensor([[3.4775e-07, 4.1541e-07, 4.5209e-07, 5.8358e-07, 1.3358e-07, 9.9897e-01,\n",
       "         1.6987e-06, 1.2948e-04, 1.9630e-05, 8.7771e-04],\n",
       "        [1.0112e-01, 5.7490e-01, 1.8197e-03, 1.0885e-01, 1.3442e-01, 5.9738e-05,\n",
       "         7.7883e-02, 3.3430e-04, 4.7452e-04, 1.3158e-04]])"
      ]
     },
     "execution_count": 60,
     "metadata": {},
     "output_type": "execute_result"
    }
   ],
   "source": [
    "# Make predictions\n",
    "pred_probs = make_predictions(model=model_2,\n",
    "                              data=test_samples)\n",
    "\n",
    "# View first two prediction probabilities\n",
    "pred_probs[:2]"
   ]
  },
  {
   "cell_type": "code",
   "execution_count": 61,
   "id": "11737268",
   "metadata": {
    "execution": {
     "iopub.execute_input": "2024-12-29T17:10:29.850173Z",
     "iopub.status.busy": "2024-12-29T17:10:29.849897Z",
     "iopub.status.idle": "2024-12-29T17:10:29.854993Z",
     "shell.execute_reply": "2024-12-29T17:10:29.854292Z"
    },
    "papermill": {
     "duration": 0.028605,
     "end_time": "2024-12-29T17:10:29.856083",
     "exception": false,
     "start_time": "2024-12-29T17:10:29.827478",
     "status": "completed"
    },
    "tags": []
   },
   "outputs": [
    {
     "data": {
      "text/plain": [
       "tensor([5, 1, 7, 4, 3, 0, 4, 7, 1])"
      ]
     },
     "execution_count": 61,
     "metadata": {},
     "output_type": "execute_result"
    }
   ],
   "source": [
    "# Convert prediction probabilities to labels\n",
    "pred_classes = pred_probs.argmax(dim=1)\n",
    "pred_classes"
   ]
  },
  {
   "cell_type": "code",
   "execution_count": 62,
   "id": "8d84c1e6",
   "metadata": {
    "execution": {
     "iopub.execute_input": "2024-12-29T17:10:29.901013Z",
     "iopub.status.busy": "2024-12-29T17:10:29.900738Z",
     "iopub.status.idle": "2024-12-29T17:10:29.905813Z",
     "shell.execute_reply": "2024-12-29T17:10:29.904931Z"
    },
    "papermill": {
     "duration": 0.02936,
     "end_time": "2024-12-29T17:10:29.907230",
     "exception": false,
     "start_time": "2024-12-29T17:10:29.877870",
     "status": "completed"
    },
    "tags": []
   },
   "outputs": [
    {
     "data": {
      "text/plain": [
       "[5, 1, 7, 4, 3, 0, 4, 7, 1]"
      ]
     },
     "execution_count": 62,
     "metadata": {},
     "output_type": "execute_result"
    }
   ],
   "source": [
    "test_labels"
   ]
  },
  {
   "cell_type": "code",
   "execution_count": 63,
   "id": "59cbb62f",
   "metadata": {
    "execution": {
     "iopub.execute_input": "2024-12-29T17:10:29.952556Z",
     "iopub.status.busy": "2024-12-29T17:10:29.952262Z",
     "iopub.status.idle": "2024-12-29T17:10:30.594919Z",
     "shell.execute_reply": "2024-12-29T17:10:30.594083Z"
    },
    "papermill": {
     "duration": 0.66688,
     "end_time": "2024-12-29T17:10:30.596451",
     "exception": false,
     "start_time": "2024-12-29T17:10:29.929571",
     "status": "completed"
    },
    "tags": []
   },
   "outputs": [
    {
     "data": {
      "image/png": "[encoded data removed]",
      "text/plain": [
       "<Figure size 900x900 with 9 Axes>"
      ]
     },
     "metadata": {},
     "output_type": "display_data"
    }
   ],
   "source": [
    "# Plot predictions\n",
    "plt.figure(figsize=(9, 9))\n",
    "nrows=3\n",
    "ncols=3\n",
    "\n",
    "for i, sample in enumerate(test_samples):\n",
    "    # Create subplot\n",
    "    plt.subplot(nrows, ncols, i+1)\n",
    "\n",
    "    # Plot the target image\n",
    "    plt.imshow(sample.squeeze(), cmap='gray')\n",
    "\n",
    "    # Find the prediction (in text form)\n",
    "    pred_label = class_names[pred_classes[i]]\n",
    "\n",
    "    # Get the truth labels\n",
    "    truth_label = class_names[test_labels[i]]\n",
    "\n",
    "    # Create a title for plot\n",
    "    title_text = f\"Pred: {pred_label} | Truth: {truth_label}\"\n",
    "\n",
    "    # Check for equality between pred and truth and change color of title text\n",
    "    if pred_label == truth_label:\n",
    "        plt.title(title_text, fontsize=10, c=\"g\") # green text if prediction same as truth\n",
    "    else:\n",
    "        plt.title(title_text, fontsize=10, c=\"r\") \n",
    "    plt.axis(False);"
   ]
  },
  {
   "cell_type": "markdown",
   "id": "a4c6a0f2",
   "metadata": {
    "papermill": {
     "duration": 0.023916,
     "end_time": "2024-12-29T17:10:30.643804",
     "exception": false,
     "start_time": "2024-12-29T17:10:30.619888",
     "status": "completed"
    },
    "tags": []
   },
   "source": [
    "## 10. Making a confusion matrix for further prediction evaluation\n",
    "A confusion matrix is a fantastic way of evaluating your classification models visually:\n",
    "\n",
    "1. Make predictions with our trained model on the test dataset\n",
    "2. Make a confusion matrix `torchmetrics.ConfusionMatrix`\n",
    "3. Plot the confusion matrix using `mlxtend.plotting.plot_confusion_matrix()`\n"
   ]
  },
  {
   "cell_type": "code",
   "execution_count": 64,
   "id": "9c721df0",
   "metadata": {
    "execution": {
     "iopub.execute_input": "2024-12-29T17:10:30.689543Z",
     "iopub.status.busy": "2024-12-29T17:10:30.689156Z",
     "iopub.status.idle": "2024-12-29T17:10:31.776159Z",
     "shell.execute_reply": "2024-12-29T17:10:31.775334Z"
    },
    "papermill": {
     "duration": 1.111429,
     "end_time": "2024-12-29T17:10:31.777502",
     "exception": false,
     "start_time": "2024-12-29T17:10:30.666073",
     "status": "completed"
    },
    "tags": []
   },
   "outputs": [
    {
     "data": {
      "application/vnd.jupyter.widget-view+json": {
       "model_id": "23e5f3ae93084d6ea85988356e8c8684",
       "version_major": 2,
       "version_minor": 0
      },
      "text/plain": [
       "Making predictions...:   0%|          | 0/313 [00:00<?, ?it/s]"
      ]
     },
     "metadata": {},
     "output_type": "display_data"
    },
    {
     "data": {
      "text/plain": [
       "tensor([9, 2, 1,  ..., 8, 1, 5])"
      ]
     },
     "execution_count": 64,
     "metadata": {},
     "output_type": "execute_result"
    }
   ],
   "source": [
    "# Import tqdm.auto\n",
    "from tqdm.auto import tqdm \n",
    "\n",
    "# 1. Make predictions with trained model\n",
    "y_preds=[]\n",
    "model_2.eval()\n",
    "with torch.inference_mode():\n",
    "    for X, y in tqdm(test_dataloader, desc=\"Making predictions...\"):\n",
    "        # Send data and targets to device\n",
    "        X, y = X.to(device), y.to(device)\n",
    "        # Do the forward pass\n",
    "        y_logit = model_2(X)\n",
    "        # Turn preds from logits\n",
    "        y_pred = torch.argmax(y_logit, dim=1)\n",
    "        # Put prediction on CPU for evaluation\n",
    "        y_preds.append(y_pred.cpu())\n",
    "\n",
    "# Concatenate list of predictions into a tensor\n",
    "# print(y_preds)\n",
    "y_pred_tensor = torch.cat(y_preds)\n",
    "y_pred_tensor"
   ]
  },
  {
   "cell_type": "code",
   "execution_count": 65,
   "id": "18dc626b",
   "metadata": {
    "execution": {
     "iopub.execute_input": "2024-12-29T17:10:31.825009Z",
     "iopub.status.busy": "2024-12-29T17:10:31.824751Z",
     "iopub.status.idle": "2024-12-29T17:10:31.829425Z",
     "shell.execute_reply": "2024-12-29T17:10:31.828572Z"
    },
    "papermill": {
     "duration": 0.030108,
     "end_time": "2024-12-29T17:10:31.830700",
     "exception": false,
     "start_time": "2024-12-29T17:10:31.800592",
     "status": "completed"
    },
    "tags": []
   },
   "outputs": [
    {
     "data": {
      "text/plain": [
       "10000"
      ]
     },
     "execution_count": 65,
     "metadata": {},
     "output_type": "execute_result"
    }
   ],
   "source": [
    "len(y_pred_tensor)"
   ]
  },
  {
   "cell_type": "code",
   "execution_count": 66,
   "id": "44f63034",
   "metadata": {
    "execution": {
     "iopub.execute_input": "2024-12-29T17:10:31.876621Z",
     "iopub.status.busy": "2024-12-29T17:10:31.876354Z",
     "iopub.status.idle": "2024-12-29T17:10:31.882807Z",
     "shell.execute_reply": "2024-12-29T17:10:31.881938Z"
    },
    "papermill": {
     "duration": 0.030822,
     "end_time": "2024-12-29T17:10:31.884027",
     "exception": false,
     "start_time": "2024-12-29T17:10:31.853205",
     "status": "completed"
    },
    "tags": []
   },
   "outputs": [
    {
     "name": "stdout",
     "output_type": "stream",
     "text": [
      "0.23.1\n"
     ]
    }
   ],
   "source": [
    "import mlxtend\n",
    "print(mlxtend.__version__)"
   ]
  },
  {
   "cell_type": "code",
   "execution_count": 67,
   "id": "f5feeabb",
   "metadata": {
    "execution": {
     "iopub.execute_input": "2024-12-29T17:10:31.929762Z",
     "iopub.status.busy": "2024-12-29T17:10:31.929535Z",
     "iopub.status.idle": "2024-12-29T17:10:34.989113Z",
     "shell.execute_reply": "2024-12-29T17:10:34.988282Z"
    },
    "papermill": {
     "duration": 3.084436,
     "end_time": "2024-12-29T17:10:34.990829",
     "exception": false,
     "start_time": "2024-12-29T17:10:31.906393",
     "status": "completed"
    },
    "tags": []
   },
   "outputs": [
    {
     "data": {
      "image/png": "[encoded data removed]",
      "text/plain": [
       "<Figure size 1000x700 with 1 Axes>"
      ]
     },
     "metadata": {},
     "output_type": "display_data"
    }
   ],
   "source": [
    "from torchmetrics import ConfusionMatrix\n",
    "from mlxtend.plotting import plot_confusion_matrix\n",
    "\n",
    "# 2. Setup confusion instance and compare predictions to targets\n",
    "confmat = ConfusionMatrix(task=\"multiclass\", num_classes=len(class_names))\n",
    "confmat_tensor = confmat(preds=y_pred_tensor,\n",
    "                         target=test_data.targets)\n",
    "\n",
    "# 3. Plot the confusion matrix\n",
    "fig, ax = plot_confusion_matrix(\n",
    "    conf_mat=confmat_tensor.numpy(), # matplotlib likes working with numpy\n",
    "    class_names=class_names,\n",
    "    figsize=(10, 7)\n",
    ")"
   ]
  },
  {
   "cell_type": "markdown",
   "id": "a36de54b",
   "metadata": {
    "papermill": {
     "duration": 0.023845,
     "end_time": "2024-12-29T17:10:35.039312",
     "exception": false,
     "start_time": "2024-12-29T17:10:35.015467",
     "status": "completed"
    },
    "tags": []
   },
   "source": [
    "## 11. Save and load best performing model"
   ]
  },
  {
   "cell_type": "code",
   "execution_count": 68,
   "id": "fb86cbac",
   "metadata": {
    "execution": {
     "iopub.execute_input": "2024-12-29T17:10:35.087639Z",
     "iopub.status.busy": "2024-12-29T17:10:35.087142Z",
     "iopub.status.idle": "2024-12-29T17:10:35.094873Z",
     "shell.execute_reply": "2024-12-29T17:10:35.094056Z"
    },
    "papermill": {
     "duration": 0.033331,
     "end_time": "2024-12-29T17:10:35.096120",
     "exception": false,
     "start_time": "2024-12-29T17:10:35.062789",
     "status": "completed"
    },
    "tags": []
   },
   "outputs": [
    {
     "name": "stdout",
     "output_type": "stream",
     "text": [
      "Saving model to: models/pytorch_computer_vision_model_2.pth\n"
     ]
    }
   ],
   "source": [
    "from pathlib import Path\n",
    "\n",
    "MODEL_PATH = Path(\"models\")\n",
    "\n",
    "# Create model directory path\n",
    "MODEL_PATH.mkdir(parents=True,\n",
    "                 exist_ok=True)\n",
    "\n",
    "# Create model save\n",
    "MODEL_NAME = \"pytorch_computer_vision_model_2.pth\"\n",
    "MODEL_SAVE_PATH = MODEL_PATH / MODEL_NAME\n",
    "\n",
    "# Save the model state dict\n",
    "print(f\"Saving model to: {MODEL_SAVE_PATH}\")\n",
    "torch.save(obj=model_2.state_dict(),\n",
    "           f=MODEL_SAVE_PATH)"
   ]
  }
 ],
 "metadata": {
  "kaggle": {
   "accelerator": "gpu",
   "dataSources": [],
   "dockerImageVersionId": 30823,
   "isGpuEnabled": true,
   "isInternetEnabled": true,
   "language": "python",
   "sourceType": "notebook"
  },
  "kernelspec": {
   "display_name": "Python 3",
   "language": "python",
   "name": "python3"
  },
  "language_info": {
   "codemirror_mode": {
    "name": "ipython",
    "version": 3
   },
   "file_extension": ".py",
   "mimetype": "text/x-python",
   "name": "python",
   "nbconvert_exporter": "python",
   "pygments_lexer": "ipython3",
   "version": "3.10.12"
  },
  "papermill": {
   "default_parameters": {},
   "duration": 119.78692,
   "end_time": "2024-12-29T17:10:37.856183",
   "environment_variables": {},
   "exception": null,
   "input_path": "__notebook__.ipynb",
   "output_path": "__notebook__.ipynb",
   "parameters": {},
   "start_time": "2024-12-29T17:08:38.069263",
   "version": "2.6.0"
  },
  "widgets": {
   "application/vnd.jupyter.widget-state+json": {
    "state": {
     "0087aafd448043c79076bb09a6c1dbc6": {
      "model_module": "@jupyter-widgets/controls",
      "model_module_version": "2.0.0",
      "model_name": "FloatProgressModel",
      "state": {
       "_dom_classes": [],
       "_model_module": "@jupyter-widgets/controls",
       "_model_module_version": "2.0.0",
       "_model_name": "FloatProgressModel",
       "_view_count": null,
       "_view_module": "@jupyter-widgets/controls",
       "_view_module_version": "2.0.0",
       "_view_name": "ProgressView",
       "bar_style": "success",
       "description": "",
       "description_allow_html": false,
       "layout": "IPY_MODEL_21391d1f04784007b92fba3842953dcf",
       "max": 313.0,
       "min": 0.0,
       "orientation": "horizontal",
       "style": "IPY_MODEL_2e8dba725bd44f9e916488c5d899d4e1",
       "tabbable": null,
       "tooltip": null,
       "value": 313.0
      }
     },
     "022ef27292a84a98a0857312d459b56f": {
      "model_module": "@jupyter-widgets/controls",
      "model_module_version": "2.0.0",
      "model_name": "HTMLModel",
      "state": {
       "_dom_classes": [],
       "_model_module": "@jupyter-widgets/controls",
       "_model_module_version": "2.0.0",
       "_model_name": "HTMLModel",
       "_view_count": null,
       "_view_module": "@jupyter-widgets/controls",
       "_view_module_version": "2.0.0",
       "_view_name": "HTMLView",
       "description": "",
       "description_allow_html": false,
       "layout": "IPY_MODEL_98055394c73341109b90a00bb70a3d68",
       "placeholder": "​",
       "style": "IPY_MODEL_cd50fa7db1d44a6ba17fe22ed53f1397",
       "tabbable": null,
       "tooltip": null,
       "value": " 313/313 [00:01&lt;00:00, 294.18it/s]"
      }
     },
     "0399dbc318f14aad95e746035b93bfa3": {
      "model_module": "@jupyter-widgets/base",
      "model_module_version": "2.0.0",
      "model_name": "LayoutModel",
      "state": {
       "_model_module": "@jupyter-widgets/base",
       "_model_module_version": "2.0.0",
       "_model_name": "LayoutModel",
       "_view_count": null,
       "_view_module": "@jupyter-widgets/base",
       "_view_module_version": "2.0.0",
       "_view_name": "LayoutView",
       "align_content": null,
       "align_items": null,
       "align_self": null,
       "border_bottom": null,
       "border_left": null,
       "border_right": null,
       "border_top": null,
       "bottom": null,
       "display": null,
       "flex": null,
       "flex_flow": null,
       "grid_area": null,
       "grid_auto_columns": null,
       "grid_auto_flow": null,
       "grid_auto_rows": null,
       "grid_column": null,
       "grid_gap": null,
       "grid_row": null,
       "grid_template_areas": null,
       "grid_template_columns": null,
       "grid_template_rows": null,
       "height": null,
       "justify_content": null,
       "justify_items": null,
       "left": null,
       "margin": null,
       "max_height": null,
       "max_width": null,
       "min_height": null,
       "min_width": null,
       "object_fit": null,
       "object_position": null,
       "order": null,
       "overflow": null,
       "padding": null,
       "right": null,
       "top": null,
       "visibility": null,
       "width": null
      }
     },
     "03e59ef6c4f04b908b5803a5a828a484": {
      "model_module": "@jupyter-widgets/controls",
      "model_module_version": "2.0.0",
      "model_name": "HTMLStyleModel",
      "state": {
       "_model_module": "@jupyter-widgets/controls",
       "_model_module_version": "2.0.0",
       "_model_name": "HTMLStyleModel",
       "_view_count": null,
       "_view_module": "@jupyter-widgets/base",
       "_view_module_version": "2.0.0",
       "_view_name": "StyleView",
       "background": null,
       "description_width": "",
       "font_size": null,
       "text_color": null
      }
     },
     "0a5837a3843340e4830240a09dec77b7": {
      "model_module": "@jupyter-widgets/controls",
      "model_module_version": "2.0.0",
      "model_name": "FloatProgressModel",
      "state": {
       "_dom_classes": [],
       "_model_module": "@jupyter-widgets/controls",
       "_model_module_version": "2.0.0",
       "_model_name": "FloatProgressModel",
       "_view_count": null,
       "_view_module": "@jupyter-widgets/controls",
       "_view_module_version": "2.0.0",
       "_view_name": "ProgressView",
       "bar_style": "success",
       "description": "",
       "description_allow_html": false,
       "layout": "IPY_MODEL_18d0af83eb2545219ed7c24512b35317",
       "max": 3.0,
       "min": 0.0,
       "orientation": "horizontal",
       "style": "IPY_MODEL_21e048de451f467e8dda3318c962d8b0",
       "tabbable": null,
       "tooltip": null,
       "value": 3.0
      }
     },
     "0a5d2a964b29449f99b2adddd7c63425": {
      "model_module": "@jupyter-widgets/base",
      "model_module_version": "2.0.0",
      "model_name": "LayoutModel",
      "state": {
       "_model_module": "@jupyter-widgets/base",
       "_model_module_version": "2.0.0",
       "_model_name": "LayoutModel",
       "_view_count": null,
       "_view_module": "@jupyter-widgets/base",
       "_view_module_version": "2.0.0",
       "_view_name": "LayoutView",
       "align_content": null,
       "align_items": null,
       "align_self": null,
       "border_bottom": null,
       "border_left": null,
       "border_right": null,
       "border_top": null,
       "bottom": null,
       "display": null,
       "flex": null,
       "flex_flow": null,
       "grid_area": null,
       "grid_auto_columns": null,
       "grid_auto_flow": null,
       "grid_auto_rows": null,
       "grid_column": null,
       "grid_gap": null,
       "grid_row": null,
       "grid_template_areas": null,
       "grid_template_columns": null,
       "grid_template_rows": null,
       "height": null,
       "justify_content": null,
       "justify_items": null,
       "left": null,
       "margin": null,
       "max_height": null,
       "max_width": null,
       "min_height": null,
       "min_width": null,
       "object_fit": null,
       "object_position": null,
       "order": null,
       "overflow": null,
       "padding": null,
       "right": null,
       "top": null,
       "visibility": null,
       "width": null
      }
     },
     "0e0ddf3430b144b3a0e89f850cc16005": {
      "model_module": "@jupyter-widgets/controls",
      "model_module_version": "2.0.0",
      "model_name": "ProgressStyleModel",
      "state": {
       "_model_module": "@jupyter-widgets/controls",
       "_model_module_version": "2.0.0",
       "_model_name": "ProgressStyleModel",
       "_view_count": null,
       "_view_module": "@jupyter-widgets/base",
       "_view_module_version": "2.0.0",
       "_view_name": "StyleView",
       "bar_color": null,
       "description_width": ""
      }
     },
     "0ec522647cbb477b8200f524d049aec6": {
      "model_module": "@jupyter-widgets/controls",
      "model_module_version": "2.0.0",
      "model_name": "HTMLStyleModel",
      "state": {
       "_model_module": "@jupyter-widgets/controls",
       "_model_module_version": "2.0.0",
       "_model_name": "HTMLStyleModel",
       "_view_count": null,
       "_view_module": "@jupyter-widgets/base",
       "_view_module_version": "2.0.0",
       "_view_name": "StyleView",
       "background": null,
       "description_width": "",
       "font_size": null,
       "text_color": null
      }
     },
     "0f6e9c18a5b14c958d0aecf48c49d7e4": {
      "model_module": "@jupyter-widgets/controls",
      "model_module_version": "2.0.0",
      "model_name": "HTMLModel",
      "state": {
       "_dom_classes": [],
       "_model_module": "@jupyter-widgets/controls",
       "_model_module_version": "2.0.0",
       "_model_name": "HTMLModel",
       "_view_count": null,
       "_view_module": "@jupyter-widgets/controls",
       "_view_module_version": "2.0.0",
       "_view_name": "HTMLView",
       "description": "",
       "description_allow_html": false,
       "layout": "IPY_MODEL_c834b7af45b44982ac5125fa8e66eb23",
       "placeholder": "​",
       "style": "IPY_MODEL_63dd33d467244617a9e449fbf0263fec",
       "tabbable": null,
       "tooltip": null,
       "value": "100%"
      }
     },
     "11156d2cc57c42f2bd95f9c2d6afa397": {
      "model_module": "@jupyter-widgets/base",
      "model_module_version": "2.0.0",
      "model_name": "LayoutModel",
      "state": {
       "_model_module": "@jupyter-widgets/base",
       "_model_module_version": "2.0.0",
       "_model_name": "LayoutModel",
       "_view_count": null,
       "_view_module": "@jupyter-widgets/base",
       "_view_module_version": "2.0.0",
       "_view_name": "LayoutView",
       "align_content": null,
       "align_items": null,
       "align_self": null,
       "border_bottom": null,
       "border_left": null,
       "border_right": null,
       "border_top": null,
       "bottom": null,
       "display": null,
       "flex": null,
       "flex_flow": null,
       "grid_area": null,
       "grid_auto_columns": null,
       "grid_auto_flow": null,
       "grid_auto_rows": null,
       "grid_column": null,
       "grid_gap": null,
       "grid_row": null,
       "grid_template_areas": null,
       "grid_template_columns": null,
       "grid_template_rows": null,
       "height": null,
       "justify_content": null,
       "justify_items": null,
       "left": null,
       "margin": null,
       "max_height": null,
       "max_width": null,
       "min_height": null,
       "min_width": null,
       "object_fit": null,
       "object_position": null,
       "order": null,
       "overflow": null,
       "padding": null,
       "right": null,
       "top": null,
       "visibility": null,
       "width": null
      }
     },
     "173378fb07304aae970adc4e2033440e": {
      "model_module": "@jupyter-widgets/controls",
      "model_module_version": "2.0.0",
      "model_name": "HBoxModel",
      "state": {
       "_dom_classes": [],
       "_model_module": "@jupyter-widgets/controls",
       "_model_module_version": "2.0.0",
       "_model_name": "HBoxModel",
       "_view_count": null,
       "_view_module": "@jupyter-widgets/controls",
       "_view_module_version": "2.0.0",
       "_view_name": "HBoxView",
       "box_style": "",
       "children": [
        "IPY_MODEL_750c960913dd4bc49cc1d752a8dcbb7a",
        "IPY_MODEL_c76c91fccf3b4bd1a3baed7a561b2335",
        "IPY_MODEL_845297159ccc4537954689d078486f06"
       ],
       "layout": "IPY_MODEL_db7e9dfc9a4d439faea82481c7aabc5c",
       "tabbable": null,
       "tooltip": null
      }
     },
     "17afc1b6d4f843eab599fe5bfc8e8770": {
      "model_module": "@jupyter-widgets/controls",
      "model_module_version": "2.0.0",
      "model_name": "HTMLModel",
      "state": {
       "_dom_classes": [],
       "_model_module": "@jupyter-widgets/controls",
       "_model_module_version": "2.0.0",
       "_model_name": "HTMLModel",
       "_view_count": null,
       "_view_module": "@jupyter-widgets/controls",
       "_view_module_version": "2.0.0",
       "_view_name": "HTMLView",
       "description": "",
       "description_allow_html": false,
       "layout": "IPY_MODEL_d99ba1cfd11047fe8186a2c8038e3e60",
       "placeholder": "​",
       "style": "IPY_MODEL_e766582d378845f4829a249d906458d2",
       "tabbable": null,
       "tooltip": null,
       "value": "100%"
      }
     },
     "18a1fd9406534c939eff9447f9f5e322": {
      "model_module": "@jupyter-widgets/controls",
      "model_module_version": "2.0.0",
      "model_name": "HTMLModel",
      "state": {
       "_dom_classes": [],
       "_model_module": "@jupyter-widgets/controls",
       "_model_module_version": "2.0.0",
       "_model_name": "HTMLModel",
       "_view_count": null,
       "_view_module": "@jupyter-widgets/controls",
       "_view_module_version": "2.0.0",
       "_view_name": "HTMLView",
       "description": "",
       "description_allow_html": false,
       "layout": "IPY_MODEL_11156d2cc57c42f2bd95f9c2d6afa397",
       "placeholder": "​",
       "style": "IPY_MODEL_69e34b2da9f647c48b394fdd596c3719",
       "tabbable": null,
       "tooltip": null,
       "value": "100%"
      }
     },
     "18d0af83eb2545219ed7c24512b35317": {
      "model_module": "@jupyter-widgets/base",
      "model_module_version": "2.0.0",
      "model_name": "LayoutModel",
      "state": {
       "_model_module": "@jupyter-widgets/base",
       "_model_module_version": "2.0.0",
       "_model_name": "LayoutModel",
       "_view_count": null,
       "_view_module": "@jupyter-widgets/base",
       "_view_module_version": "2.0.0",
       "_view_name": "LayoutView",
       "align_content": null,
       "align_items": null,
       "align_self": null,
       "border_bottom": null,
       "border_left": null,
       "border_right": null,
       "border_top": null,
       "bottom": null,
       "display": null,
       "flex": null,
       "flex_flow": null,
       "grid_area": null,
       "grid_auto_columns": null,
       "grid_auto_flow": null,
       "grid_auto_rows": null,
       "grid_column": null,
       "grid_gap": null,
       "grid_row": null,
       "grid_template_areas": null,
       "grid_template_columns": null,
       "grid_template_rows": null,
       "height": null,
       "justify_content": null,
       "justify_items": null,
       "left": null,
       "margin": null,
       "max_height": null,
       "max_width": null,
       "min_height": null,
       "min_width": null,
       "object_fit": null,
       "object_position": null,
       "order": null,
       "overflow": null,
       "padding": null,
       "right": null,
       "top": null,
       "visibility": null,
       "width": null
      }
     },
     "1d4c8a1df8f84830b43531735d60d43e": {
      "model_module": "@jupyter-widgets/controls",
      "model_module_version": "2.0.0",
      "model_name": "HTMLModel",
      "state": {
       "_dom_classes": [],
       "_model_module": "@jupyter-widgets/controls",
       "_model_module_version": "2.0.0",
       "_model_name": "HTMLModel",
       "_view_count": null,
       "_view_module": "@jupyter-widgets/controls",
       "_view_module_version": "2.0.0",
       "_view_name": "HTMLView",
       "description": "",
       "description_allow_html": false,
       "layout": "IPY_MODEL_226a516c23dc45a287474ad6e070e8b0",
       "placeholder": "​",
       "style": "IPY_MODEL_9fdf6a2ca4cb481493bdf0f2acded232",
       "tabbable": null,
       "tooltip": null,
       "value": "Making predictions...: 100%"
      }
     },
     "1dcf0053f5dd4a23ae41d9ef19d49854": {
      "model_module": "@jupyter-widgets/base",
      "model_module_version": "2.0.0",
      "model_name": "LayoutModel",
      "state": {
       "_model_module": "@jupyter-widgets/base",
       "_model_module_version": "2.0.0",
       "_model_name": "LayoutModel",
       "_view_count": null,
       "_view_module": "@jupyter-widgets/base",
       "_view_module_version": "2.0.0",
       "_view_name": "LayoutView",
       "align_content": null,
       "align_items": null,
       "align_self": null,
       "border_bottom": null,
       "border_left": null,
       "border_right": null,
       "border_top": null,
       "bottom": null,
       "display": null,
       "flex": null,
       "flex_flow": null,
       "grid_area": null,
       "grid_auto_columns": null,
       "grid_auto_flow": null,
       "grid_auto_rows": null,
       "grid_column": null,
       "grid_gap": null,
       "grid_row": null,
       "grid_template_areas": null,
       "grid_template_columns": null,
       "grid_template_rows": null,
       "height": null,
       "justify_content": null,
       "justify_items": null,
       "left": null,
       "margin": null,
       "max_height": null,
       "max_width": null,
       "min_height": null,
       "min_width": null,
       "object_fit": null,
       "object_position": null,
       "order": null,
       "overflow": null,
       "padding": null,
       "right": null,
       "top": null,
       "visibility": null,
       "width": null
      }
     },
     "21391d1f04784007b92fba3842953dcf": {
      "model_module": "@jupyter-widgets/base",
      "model_module_version": "2.0.0",
      "model_name": "LayoutModel",
      "state": {
       "_model_module": "@jupyter-widgets/base",
       "_model_module_version": "2.0.0",
       "_model_name": "LayoutModel",
       "_view_count": null,
       "_view_module": "@jupyter-widgets/base",
       "_view_module_version": "2.0.0",
       "_view_name": "LayoutView",
       "align_content": null,
       "align_items": null,
       "align_self": null,
       "border_bottom": null,
       "border_left": null,
       "border_right": null,
       "border_top": null,
       "bottom": null,
       "display": null,
       "flex": null,
       "flex_flow": null,
       "grid_area": null,
       "grid_auto_columns": null,
       "grid_auto_flow": null,
       "grid_auto_rows": null,
       "grid_column": null,
       "grid_gap": null,
       "grid_row": null,
       "grid_template_areas": null,
       "grid_template_columns": null,
       "grid_template_rows": null,
       "height": null,
       "justify_content": null,
       "justify_items": null,
       "left": null,
       "margin": null,
       "max_height": null,
       "max_width": null,
       "min_height": null,
       "min_width": null,
       "object_fit": null,
       "object_position": null,
       "order": null,
       "overflow": null,
       "padding": null,
       "right": null,
       "top": null,
       "visibility": null,
       "width": null
      }
     },
     "21e048de451f467e8dda3318c962d8b0": {
      "model_module": "@jupyter-widgets/controls",
      "model_module_version": "2.0.0",
      "model_name": "ProgressStyleModel",
      "state": {
       "_model_module": "@jupyter-widgets/controls",
       "_model_module_version": "2.0.0",
       "_model_name": "ProgressStyleModel",
       "_view_count": null,
       "_view_module": "@jupyter-widgets/base",
       "_view_module_version": "2.0.0",
       "_view_name": "StyleView",
       "bar_color": null,
       "description_width": ""
      }
     },
     "226a516c23dc45a287474ad6e070e8b0": {
      "model_module": "@jupyter-widgets/base",
      "model_module_version": "2.0.0",
      "model_name": "LayoutModel",
      "state": {
       "_model_module": "@jupyter-widgets/base",
       "_model_module_version": "2.0.0",
       "_model_name": "LayoutModel",
       "_view_count": null,
       "_view_module": "@jupyter-widgets/base",
       "_view_module_version": "2.0.0",
       "_view_name": "LayoutView",
       "align_content": null,
       "align_items": null,
       "align_self": null,
       "border_bottom": null,
       "border_left": null,
       "border_right": null,
       "border_top": null,
       "bottom": null,
       "display": null,
       "flex": null,
       "flex_flow": null,
       "grid_area": null,
       "grid_auto_columns": null,
       "grid_auto_flow": null,
       "grid_auto_rows": null,
       "grid_column": null,
       "grid_gap": null,
       "grid_row": null,
       "grid_template_areas": null,
       "grid_template_columns": null,
       "grid_template_rows": null,
       "height": null,
       "justify_content": null,
       "justify_items": null,
       "left": null,
       "margin": null,
       "max_height": null,
       "max_width": null,
       "min_height": null,
       "min_width": null,
       "object_fit": null,
       "object_position": null,
       "order": null,
       "overflow": null,
       "padding": null,
       "right": null,
       "top": null,
       "visibility": null,
       "width": null
      }
     },
     "23e5f3ae93084d6ea85988356e8c8684": {
      "model_module": "@jupyter-widgets/controls",
      "model_module_version": "2.0.0",
      "model_name": "HBoxModel",
      "state": {
       "_dom_classes": [],
       "_model_module": "@jupyter-widgets/controls",
       "_model_module_version": "2.0.0",
       "_model_name": "HBoxModel",
       "_view_count": null,
       "_view_module": "@jupyter-widgets/controls",
       "_view_module_version": "2.0.0",
       "_view_name": "HBoxView",
       "box_style": "",
       "children": [
        "IPY_MODEL_1d4c8a1df8f84830b43531735d60d43e",
        "IPY_MODEL_d3ceef72d4a943f9a423d29314c8a0bd",
        "IPY_MODEL_022ef27292a84a98a0857312d459b56f"
       ],
       "layout": "IPY_MODEL_a19f5a62a2574c899128bc7aa66c6517",
       "tabbable": null,
       "tooltip": null
      }
     },
     "2cc0f4be78704b838085c40eb531d4cd": {
      "model_module": "@jupyter-widgets/controls",
      "model_module_version": "2.0.0",
      "model_name": "HTMLStyleModel",
      "state": {
       "_model_module": "@jupyter-widgets/controls",
       "_model_module_version": "2.0.0",
       "_model_name": "HTMLStyleModel",
       "_view_count": null,
       "_view_module": "@jupyter-widgets/base",
       "_view_module_version": "2.0.0",
       "_view_name": "StyleView",
       "background": null,
       "description_width": "",
       "font_size": null,
       "text_color": null
      }
     },
     "2d8d2cbc6178479a8af0a1456cbbc480": {
      "model_module": "@jupyter-widgets/base",
      "model_module_version": "2.0.0",
      "model_name": "LayoutModel",
      "state": {
       "_model_module": "@jupyter-widgets/base",
       "_model_module_version": "2.0.0",
       "_model_name": "LayoutModel",
       "_view_count": null,
       "_view_module": "@jupyter-widgets/base",
       "_view_module_version": "2.0.0",
       "_view_name": "LayoutView",
       "align_content": null,
       "align_items": null,
       "align_self": null,
       "border_bottom": null,
       "border_left": null,
       "border_right": null,
       "border_top": null,
       "bottom": null,
       "display": null,
       "flex": null,
       "flex_flow": null,
       "grid_area": null,
       "grid_auto_columns": null,
       "grid_auto_flow": null,
       "grid_auto_rows": null,
       "grid_column": null,
       "grid_gap": null,
       "grid_row": null,
       "grid_template_areas": null,
       "grid_template_columns": null,
       "grid_template_rows": null,
       "height": null,
       "justify_content": null,
       "justify_items": null,
       "left": null,
       "margin": null,
       "max_height": null,
       "max_width": null,
       "min_height": null,
       "min_width": null,
       "object_fit": null,
       "object_position": null,
       "order": null,
       "overflow": null,
       "padding": null,
       "right": null,
       "top": null,
       "visibility": null,
       "width": null
      }
     },
     "2e8dba725bd44f9e916488c5d899d4e1": {
      "model_module": "@jupyter-widgets/controls",
      "model_module_version": "2.0.0",
      "model_name": "ProgressStyleModel",
      "state": {
       "_model_module": "@jupyter-widgets/controls",
       "_model_module_version": "2.0.0",
       "_model_name": "ProgressStyleModel",
       "_view_count": null,
       "_view_module": "@jupyter-widgets/base",
       "_view_module_version": "2.0.0",
       "_view_name": "StyleView",
       "bar_color": null,
       "description_width": ""
      }
     },
     "34bca15b48ea4da99479642ebcfe2923": {
      "model_module": "@jupyter-widgets/base",
      "model_module_version": "2.0.0",
      "model_name": "LayoutModel",
      "state": {
       "_model_module": "@jupyter-widgets/base",
       "_model_module_version": "2.0.0",
       "_model_name": "LayoutModel",
       "_view_count": null,
       "_view_module": "@jupyter-widgets/base",
       "_view_module_version": "2.0.0",
       "_view_name": "LayoutView",
       "align_content": null,
       "align_items": null,
       "align_self": null,
       "border_bottom": null,
       "border_left": null,
       "border_right": null,
       "border_top": null,
       "bottom": null,
       "display": null,
       "flex": null,
       "flex_flow": null,
       "grid_area": null,
       "grid_auto_columns": null,
       "grid_auto_flow": null,
       "grid_auto_rows": null,
       "grid_column": null,
       "grid_gap": null,
       "grid_row": null,
       "grid_template_areas": null,
       "grid_template_columns": null,
       "grid_template_rows": null,
       "height": null,
       "justify_content": null,
       "justify_items": null,
       "left": null,
       "margin": null,
       "max_height": null,
       "max_width": null,
       "min_height": null,
       "min_width": null,
       "object_fit": null,
       "object_position": null,
       "order": null,
       "overflow": null,
       "padding": null,
       "right": null,
       "top": null,
       "visibility": null,
       "width": null
      }
     },
     "385b99e6ce0a42d19a3829ea75b59e80": {
      "model_module": "@jupyter-widgets/controls",
      "model_module_version": "2.0.0",
      "model_name": "HBoxModel",
      "state": {
       "_dom_classes": [],
       "_model_module": "@jupyter-widgets/controls",
       "_model_module_version": "2.0.0",
       "_model_name": "HBoxModel",
       "_view_count": null,
       "_view_module": "@jupyter-widgets/controls",
       "_view_module_version": "2.0.0",
       "_view_name": "HBoxView",
       "box_style": "",
       "children": [
        "IPY_MODEL_db00ec3e2cfd4d61bc0bd6630a6c4d74",
        "IPY_MODEL_8bd2c5a3fe78498aa15b2560f3d17288",
        "IPY_MODEL_9bd4cc4dfa22496fa25d5ca536787fd7"
       ],
       "layout": "IPY_MODEL_4b574933cdbd4a5c9eb83037ab29a03d",
       "tabbable": null,
       "tooltip": null
      }
     },
     "39f4baf8dd09469b96394b458432575a": {
      "model_module": "@jupyter-widgets/base",
      "model_module_version": "2.0.0",
      "model_name": "LayoutModel",
      "state": {
       "_model_module": "@jupyter-widgets/base",
       "_model_module_version": "2.0.0",
       "_model_name": "LayoutModel",
       "_view_count": null,
       "_view_module": "@jupyter-widgets/base",
       "_view_module_version": "2.0.0",
       "_view_name": "LayoutView",
       "align_content": null,
       "align_items": null,
       "align_self": null,
       "border_bottom": null,
       "border_left": null,
       "border_right": null,
       "border_top": null,
       "bottom": null,
       "display": null,
       "flex": null,
       "flex_flow": null,
       "grid_area": null,
       "grid_auto_columns": null,
       "grid_auto_flow": null,
       "grid_auto_rows": null,
       "grid_column": null,
       "grid_gap": null,
       "grid_row": null,
       "grid_template_areas": null,
       "grid_template_columns": null,
       "grid_template_rows": null,
       "height": null,
       "justify_content": null,
       "justify_items": null,
       "left": null,
       "margin": null,
       "max_height": null,
       "max_width": null,
       "min_height": null,
       "min_width": null,
       "object_fit": null,
       "object_position": null,
       "order": null,
       "overflow": null,
       "padding": null,
       "right": null,
       "top": null,
       "visibility": null,
       "width": null
      }
     },
     "3a7ad02f5ebf401ea7ccc25cfa42052e": {
      "model_module": "@jupyter-widgets/controls",
      "model_module_version": "2.0.0",
      "model_name": "HTMLModel",
      "state": {
       "_dom_classes": [],
       "_model_module": "@jupyter-widgets/controls",
       "_model_module_version": "2.0.0",
       "_model_name": "HTMLModel",
       "_view_count": null,
       "_view_module": "@jupyter-widgets/controls",
       "_view_module_version": "2.0.0",
       "_view_name": "HTMLView",
       "description": "",
       "description_allow_html": false,
       "layout": "IPY_MODEL_592514977e1649debf444fa7881b1525",
       "placeholder": "​",
       "style": "IPY_MODEL_0ec522647cbb477b8200f524d049aec6",
       "tabbable": null,
       "tooltip": null,
       "value": "100%"
      }
     },
     "42aa5618263e46efb7040840dd0e841e": {
      "model_module": "@jupyter-widgets/controls",
      "model_module_version": "2.0.0",
      "model_name": "HTMLModel",
      "state": {
       "_dom_classes": [],
       "_model_module": "@jupyter-widgets/controls",
       "_model_module_version": "2.0.0",
       "_model_name": "HTMLModel",
       "_view_count": null,
       "_view_module": "@jupyter-widgets/controls",
       "_view_module_version": "2.0.0",
       "_view_name": "HTMLView",
       "description": "",
       "description_allow_html": false,
       "layout": "IPY_MODEL_59a9d82318ee4662bcc55ba937216e84",
       "placeholder": "​",
       "style": "IPY_MODEL_03e59ef6c4f04b908b5803a5a828a484",
       "tabbable": null,
       "tooltip": null,
       "value": " 3/3 [00:28&lt;00:00,  9.27s/it]"
      }
     },
     "4383ed748d67454d930088be847e1b7a": {
      "model_module": "@jupyter-widgets/base",
      "model_module_version": "2.0.0",
      "model_name": "LayoutModel",
      "state": {
       "_model_module": "@jupyter-widgets/base",
       "_model_module_version": "2.0.0",
       "_model_name": "LayoutModel",
       "_view_count": null,
       "_view_module": "@jupyter-widgets/base",
       "_view_module_version": "2.0.0",
       "_view_name": "LayoutView",
       "align_content": null,
       "align_items": null,
       "align_self": null,
       "border_bottom": null,
       "border_left": null,
       "border_right": null,
       "border_top": null,
       "bottom": null,
       "display": null,
       "flex": null,
       "flex_flow": null,
       "grid_area": null,
       "grid_auto_columns": null,
       "grid_auto_flow": null,
       "grid_auto_rows": null,
       "grid_column": null,
       "grid_gap": null,
       "grid_row": null,
       "grid_template_areas": null,
       "grid_template_columns": null,
       "grid_template_rows": null,
       "height": null,
       "justify_content": null,
       "justify_items": null,
       "left": null,
       "margin": null,
       "max_height": null,
       "max_width": null,
       "min_height": null,
       "min_width": null,
       "object_fit": null,
       "object_position": null,
       "order": null,
       "overflow": null,
       "padding": null,
       "right": null,
       "top": null,
       "visibility": null,
       "width": null
      }
     },
     "43ebb172c59d4f119080a695e0306c83": {
      "model_module": "@jupyter-widgets/controls",
      "model_module_version": "2.0.0",
      "model_name": "HBoxModel",
      "state": {
       "_dom_classes": [],
       "_model_module": "@jupyter-widgets/controls",
       "_model_module_version": "2.0.0",
       "_model_name": "HBoxModel",
       "_view_count": null,
       "_view_module": "@jupyter-widgets/controls",
       "_view_module_version": "2.0.0",
       "_view_name": "HBoxView",
       "box_style": "",
       "children": [
        "IPY_MODEL_18a1fd9406534c939eff9447f9f5e322",
        "IPY_MODEL_0a5837a3843340e4830240a09dec77b7",
        "IPY_MODEL_ed82713ba7544b6b890c93dd8c4830af"
       ],
       "layout": "IPY_MODEL_2d8d2cbc6178479a8af0a1456cbbc480",
       "tabbable": null,
       "tooltip": null
      }
     },
     "4b574933cdbd4a5c9eb83037ab29a03d": {
      "model_module": "@jupyter-widgets/base",
      "model_module_version": "2.0.0",
      "model_name": "LayoutModel",
      "state": {
       "_model_module": "@jupyter-widgets/base",
       "_model_module_version": "2.0.0",
       "_model_name": "LayoutModel",
       "_view_count": null,
       "_view_module": "@jupyter-widgets/base",
       "_view_module_version": "2.0.0",
       "_view_name": "LayoutView",
       "align_content": null,
       "align_items": null,
       "align_self": null,
       "border_bottom": null,
       "border_left": null,
       "border_right": null,
       "border_top": null,
       "bottom": null,
       "display": null,
       "flex": null,
       "flex_flow": null,
       "grid_area": null,
       "grid_auto_columns": null,
       "grid_auto_flow": null,
       "grid_auto_rows": null,
       "grid_column": null,
       "grid_gap": null,
       "grid_row": null,
       "grid_template_areas": null,
       "grid_template_columns": null,
       "grid_template_rows": null,
       "height": null,
       "justify_content": null,
       "justify_items": null,
       "left": null,
       "margin": null,
       "max_height": null,
       "max_width": null,
       "min_height": null,
       "min_width": null,
       "object_fit": null,
       "object_position": null,
       "order": null,
       "overflow": null,
       "padding": null,
       "right": null,
       "top": null,
       "visibility": null,
       "width": null
      }
     },
     "4c90d8bbc7c04487a7a6789317bf2f16": {
      "model_module": "@jupyter-widgets/controls",
      "model_module_version": "2.0.0",
      "model_name": "HTMLStyleModel",
      "state": {
       "_model_module": "@jupyter-widgets/controls",
       "_model_module_version": "2.0.0",
       "_model_name": "HTMLStyleModel",
       "_view_count": null,
       "_view_module": "@jupyter-widgets/base",
       "_view_module_version": "2.0.0",
       "_view_name": "StyleView",
       "background": null,
       "description_width": "",
       "font_size": null,
       "text_color": null
      }
     },
     "4ca6a0de4fc04fe18bb2cdb726c1b5b1": {
      "model_module": "@jupyter-widgets/base",
      "model_module_version": "2.0.0",
      "model_name": "LayoutModel",
      "state": {
       "_model_module": "@jupyter-widgets/base",
       "_model_module_version": "2.0.0",
       "_model_name": "LayoutModel",
       "_view_count": null,
       "_view_module": "@jupyter-widgets/base",
       "_view_module_version": "2.0.0",
       "_view_name": "LayoutView",
       "align_content": null,
       "align_items": null,
       "align_self": null,
       "border_bottom": null,
       "border_left": null,
       "border_right": null,
       "border_top": null,
       "bottom": null,
       "display": null,
       "flex": null,
       "flex_flow": null,
       "grid_area": null,
       "grid_auto_columns": null,
       "grid_auto_flow": null,
       "grid_auto_rows": null,
       "grid_column": null,
       "grid_gap": null,
       "grid_row": null,
       "grid_template_areas": null,
       "grid_template_columns": null,
       "grid_template_rows": null,
       "height": null,
       "justify_content": null,
       "justify_items": null,
       "left": null,
       "margin": null,
       "max_height": null,
       "max_width": null,
       "min_height": null,
       "min_width": null,
       "object_fit": null,
       "object_position": null,
       "order": null,
       "overflow": null,
       "padding": null,
       "right": null,
       "top": null,
       "visibility": null,
       "width": null
      }
     },
     "4e4f908e7dfd438dbcb573637b82097f": {
      "model_module": "@jupyter-widgets/controls",
      "model_module_version": "2.0.0",
      "model_name": "HTMLStyleModel",
      "state": {
       "_model_module": "@jupyter-widgets/controls",
       "_model_module_version": "2.0.0",
       "_model_name": "HTMLStyleModel",
       "_view_count": null,
       "_view_module": "@jupyter-widgets/base",
       "_view_module_version": "2.0.0",
       "_view_name": "StyleView",
       "background": null,
       "description_width": "",
       "font_size": null,
       "text_color": null
      }
     },
     "4ec3742bb21d44e883bf106b654a9b5b": {
      "model_module": "@jupyter-widgets/base",
      "model_module_version": "2.0.0",
      "model_name": "LayoutModel",
      "state": {
       "_model_module": "@jupyter-widgets/base",
       "_model_module_version": "2.0.0",
       "_model_name": "LayoutModel",
       "_view_count": null,
       "_view_module": "@jupyter-widgets/base",
       "_view_module_version": "2.0.0",
       "_view_name": "LayoutView",
       "align_content": null,
       "align_items": null,
       "align_self": null,
       "border_bottom": null,
       "border_left": null,
       "border_right": null,
       "border_top": null,
       "bottom": null,
       "display": null,
       "flex": null,
       "flex_flow": null,
       "grid_area": null,
       "grid_auto_columns": null,
       "grid_auto_flow": null,
       "grid_auto_rows": null,
       "grid_column": null,
       "grid_gap": null,
       "grid_row": null,
       "grid_template_areas": null,
       "grid_template_columns": null,
       "grid_template_rows": null,
       "height": null,
       "justify_content": null,
       "justify_items": null,
       "left": null,
       "margin": null,
       "max_height": null,
       "max_width": null,
       "min_height": null,
       "min_width": null,
       "object_fit": null,
       "object_position": null,
       "order": null,
       "overflow": null,
       "padding": null,
       "right": null,
       "top": null,
       "visibility": null,
       "width": null
      }
     },
     "51479b05ace04f05a67bf8b57b2f0c9f": {
      "model_module": "@jupyter-widgets/base",
      "model_module_version": "2.0.0",
      "model_name": "LayoutModel",
      "state": {
       "_model_module": "@jupyter-widgets/base",
       "_model_module_version": "2.0.0",
       "_model_name": "LayoutModel",
       "_view_count": null,
       "_view_module": "@jupyter-widgets/base",
       "_view_module_version": "2.0.0",
       "_view_name": "LayoutView",
       "align_content": null,
       "align_items": null,
       "align_self": null,
       "border_bottom": null,
       "border_left": null,
       "border_right": null,
       "border_top": null,
       "bottom": null,
       "display": null,
       "flex": null,
       "flex_flow": null,
       "grid_area": null,
       "grid_auto_columns": null,
       "grid_auto_flow": null,
       "grid_auto_rows": null,
       "grid_column": null,
       "grid_gap": null,
       "grid_row": null,
       "grid_template_areas": null,
       "grid_template_columns": null,
       "grid_template_rows": null,
       "height": null,
       "justify_content": null,
       "justify_items": null,
       "left": null,
       "margin": null,
       "max_height": null,
       "max_width": null,
       "min_height": null,
       "min_width": null,
       "object_fit": null,
       "object_position": null,
       "order": null,
       "overflow": null,
       "padding": null,
       "right": null,
       "top": null,
       "visibility": null,
       "width": null
      }
     },
     "57726202a57041f0ba86e1be08303c30": {
      "model_module": "@jupyter-widgets/controls",
      "model_module_version": "2.0.0",
      "model_name": "HTMLStyleModel",
      "state": {
       "_model_module": "@jupyter-widgets/controls",
       "_model_module_version": "2.0.0",
       "_model_name": "HTMLStyleModel",
       "_view_count": null,
       "_view_module": "@jupyter-widgets/base",
       "_view_module_version": "2.0.0",
       "_view_name": "StyleView",
       "background": null,
       "description_width": "",
       "font_size": null,
       "text_color": null
      }
     },
     "592514977e1649debf444fa7881b1525": {
      "model_module": "@jupyter-widgets/base",
      "model_module_version": "2.0.0",
      "model_name": "LayoutModel",
      "state": {
       "_model_module": "@jupyter-widgets/base",
       "_model_module_version": "2.0.0",
       "_model_name": "LayoutModel",
       "_view_count": null,
       "_view_module": "@jupyter-widgets/base",
       "_view_module_version": "2.0.0",
       "_view_name": "LayoutView",
       "align_content": null,
       "align_items": null,
       "align_self": null,
       "border_bottom": null,
       "border_left": null,
       "border_right": null,
       "border_top": null,
       "bottom": null,
       "display": null,
       "flex": null,
       "flex_flow": null,
       "grid_area": null,
       "grid_auto_columns": null,
       "grid_auto_flow": null,
       "grid_auto_rows": null,
       "grid_column": null,
       "grid_gap": null,
       "grid_row": null,
       "grid_template_areas": null,
       "grid_template_columns": null,
       "grid_template_rows": null,
       "height": null,
       "justify_content": null,
       "justify_items": null,
       "left": null,
       "margin": null,
       "max_height": null,
       "max_width": null,
       "min_height": null,
       "min_width": null,
       "object_fit": null,
       "object_position": null,
       "order": null,
       "overflow": null,
       "padding": null,
       "right": null,
       "top": null,
       "visibility": null,
       "width": null
      }
     },
     "59a9d82318ee4662bcc55ba937216e84": {
      "model_module": "@jupyter-widgets/base",
      "model_module_version": "2.0.0",
      "model_name": "LayoutModel",
      "state": {
       "_model_module": "@jupyter-widgets/base",
       "_model_module_version": "2.0.0",
       "_model_name": "LayoutModel",
       "_view_count": null,
       "_view_module": "@jupyter-widgets/base",
       "_view_module_version": "2.0.0",
       "_view_name": "LayoutView",
       "align_content": null,
       "align_items": null,
       "align_self": null,
       "border_bottom": null,
       "border_left": null,
       "border_right": null,
       "border_top": null,
       "bottom": null,
       "display": null,
       "flex": null,
       "flex_flow": null,
       "grid_area": null,
       "grid_auto_columns": null,
       "grid_auto_flow": null,
       "grid_auto_rows": null,
       "grid_column": null,
       "grid_gap": null,
       "grid_row": null,
       "grid_template_areas": null,
       "grid_template_columns": null,
       "grid_template_rows": null,
       "height": null,
       "justify_content": null,
       "justify_items": null,
       "left": null,
       "margin": null,
       "max_height": null,
       "max_width": null,
       "min_height": null,
       "min_width": null,
       "object_fit": null,
       "object_position": null,
       "order": null,
       "overflow": null,
       "padding": null,
       "right": null,
       "top": null,
       "visibility": null,
       "width": null
      }
     },
     "59de147aaa284e4c92fb98df77d7b6ff": {
      "model_module": "@jupyter-widgets/controls",
      "model_module_version": "2.0.0",
      "model_name": "HTMLStyleModel",
      "state": {
       "_model_module": "@jupyter-widgets/controls",
       "_model_module_version": "2.0.0",
       "_model_name": "HTMLStyleModel",
       "_view_count": null,
       "_view_module": "@jupyter-widgets/base",
       "_view_module_version": "2.0.0",
       "_view_name": "StyleView",
       "background": null,
       "description_width": "",
       "font_size": null,
       "text_color": null
      }
     },
     "5e3b25681f6d4f76ba4457ad5e13539d": {
      "model_module": "@jupyter-widgets/controls",
      "model_module_version": "2.0.0",
      "model_name": "HBoxModel",
      "state": {
       "_dom_classes": [],
       "_model_module": "@jupyter-widgets/controls",
       "_model_module_version": "2.0.0",
       "_model_name": "HBoxModel",
       "_view_count": null,
       "_view_module": "@jupyter-widgets/controls",
       "_view_module_version": "2.0.0",
       "_view_name": "HBoxView",
       "box_style": "",
       "children": [
        "IPY_MODEL_0f6e9c18a5b14c958d0aecf48c49d7e4",
        "IPY_MODEL_6b87584b593a461798d7c9eaa7970bb7",
        "IPY_MODEL_dbb7b1ea00ab43359f3d898dfb50a05e"
       ],
       "layout": "IPY_MODEL_4ca6a0de4fc04fe18bb2cdb726c1b5b1",
       "tabbable": null,
       "tooltip": null
      }
     },
     "62c46e193f1548ccbd2163793599ec0c": {
      "model_module": "@jupyter-widgets/base",
      "model_module_version": "2.0.0",
      "model_name": "LayoutModel",
      "state": {
       "_model_module": "@jupyter-widgets/base",
       "_model_module_version": "2.0.0",
       "_model_name": "LayoutModel",
       "_view_count": null,
       "_view_module": "@jupyter-widgets/base",
       "_view_module_version": "2.0.0",
       "_view_name": "LayoutView",
       "align_content": null,
       "align_items": null,
       "align_self": null,
       "border_bottom": null,
       "border_left": null,
       "border_right": null,
       "border_top": null,
       "bottom": null,
       "display": null,
       "flex": null,
       "flex_flow": null,
       "grid_area": null,
       "grid_auto_columns": null,
       "grid_auto_flow": null,
       "grid_auto_rows": null,
       "grid_column": null,
       "grid_gap": null,
       "grid_row": null,
       "grid_template_areas": null,
       "grid_template_columns": null,
       "grid_template_rows": null,
       "height": null,
       "justify_content": null,
       "justify_items": null,
       "left": null,
       "margin": null,
       "max_height": null,
       "max_width": null,
       "min_height": null,
       "min_width": null,
       "object_fit": null,
       "object_position": null,
       "order": null,
       "overflow": null,
       "padding": null,
       "right": null,
       "top": null,
       "visibility": null,
       "width": null
      }
     },
     "63dd33d467244617a9e449fbf0263fec": {
      "model_module": "@jupyter-widgets/controls",
      "model_module_version": "2.0.0",
      "model_name": "HTMLStyleModel",
      "state": {
       "_model_module": "@jupyter-widgets/controls",
       "_model_module_version": "2.0.0",
       "_model_name": "HTMLStyleModel",
       "_view_count": null,
       "_view_module": "@jupyter-widgets/base",
       "_view_module_version": "2.0.0",
       "_view_name": "StyleView",
       "background": null,
       "description_width": "",
       "font_size": null,
       "text_color": null
      }
     },
     "69e34b2da9f647c48b394fdd596c3719": {
      "model_module": "@jupyter-widgets/controls",
      "model_module_version": "2.0.0",
      "model_name": "HTMLStyleModel",
      "state": {
       "_model_module": "@jupyter-widgets/controls",
       "_model_module_version": "2.0.0",
       "_model_name": "HTMLStyleModel",
       "_view_count": null,
       "_view_module": "@jupyter-widgets/base",
       "_view_module_version": "2.0.0",
       "_view_name": "StyleView",
       "background": null,
       "description_width": "",
       "font_size": null,
       "text_color": null
      }
     },
     "6b87584b593a461798d7c9eaa7970bb7": {
      "model_module": "@jupyter-widgets/controls",
      "model_module_version": "2.0.0",
      "model_name": "FloatProgressModel",
      "state": {
       "_dom_classes": [],
       "_model_module": "@jupyter-widgets/controls",
       "_model_module_version": "2.0.0",
       "_model_name": "FloatProgressModel",
       "_view_count": null,
       "_view_module": "@jupyter-widgets/controls",
       "_view_module_version": "2.0.0",
       "_view_name": "ProgressView",
       "bar_style": "success",
       "description": "",
       "description_allow_html": false,
       "layout": "IPY_MODEL_62c46e193f1548ccbd2163793599ec0c",
       "max": 3.0,
       "min": 0.0,
       "orientation": "horizontal",
       "style": "IPY_MODEL_78b9450cd29e4e569436ce07a531114f",
       "tabbable": null,
       "tooltip": null,
       "value": 3.0
      }
     },
     "707d224644f9421eb1840d449361e25d": {
      "model_module": "@jupyter-widgets/controls",
      "model_module_version": "2.0.0",
      "model_name": "HTMLModel",
      "state": {
       "_dom_classes": [],
       "_model_module": "@jupyter-widgets/controls",
       "_model_module_version": "2.0.0",
       "_model_name": "HTMLModel",
       "_view_count": null,
       "_view_module": "@jupyter-widgets/controls",
       "_view_module_version": "2.0.0",
       "_view_name": "HTMLView",
       "description": "",
       "description_allow_html": false,
       "layout": "IPY_MODEL_745ed915cb24488b9817e00d8a1c1b37",
       "placeholder": "​",
       "style": "IPY_MODEL_a754a33fa8a74163a9a9f8bf63f85217",
       "tabbable": null,
       "tooltip": null,
       "value": " 313/313 [00:01&lt;00:00, 297.34it/s]"
      }
     },
     "71ee832fc3694e6eabf3864e2d0a9e81": {
      "model_module": "@jupyter-widgets/base",
      "model_module_version": "2.0.0",
      "model_name": "LayoutModel",
      "state": {
       "_model_module": "@jupyter-widgets/base",
       "_model_module_version": "2.0.0",
       "_model_name": "LayoutModel",
       "_view_count": null,
       "_view_module": "@jupyter-widgets/base",
       "_view_module_version": "2.0.0",
       "_view_name": "LayoutView",
       "align_content": null,
       "align_items": null,
       "align_self": null,
       "border_bottom": null,
       "border_left": null,
       "border_right": null,
       "border_top": null,
       "bottom": null,
       "display": null,
       "flex": null,
       "flex_flow": null,
       "grid_area": null,
       "grid_auto_columns": null,
       "grid_auto_flow": null,
       "grid_auto_rows": null,
       "grid_column": null,
       "grid_gap": null,
       "grid_row": null,
       "grid_template_areas": null,
       "grid_template_columns": null,
       "grid_template_rows": null,
       "height": null,
       "justify_content": null,
       "justify_items": null,
       "left": null,
       "margin": null,
       "max_height": null,
       "max_width": null,
       "min_height": null,
       "min_width": null,
       "object_fit": null,
       "object_position": null,
       "order": null,
       "overflow": null,
       "padding": null,
       "right": null,
       "top": null,
       "visibility": null,
       "width": null
      }
     },
     "745ed915cb24488b9817e00d8a1c1b37": {
      "model_module": "@jupyter-widgets/base",
      "model_module_version": "2.0.0",
      "model_name": "LayoutModel",
      "state": {
       "_model_module": "@jupyter-widgets/base",
       "_model_module_version": "2.0.0",
       "_model_name": "LayoutModel",
       "_view_count": null,
       "_view_module": "@jupyter-widgets/base",
       "_view_module_version": "2.0.0",
       "_view_name": "LayoutView",
       "align_content": null,
       "align_items": null,
       "align_self": null,
       "border_bottom": null,
       "border_left": null,
       "border_right": null,
       "border_top": null,
       "bottom": null,
       "display": null,
       "flex": null,
       "flex_flow": null,
       "grid_area": null,
       "grid_auto_columns": null,
       "grid_auto_flow": null,
       "grid_auto_rows": null,
       "grid_column": null,
       "grid_gap": null,
       "grid_row": null,
       "grid_template_areas": null,
       "grid_template_columns": null,
       "grid_template_rows": null,
       "height": null,
       "justify_content": null,
       "justify_items": null,
       "left": null,
       "margin": null,
       "max_height": null,
       "max_width": null,
       "min_height": null,
       "min_width": null,
       "object_fit": null,
       "object_position": null,
       "order": null,
       "overflow": null,
       "padding": null,
       "right": null,
       "top": null,
       "visibility": null,
       "width": null
      }
     },
     "750c960913dd4bc49cc1d752a8dcbb7a": {
      "model_module": "@jupyter-widgets/controls",
      "model_module_version": "2.0.0",
      "model_name": "HTMLModel",
      "state": {
       "_dom_classes": [],
       "_model_module": "@jupyter-widgets/controls",
       "_model_module_version": "2.0.0",
       "_model_name": "HTMLModel",
       "_view_count": null,
       "_view_module": "@jupyter-widgets/controls",
       "_view_module_version": "2.0.0",
       "_view_name": "HTMLView",
       "description": "",
       "description_allow_html": false,
       "layout": "IPY_MODEL_34bca15b48ea4da99479642ebcfe2923",
       "placeholder": "​",
       "style": "IPY_MODEL_8555ddc068a246efae6edeb5e0576388",
       "tabbable": null,
       "tooltip": null,
       "value": "  0%"
      }
     },
     "78b9450cd29e4e569436ce07a531114f": {
      "model_module": "@jupyter-widgets/controls",
      "model_module_version": "2.0.0",
      "model_name": "ProgressStyleModel",
      "state": {
       "_model_module": "@jupyter-widgets/controls",
       "_model_module_version": "2.0.0",
       "_model_name": "ProgressStyleModel",
       "_view_count": null,
       "_view_module": "@jupyter-widgets/base",
       "_view_module_version": "2.0.0",
       "_view_name": "StyleView",
       "bar_color": null,
       "description_width": ""
      }
     },
     "78c67cb3491d4e3299067dd20b1c28b8": {
      "model_module": "@jupyter-widgets/controls",
      "model_module_version": "2.0.0",
      "model_name": "HTMLModel",
      "state": {
       "_dom_classes": [],
       "_model_module": "@jupyter-widgets/controls",
       "_model_module_version": "2.0.0",
       "_model_name": "HTMLModel",
       "_view_count": null,
       "_view_module": "@jupyter-widgets/controls",
       "_view_module_version": "2.0.0",
       "_view_name": "HTMLView",
       "description": "",
       "description_allow_html": false,
       "layout": "IPY_MODEL_0399dbc318f14aad95e746035b93bfa3",
       "placeholder": "​",
       "style": "IPY_MODEL_2cc0f4be78704b838085c40eb531d4cd",
       "tabbable": null,
       "tooltip": null,
       "value": "100%"
      }
     },
     "7c270790b73c475e8447a32b0ed14519": {
      "model_module": "@jupyter-widgets/controls",
      "model_module_version": "2.0.0",
      "model_name": "HBoxModel",
      "state": {
       "_dom_classes": [],
       "_model_module": "@jupyter-widgets/controls",
       "_model_module_version": "2.0.0",
       "_model_name": "HBoxModel",
       "_view_count": null,
       "_view_module": "@jupyter-widgets/controls",
       "_view_module_version": "2.0.0",
       "_view_name": "HBoxView",
       "box_style": "",
       "children": [
        "IPY_MODEL_78c67cb3491d4e3299067dd20b1c28b8",
        "IPY_MODEL_debf6acfc8694e4fa6cb007224fd8b66",
        "IPY_MODEL_42aa5618263e46efb7040840dd0e841e"
       ],
       "layout": "IPY_MODEL_39f4baf8dd09469b96394b458432575a",
       "tabbable": null,
       "tooltip": null
      }
     },
     "7e290e74fb8347ccbd60697443ff7fbf": {
      "model_module": "@jupyter-widgets/controls",
      "model_module_version": "2.0.0",
      "model_name": "ProgressStyleModel",
      "state": {
       "_model_module": "@jupyter-widgets/controls",
       "_model_module_version": "2.0.0",
       "_model_name": "ProgressStyleModel",
       "_view_count": null,
       "_view_module": "@jupyter-widgets/base",
       "_view_module_version": "2.0.0",
       "_view_name": "StyleView",
       "bar_color": null,
       "description_width": ""
      }
     },
     "845297159ccc4537954689d078486f06": {
      "model_module": "@jupyter-widgets/controls",
      "model_module_version": "2.0.0",
      "model_name": "HTMLModel",
      "state": {
       "_dom_classes": [],
       "_model_module": "@jupyter-widgets/controls",
       "_model_module_version": "2.0.0",
       "_model_name": "HTMLModel",
       "_view_count": null,
       "_view_module": "@jupyter-widgets/controls",
       "_view_module_version": "2.0.0",
       "_view_name": "HTMLView",
       "description": "",
       "description_allow_html": false,
       "layout": "IPY_MODEL_b997c314068e46718fb685c3db737985",
       "placeholder": "​",
       "style": "IPY_MODEL_e36133505ed44c908c97b0aeed359bf8",
       "tabbable": null,
       "tooltip": null,
       "value": " 0/313 [00:00&lt;?, ?it/s]"
      }
     },
     "8555ddc068a246efae6edeb5e0576388": {
      "model_module": "@jupyter-widgets/controls",
      "model_module_version": "2.0.0",
      "model_name": "HTMLStyleModel",
      "state": {
       "_model_module": "@jupyter-widgets/controls",
       "_model_module_version": "2.0.0",
       "_model_name": "HTMLStyleModel",
       "_view_count": null,
       "_view_module": "@jupyter-widgets/base",
       "_view_module_version": "2.0.0",
       "_view_name": "StyleView",
       "background": null,
       "description_width": "",
       "font_size": null,
       "text_color": null
      }
     },
     "86eaa72a1c014ce590a33db6159fcf12": {
      "model_module": "@jupyter-widgets/controls",
      "model_module_version": "2.0.0",
      "model_name": "ProgressStyleModel",
      "state": {
       "_model_module": "@jupyter-widgets/controls",
       "_model_module_version": "2.0.0",
       "_model_name": "ProgressStyleModel",
       "_view_count": null,
       "_view_module": "@jupyter-widgets/base",
       "_view_module_version": "2.0.0",
       "_view_name": "StyleView",
       "bar_color": null,
       "description_width": ""
      }
     },
     "88657c4f2d1c436b817072074756d167": {
      "model_module": "@jupyter-widgets/controls",
      "model_module_version": "2.0.0",
      "model_name": "HBoxModel",
      "state": {
       "_dom_classes": [],
       "_model_module": "@jupyter-widgets/controls",
       "_model_module_version": "2.0.0",
       "_model_name": "HBoxModel",
       "_view_count": null,
       "_view_module": "@jupyter-widgets/controls",
       "_view_module_version": "2.0.0",
       "_view_name": "HBoxView",
       "box_style": "",
       "children": [
        "IPY_MODEL_3a7ad02f5ebf401ea7ccc25cfa42052e",
        "IPY_MODEL_b9a723f9fc6941b582e7d7b20da95bee",
        "IPY_MODEL_707d224644f9421eb1840d449361e25d"
       ],
       "layout": "IPY_MODEL_f3aec19f3aee4af78c2b9f044bae463b",
       "tabbable": null,
       "tooltip": null
      }
     },
     "8bd2c5a3fe78498aa15b2560f3d17288": {
      "model_module": "@jupyter-widgets/controls",
      "model_module_version": "2.0.0",
      "model_name": "FloatProgressModel",
      "state": {
       "_dom_classes": [],
       "_model_module": "@jupyter-widgets/controls",
       "_model_module_version": "2.0.0",
       "_model_name": "FloatProgressModel",
       "_view_count": null,
       "_view_module": "@jupyter-widgets/controls",
       "_view_module_version": "2.0.0",
       "_view_name": "ProgressView",
       "bar_style": "success",
       "description": "",
       "description_allow_html": false,
       "layout": "IPY_MODEL_1dcf0053f5dd4a23ae41d9ef19d49854",
       "max": 313.0,
       "min": 0.0,
       "orientation": "horizontal",
       "style": "IPY_MODEL_86eaa72a1c014ce590a33db6159fcf12",
       "tabbable": null,
       "tooltip": null,
       "value": 313.0
      }
     },
     "8e71d42793c249ea83749e3988ec56d4": {
      "model_module": "@jupyter-widgets/base",
      "model_module_version": "2.0.0",
      "model_name": "LayoutModel",
      "state": {
       "_model_module": "@jupyter-widgets/base",
       "_model_module_version": "2.0.0",
       "_model_name": "LayoutModel",
       "_view_count": null,
       "_view_module": "@jupyter-widgets/base",
       "_view_module_version": "2.0.0",
       "_view_name": "LayoutView",
       "align_content": null,
       "align_items": null,
       "align_self": null,
       "border_bottom": null,
       "border_left": null,
       "border_right": null,
       "border_top": null,
       "bottom": null,
       "display": null,
       "flex": null,
       "flex_flow": null,
       "grid_area": null,
       "grid_auto_columns": null,
       "grid_auto_flow": null,
       "grid_auto_rows": null,
       "grid_column": null,
       "grid_gap": null,
       "grid_row": null,
       "grid_template_areas": null,
       "grid_template_columns": null,
       "grid_template_rows": null,
       "height": null,
       "justify_content": null,
       "justify_items": null,
       "left": null,
       "margin": null,
       "max_height": null,
       "max_width": null,
       "min_height": null,
       "min_width": null,
       "object_fit": null,
       "object_position": null,
       "order": null,
       "overflow": null,
       "padding": null,
       "right": null,
       "top": null,
       "visibility": null,
       "width": null
      }
     },
     "97f3229785f2442f93eb03792e3c6412": {
      "model_module": "@jupyter-widgets/controls",
      "model_module_version": "2.0.0",
      "model_name": "HTMLStyleModel",
      "state": {
       "_model_module": "@jupyter-widgets/controls",
       "_model_module_version": "2.0.0",
       "_model_name": "HTMLStyleModel",
       "_view_count": null,
       "_view_module": "@jupyter-widgets/base",
       "_view_module_version": "2.0.0",
       "_view_name": "StyleView",
       "background": null,
       "description_width": "",
       "font_size": null,
       "text_color": null
      }
     },
     "98055394c73341109b90a00bb70a3d68": {
      "model_module": "@jupyter-widgets/base",
      "model_module_version": "2.0.0",
      "model_name": "LayoutModel",
      "state": {
       "_model_module": "@jupyter-widgets/base",
       "_model_module_version": "2.0.0",
       "_model_name": "LayoutModel",
       "_view_count": null,
       "_view_module": "@jupyter-widgets/base",
       "_view_module_version": "2.0.0",
       "_view_name": "LayoutView",
       "align_content": null,
       "align_items": null,
       "align_self": null,
       "border_bottom": null,
       "border_left": null,
       "border_right": null,
       "border_top": null,
       "bottom": null,
       "display": null,
       "flex": null,
       "flex_flow": null,
       "grid_area": null,
       "grid_auto_columns": null,
       "grid_auto_flow": null,
       "grid_auto_rows": null,
       "grid_column": null,
       "grid_gap": null,
       "grid_row": null,
       "grid_template_areas": null,
       "grid_template_columns": null,
       "grid_template_rows": null,
       "height": null,
       "justify_content": null,
       "justify_items": null,
       "left": null,
       "margin": null,
       "max_height": null,
       "max_width": null,
       "min_height": null,
       "min_width": null,
       "object_fit": null,
       "object_position": null,
       "order": null,
       "overflow": null,
       "padding": null,
       "right": null,
       "top": null,
       "visibility": null,
       "width": null
      }
     },
     "9bd4cc4dfa22496fa25d5ca536787fd7": {
      "model_module": "@jupyter-widgets/controls",
      "model_module_version": "2.0.0",
      "model_name": "HTMLModel",
      "state": {
       "_dom_classes": [],
       "_model_module": "@jupyter-widgets/controls",
       "_model_module_version": "2.0.0",
       "_model_name": "HTMLModel",
       "_view_count": null,
       "_view_module": "@jupyter-widgets/controls",
       "_view_module_version": "2.0.0",
       "_view_name": "HTMLView",
       "description": "",
       "description_allow_html": false,
       "layout": "IPY_MODEL_c19b3a6da7ad4b6aab8159f7af301cc6",
       "placeholder": "​",
       "style": "IPY_MODEL_4c90d8bbc7c04487a7a6789317bf2f16",
       "tabbable": null,
       "tooltip": null,
       "value": " 313/313 [00:01&lt;00:00, 283.39it/s]"
      }
     },
     "9fdf6a2ca4cb481493bdf0f2acded232": {
      "model_module": "@jupyter-widgets/controls",
      "model_module_version": "2.0.0",
      "model_name": "HTMLStyleModel",
      "state": {
       "_model_module": "@jupyter-widgets/controls",
       "_model_module_version": "2.0.0",
       "_model_name": "HTMLStyleModel",
       "_view_count": null,
       "_view_module": "@jupyter-widgets/base",
       "_view_module_version": "2.0.0",
       "_view_name": "StyleView",
       "background": null,
       "description_width": "",
       "font_size": null,
       "text_color": null
      }
     },
     "a19f5a62a2574c899128bc7aa66c6517": {
      "model_module": "@jupyter-widgets/base",
      "model_module_version": "2.0.0",
      "model_name": "LayoutModel",
      "state": {
       "_model_module": "@jupyter-widgets/base",
       "_model_module_version": "2.0.0",
       "_model_name": "LayoutModel",
       "_view_count": null,
       "_view_module": "@jupyter-widgets/base",
       "_view_module_version": "2.0.0",
       "_view_name": "LayoutView",
       "align_content": null,
       "align_items": null,
       "align_self": null,
       "border_bottom": null,
       "border_left": null,
       "border_right": null,
       "border_top": null,
       "bottom": null,
       "display": null,
       "flex": null,
       "flex_flow": null,
       "grid_area": null,
       "grid_auto_columns": null,
       "grid_auto_flow": null,
       "grid_auto_rows": null,
       "grid_column": null,
       "grid_gap": null,
       "grid_row": null,
       "grid_template_areas": null,
       "grid_template_columns": null,
       "grid_template_rows": null,
       "height": null,
       "justify_content": null,
       "justify_items": null,
       "left": null,
       "margin": null,
       "max_height": null,
       "max_width": null,
       "min_height": null,
       "min_width": null,
       "object_fit": null,
       "object_position": null,
       "order": null,
       "overflow": null,
       "padding": null,
       "right": null,
       "top": null,
       "visibility": null,
       "width": null
      }
     },
     "a754a33fa8a74163a9a9f8bf63f85217": {
      "model_module": "@jupyter-widgets/controls",
      "model_module_version": "2.0.0",
      "model_name": "HTMLStyleModel",
      "state": {
       "_model_module": "@jupyter-widgets/controls",
       "_model_module_version": "2.0.0",
       "_model_name": "HTMLStyleModel",
       "_view_count": null,
       "_view_module": "@jupyter-widgets/base",
       "_view_module_version": "2.0.0",
       "_view_name": "StyleView",
       "background": null,
       "description_width": "",
       "font_size": null,
       "text_color": null
      }
     },
     "b3cc58b425d044378ffb10fc855af7d5": {
      "model_module": "@jupyter-widgets/base",
      "model_module_version": "2.0.0",
      "model_name": "LayoutModel",
      "state": {
       "_model_module": "@jupyter-widgets/base",
       "_model_module_version": "2.0.0",
       "_model_name": "LayoutModel",
       "_view_count": null,
       "_view_module": "@jupyter-widgets/base",
       "_view_module_version": "2.0.0",
       "_view_name": "LayoutView",
       "align_content": null,
       "align_items": null,
       "align_self": null,
       "border_bottom": null,
       "border_left": null,
       "border_right": null,
       "border_top": null,
       "bottom": null,
       "display": null,
       "flex": null,
       "flex_flow": null,
       "grid_area": null,
       "grid_auto_columns": null,
       "grid_auto_flow": null,
       "grid_auto_rows": null,
       "grid_column": null,
       "grid_gap": null,
       "grid_row": null,
       "grid_template_areas": null,
       "grid_template_columns": null,
       "grid_template_rows": null,
       "height": null,
       "justify_content": null,
       "justify_items": null,
       "left": null,
       "margin": null,
       "max_height": null,
       "max_width": null,
       "min_height": null,
       "min_width": null,
       "object_fit": null,
       "object_position": null,
       "order": null,
       "overflow": null,
       "padding": null,
       "right": null,
       "top": null,
       "visibility": null,
       "width": null
      }
     },
     "b997c314068e46718fb685c3db737985": {
      "model_module": "@jupyter-widgets/base",
      "model_module_version": "2.0.0",
      "model_name": "LayoutModel",
      "state": {
       "_model_module": "@jupyter-widgets/base",
       "_model_module_version": "2.0.0",
       "_model_name": "LayoutModel",
       "_view_count": null,
       "_view_module": "@jupyter-widgets/base",
       "_view_module_version": "2.0.0",
       "_view_name": "LayoutView",
       "align_content": null,
       "align_items": null,
       "align_self": null,
       "border_bottom": null,
       "border_left": null,
       "border_right": null,
       "border_top": null,
       "bottom": null,
       "display": null,
       "flex": null,
       "flex_flow": null,
       "grid_area": null,
       "grid_auto_columns": null,
       "grid_auto_flow": null,
       "grid_auto_rows": null,
       "grid_column": null,
       "grid_gap": null,
       "grid_row": null,
       "grid_template_areas": null,
       "grid_template_columns": null,
       "grid_template_rows": null,
       "height": null,
       "justify_content": null,
       "justify_items": null,
       "left": null,
       "margin": null,
       "max_height": null,
       "max_width": null,
       "min_height": null,
       "min_width": null,
       "object_fit": null,
       "object_position": null,
       "order": null,
       "overflow": null,
       "padding": null,
       "right": null,
       "top": null,
       "visibility": null,
       "width": null
      }
     },
     "b9a723f9fc6941b582e7d7b20da95bee": {
      "model_module": "@jupyter-widgets/controls",
      "model_module_version": "2.0.0",
      "model_name": "FloatProgressModel",
      "state": {
       "_dom_classes": [],
       "_model_module": "@jupyter-widgets/controls",
       "_model_module_version": "2.0.0",
       "_model_name": "FloatProgressModel",
       "_view_count": null,
       "_view_module": "@jupyter-widgets/controls",
       "_view_module_version": "2.0.0",
       "_view_name": "ProgressView",
       "bar_style": "success",
       "description": "",
       "description_allow_html": false,
       "layout": "IPY_MODEL_d55b5a1d6f094d55ad7fbdf273e48b39",
       "max": 313.0,
       "min": 0.0,
       "orientation": "horizontal",
       "style": "IPY_MODEL_e536354eced3400ebc3b38e58ff5303d",
       "tabbable": null,
       "tooltip": null,
       "value": 313.0
      }
     },
     "bcbd061a63194b6391089daa08e98671": {
      "model_module": "@jupyter-widgets/controls",
      "model_module_version": "2.0.0",
      "model_name": "HBoxModel",
      "state": {
       "_dom_classes": [],
       "_model_module": "@jupyter-widgets/controls",
       "_model_module_version": "2.0.0",
       "_model_name": "HBoxModel",
       "_view_count": null,
       "_view_module": "@jupyter-widgets/controls",
       "_view_module_version": "2.0.0",
       "_view_name": "HBoxView",
       "box_style": "",
       "children": [
        "IPY_MODEL_17afc1b6d4f843eab599fe5bfc8e8770",
        "IPY_MODEL_0087aafd448043c79076bb09a6c1dbc6",
        "IPY_MODEL_c0c637262f6443ac831169e738208646"
       ],
       "layout": "IPY_MODEL_8e71d42793c249ea83749e3988ec56d4",
       "tabbable": null,
       "tooltip": null
      }
     },
     "c0c637262f6443ac831169e738208646": {
      "model_module": "@jupyter-widgets/controls",
      "model_module_version": "2.0.0",
      "model_name": "HTMLModel",
      "state": {
       "_dom_classes": [],
       "_model_module": "@jupyter-widgets/controls",
       "_model_module_version": "2.0.0",
       "_model_name": "HTMLModel",
       "_view_count": null,
       "_view_module": "@jupyter-widgets/controls",
       "_view_module_version": "2.0.0",
       "_view_name": "HTMLView",
       "description": "",
       "description_allow_html": false,
       "layout": "IPY_MODEL_4383ed748d67454d930088be847e1b7a",
       "placeholder": "​",
       "style": "IPY_MODEL_4e4f908e7dfd438dbcb573637b82097f",
       "tabbable": null,
       "tooltip": null,
       "value": " 313/313 [00:01&lt;00:00, 268.39it/s]"
      }
     },
     "c19b3a6da7ad4b6aab8159f7af301cc6": {
      "model_module": "@jupyter-widgets/base",
      "model_module_version": "2.0.0",
      "model_name": "LayoutModel",
      "state": {
       "_model_module": "@jupyter-widgets/base",
       "_model_module_version": "2.0.0",
       "_model_name": "LayoutModel",
       "_view_count": null,
       "_view_module": "@jupyter-widgets/base",
       "_view_module_version": "2.0.0",
       "_view_name": "LayoutView",
       "align_content": null,
       "align_items": null,
       "align_self": null,
       "border_bottom": null,
       "border_left": null,
       "border_right": null,
       "border_top": null,
       "bottom": null,
       "display": null,
       "flex": null,
       "flex_flow": null,
       "grid_area": null,
       "grid_auto_columns": null,
       "grid_auto_flow": null,
       "grid_auto_rows": null,
       "grid_column": null,
       "grid_gap": null,
       "grid_row": null,
       "grid_template_areas": null,
       "grid_template_columns": null,
       "grid_template_rows": null,
       "height": null,
       "justify_content": null,
       "justify_items": null,
       "left": null,
       "margin": null,
       "max_height": null,
       "max_width": null,
       "min_height": null,
       "min_width": null,
       "object_fit": null,
       "object_position": null,
       "order": null,
       "overflow": null,
       "padding": null,
       "right": null,
       "top": null,
       "visibility": null,
       "width": null
      }
     },
     "c76c91fccf3b4bd1a3baed7a561b2335": {
      "model_module": "@jupyter-widgets/controls",
      "model_module_version": "2.0.0",
      "model_name": "FloatProgressModel",
      "state": {
       "_dom_classes": [],
       "_model_module": "@jupyter-widgets/controls",
       "_model_module_version": "2.0.0",
       "_model_name": "FloatProgressModel",
       "_view_count": null,
       "_view_module": "@jupyter-widgets/controls",
       "_view_module_version": "2.0.0",
       "_view_name": "ProgressView",
       "bar_style": "danger",
       "description": "",
       "description_allow_html": false,
       "layout": "IPY_MODEL_ee8748a9f1024fc3a9df9c648e636db7",
       "max": 313.0,
       "min": 0.0,
       "orientation": "horizontal",
       "style": "IPY_MODEL_7e290e74fb8347ccbd60697443ff7fbf",
       "tabbable": null,
       "tooltip": null,
       "value": 0.0
      }
     },
     "c834b7af45b44982ac5125fa8e66eb23": {
      "model_module": "@jupyter-widgets/base",
      "model_module_version": "2.0.0",
      "model_name": "LayoutModel",
      "state": {
       "_model_module": "@jupyter-widgets/base",
       "_model_module_version": "2.0.0",
       "_model_name": "LayoutModel",
       "_view_count": null,
       "_view_module": "@jupyter-widgets/base",
       "_view_module_version": "2.0.0",
       "_view_name": "LayoutView",
       "align_content": null,
       "align_items": null,
       "align_self": null,
       "border_bottom": null,
       "border_left": null,
       "border_right": null,
       "border_top": null,
       "bottom": null,
       "display": null,
       "flex": null,
       "flex_flow": null,
       "grid_area": null,
       "grid_auto_columns": null,
       "grid_auto_flow": null,
       "grid_auto_rows": null,
       "grid_column": null,
       "grid_gap": null,
       "grid_row": null,
       "grid_template_areas": null,
       "grid_template_columns": null,
       "grid_template_rows": null,
       "height": null,
       "justify_content": null,
       "justify_items": null,
       "left": null,
       "margin": null,
       "max_height": null,
       "max_width": null,
       "min_height": null,
       "min_width": null,
       "object_fit": null,
       "object_position": null,
       "order": null,
       "overflow": null,
       "padding": null,
       "right": null,
       "top": null,
       "visibility": null,
       "width": null
      }
     },
     "cd50fa7db1d44a6ba17fe22ed53f1397": {
      "model_module": "@jupyter-widgets/controls",
      "model_module_version": "2.0.0",
      "model_name": "HTMLStyleModel",
      "state": {
       "_model_module": "@jupyter-widgets/controls",
       "_model_module_version": "2.0.0",
       "_model_name": "HTMLStyleModel",
       "_view_count": null,
       "_view_module": "@jupyter-widgets/base",
       "_view_module_version": "2.0.0",
       "_view_name": "StyleView",
       "background": null,
       "description_width": "",
       "font_size": null,
       "text_color": null
      }
     },
     "d3ceef72d4a943f9a423d29314c8a0bd": {
      "model_module": "@jupyter-widgets/controls",
      "model_module_version": "2.0.0",
      "model_name": "FloatProgressModel",
      "state": {
       "_dom_classes": [],
       "_model_module": "@jupyter-widgets/controls",
       "_model_module_version": "2.0.0",
       "_model_name": "FloatProgressModel",
       "_view_count": null,
       "_view_module": "@jupyter-widgets/controls",
       "_view_module_version": "2.0.0",
       "_view_name": "ProgressView",
       "bar_style": "success",
       "description": "",
       "description_allow_html": false,
       "layout": "IPY_MODEL_51479b05ace04f05a67bf8b57b2f0c9f",
       "max": 313.0,
       "min": 0.0,
       "orientation": "horizontal",
       "style": "IPY_MODEL_fc574d983a004202b2b465c2346b6b17",
       "tabbable": null,
       "tooltip": null,
       "value": 313.0
      }
     },
     "d55b5a1d6f094d55ad7fbdf273e48b39": {
      "model_module": "@jupyter-widgets/base",
      "model_module_version": "2.0.0",
      "model_name": "LayoutModel",
      "state": {
       "_model_module": "@jupyter-widgets/base",
       "_model_module_version": "2.0.0",
       "_model_name": "LayoutModel",
       "_view_count": null,
       "_view_module": "@jupyter-widgets/base",
       "_view_module_version": "2.0.0",
       "_view_name": "LayoutView",
       "align_content": null,
       "align_items": null,
       "align_self": null,
       "border_bottom": null,
       "border_left": null,
       "border_right": null,
       "border_top": null,
       "bottom": null,
       "display": null,
       "flex": null,
       "flex_flow": null,
       "grid_area": null,
       "grid_auto_columns": null,
       "grid_auto_flow": null,
       "grid_auto_rows": null,
       "grid_column": null,
       "grid_gap": null,
       "grid_row": null,
       "grid_template_areas": null,
       "grid_template_columns": null,
       "grid_template_rows": null,
       "height": null,
       "justify_content": null,
       "justify_items": null,
       "left": null,
       "margin": null,
       "max_height": null,
       "max_width": null,
       "min_height": null,
       "min_width": null,
       "object_fit": null,
       "object_position": null,
       "order": null,
       "overflow": null,
       "padding": null,
       "right": null,
       "top": null,
       "visibility": null,
       "width": null
      }
     },
     "d99ba1cfd11047fe8186a2c8038e3e60": {
      "model_module": "@jupyter-widgets/base",
      "model_module_version": "2.0.0",
      "model_name": "LayoutModel",
      "state": {
       "_model_module": "@jupyter-widgets/base",
       "_model_module_version": "2.0.0",
       "_model_name": "LayoutModel",
       "_view_count": null,
       "_view_module": "@jupyter-widgets/base",
       "_view_module_version": "2.0.0",
       "_view_name": "LayoutView",
       "align_content": null,
       "align_items": null,
       "align_self": null,
       "border_bottom": null,
       "border_left": null,
       "border_right": null,
       "border_top": null,
       "bottom": null,
       "display": null,
       "flex": null,
       "flex_flow": null,
       "grid_area": null,
       "grid_auto_columns": null,
       "grid_auto_flow": null,
       "grid_auto_rows": null,
       "grid_column": null,
       "grid_gap": null,
       "grid_row": null,
       "grid_template_areas": null,
       "grid_template_columns": null,
       "grid_template_rows": null,
       "height": null,
       "justify_content": null,
       "justify_items": null,
       "left": null,
       "margin": null,
       "max_height": null,
       "max_width": null,
       "min_height": null,
       "min_width": null,
       "object_fit": null,
       "object_position": null,
       "order": null,
       "overflow": null,
       "padding": null,
       "right": null,
       "top": null,
       "visibility": null,
       "width": null
      }
     },
     "db00ec3e2cfd4d61bc0bd6630a6c4d74": {
      "model_module": "@jupyter-widgets/controls",
      "model_module_version": "2.0.0",
      "model_name": "HTMLModel",
      "state": {
       "_dom_classes": [],
       "_model_module": "@jupyter-widgets/controls",
       "_model_module_version": "2.0.0",
       "_model_name": "HTMLModel",
       "_view_count": null,
       "_view_module": "@jupyter-widgets/controls",
       "_view_module_version": "2.0.0",
       "_view_name": "HTMLView",
       "description": "",
       "description_allow_html": false,
       "layout": "IPY_MODEL_4ec3742bb21d44e883bf106b654a9b5b",
       "placeholder": "​",
       "style": "IPY_MODEL_97f3229785f2442f93eb03792e3c6412",
       "tabbable": null,
       "tooltip": null,
       "value": "100%"
      }
     },
     "db7e9dfc9a4d439faea82481c7aabc5c": {
      "model_module": "@jupyter-widgets/base",
      "model_module_version": "2.0.0",
      "model_name": "LayoutModel",
      "state": {
       "_model_module": "@jupyter-widgets/base",
       "_model_module_version": "2.0.0",
       "_model_name": "LayoutModel",
       "_view_count": null,
       "_view_module": "@jupyter-widgets/base",
       "_view_module_version": "2.0.0",
       "_view_name": "LayoutView",
       "align_content": null,
       "align_items": null,
       "align_self": null,
       "border_bottom": null,
       "border_left": null,
       "border_right": null,
       "border_top": null,
       "bottom": null,
       "display": null,
       "flex": null,
       "flex_flow": null,
       "grid_area": null,
       "grid_auto_columns": null,
       "grid_auto_flow": null,
       "grid_auto_rows": null,
       "grid_column": null,
       "grid_gap": null,
       "grid_row": null,
       "grid_template_areas": null,
       "grid_template_columns": null,
       "grid_template_rows": null,
       "height": null,
       "justify_content": null,
       "justify_items": null,
       "left": null,
       "margin": null,
       "max_height": null,
       "max_width": null,
       "min_height": null,
       "min_width": null,
       "object_fit": null,
       "object_position": null,
       "order": null,
       "overflow": null,
       "padding": null,
       "right": null,
       "top": null,
       "visibility": null,
       "width": null
      }
     },
     "dbb7b1ea00ab43359f3d898dfb50a05e": {
      "model_module": "@jupyter-widgets/controls",
      "model_module_version": "2.0.0",
      "model_name": "HTMLModel",
      "state": {
       "_dom_classes": [],
       "_model_module": "@jupyter-widgets/controls",
       "_model_module_version": "2.0.0",
       "_model_name": "HTMLModel",
       "_view_count": null,
       "_view_module": "@jupyter-widgets/controls",
       "_view_module_version": "2.0.0",
       "_view_name": "HTMLView",
       "description": "",
       "description_allow_html": false,
       "layout": "IPY_MODEL_71ee832fc3694e6eabf3864e2d0a9e81",
       "placeholder": "​",
       "style": "IPY_MODEL_59de147aaa284e4c92fb98df77d7b6ff",
       "tabbable": null,
       "tooltip": null,
       "value": " 3/3 [00:32&lt;00:00, 10.92s/it]"
      }
     },
     "debf6acfc8694e4fa6cb007224fd8b66": {
      "model_module": "@jupyter-widgets/controls",
      "model_module_version": "2.0.0",
      "model_name": "FloatProgressModel",
      "state": {
       "_dom_classes": [],
       "_model_module": "@jupyter-widgets/controls",
       "_model_module_version": "2.0.0",
       "_model_name": "FloatProgressModel",
       "_view_count": null,
       "_view_module": "@jupyter-widgets/controls",
       "_view_module_version": "2.0.0",
       "_view_name": "ProgressView",
       "bar_style": "success",
       "description": "",
       "description_allow_html": false,
       "layout": "IPY_MODEL_b3cc58b425d044378ffb10fc855af7d5",
       "max": 3.0,
       "min": 0.0,
       "orientation": "horizontal",
       "style": "IPY_MODEL_0e0ddf3430b144b3a0e89f850cc16005",
       "tabbable": null,
       "tooltip": null,
       "value": 3.0
      }
     },
     "e36133505ed44c908c97b0aeed359bf8": {
      "model_module": "@jupyter-widgets/controls",
      "model_module_version": "2.0.0",
      "model_name": "HTMLStyleModel",
      "state": {
       "_model_module": "@jupyter-widgets/controls",
       "_model_module_version": "2.0.0",
       "_model_name": "HTMLStyleModel",
       "_view_count": null,
       "_view_module": "@jupyter-widgets/base",
       "_view_module_version": "2.0.0",
       "_view_name": "StyleView",
       "background": null,
       "description_width": "",
       "font_size": null,
       "text_color": null
      }
     },
     "e536354eced3400ebc3b38e58ff5303d": {
      "model_module": "@jupyter-widgets/controls",
      "model_module_version": "2.0.0",
      "model_name": "ProgressStyleModel",
      "state": {
       "_model_module": "@jupyter-widgets/controls",
       "_model_module_version": "2.0.0",
       "_model_name": "ProgressStyleModel",
       "_view_count": null,
       "_view_module": "@jupyter-widgets/base",
       "_view_module_version": "2.0.0",
       "_view_name": "StyleView",
       "bar_color": null,
       "description_width": ""
      }
     },
     "e766582d378845f4829a249d906458d2": {
      "model_module": "@jupyter-widgets/controls",
      "model_module_version": "2.0.0",
      "model_name": "HTMLStyleModel",
      "state": {
       "_model_module": "@jupyter-widgets/controls",
       "_model_module_version": "2.0.0",
       "_model_name": "HTMLStyleModel",
       "_view_count": null,
       "_view_module": "@jupyter-widgets/base",
       "_view_module_version": "2.0.0",
       "_view_name": "StyleView",
       "background": null,
       "description_width": "",
       "font_size": null,
       "text_color": null
      }
     },
     "ed82713ba7544b6b890c93dd8c4830af": {
      "model_module": "@jupyter-widgets/controls",
      "model_module_version": "2.0.0",
      "model_name": "HTMLModel",
      "state": {
       "_dom_classes": [],
       "_model_module": "@jupyter-widgets/controls",
       "_model_module_version": "2.0.0",
       "_model_name": "HTMLModel",
       "_view_count": null,
       "_view_module": "@jupyter-widgets/controls",
       "_view_module_version": "2.0.0",
       "_view_name": "HTMLView",
       "description": "",
       "description_allow_html": false,
       "layout": "IPY_MODEL_0a5d2a964b29449f99b2adddd7c63425",
       "placeholder": "​",
       "style": "IPY_MODEL_57726202a57041f0ba86e1be08303c30",
       "tabbable": null,
       "tooltip": null,
       "value": " 3/3 [00:25&lt;00:00,  8.58s/it]"
      }
     },
     "ee8748a9f1024fc3a9df9c648e636db7": {
      "model_module": "@jupyter-widgets/base",
      "model_module_version": "2.0.0",
      "model_name": "LayoutModel",
      "state": {
       "_model_module": "@jupyter-widgets/base",
       "_model_module_version": "2.0.0",
       "_model_name": "LayoutModel",
       "_view_count": null,
       "_view_module": "@jupyter-widgets/base",
       "_view_module_version": "2.0.0",
       "_view_name": "LayoutView",
       "align_content": null,
       "align_items": null,
       "align_self": null,
       "border_bottom": null,
       "border_left": null,
       "border_right": null,
       "border_top": null,
       "bottom": null,
       "display": null,
       "flex": null,
       "flex_flow": null,
       "grid_area": null,
       "grid_auto_columns": null,
       "grid_auto_flow": null,
       "grid_auto_rows": null,
       "grid_column": null,
       "grid_gap": null,
       "grid_row": null,
       "grid_template_areas": null,
       "grid_template_columns": null,
       "grid_template_rows": null,
       "height": null,
       "justify_content": null,
       "justify_items": null,
       "left": null,
       "margin": null,
       "max_height": null,
       "max_width": null,
       "min_height": null,
       "min_width": null,
       "object_fit": null,
       "object_position": null,
       "order": null,
       "overflow": null,
       "padding": null,
       "right": null,
       "top": null,
       "visibility": null,
       "width": null
      }
     },
     "f3aec19f3aee4af78c2b9f044bae463b": {
      "model_module": "@jupyter-widgets/base",
      "model_module_version": "2.0.0",
      "model_name": "LayoutModel",
      "state": {
       "_model_module": "@jupyter-widgets/base",
       "_model_module_version": "2.0.0",
       "_model_name": "LayoutModel",
       "_view_count": null,
       "_view_module": "@jupyter-widgets/base",
       "_view_module_version": "2.0.0",
       "_view_name": "LayoutView",
       "align_content": null,
       "align_items": null,
       "align_self": null,
       "border_bottom": null,
       "border_left": null,
       "border_right": null,
       "border_top": null,
       "bottom": null,
       "display": null,
       "flex": null,
       "flex_flow": null,
       "grid_area": null,
       "grid_auto_columns": null,
       "grid_auto_flow": null,
       "grid_auto_rows": null,
       "grid_column": null,
       "grid_gap": null,
       "grid_row": null,
       "grid_template_areas": null,
       "grid_template_columns": null,
       "grid_template_rows": null,
       "height": null,
       "justify_content": null,
       "justify_items": null,
       "left": null,
       "margin": null,
       "max_height": null,
       "max_width": null,
       "min_height": null,
       "min_width": null,
       "object_fit": null,
       "object_position": null,
       "order": null,
       "overflow": null,
       "padding": null,
       "right": null,
       "top": null,
       "visibility": null,
       "width": null
      }
     },
     "fc574d983a004202b2b465c2346b6b17": {
      "model_module": "@jupyter-widgets/controls",
      "model_module_version": "2.0.0",
      "model_name": "ProgressStyleModel",
      "state": {
       "_model_module": "@jupyter-widgets/controls",
       "_model_module_version": "2.0.0",
       "_model_name": "ProgressStyleModel",
       "_view_count": null,
       "_view_module": "@jupyter-widgets/base",
       "_view_module_version": "2.0.0",
       "_view_name": "StyleView",
       "bar_color": null,
       "description_width": ""
      }
     }
    },
    "version_major": 2,
    "version_minor": 0
   }
  }
 },
 "nbformat": 4,
 "nbformat_minor": 5
}
